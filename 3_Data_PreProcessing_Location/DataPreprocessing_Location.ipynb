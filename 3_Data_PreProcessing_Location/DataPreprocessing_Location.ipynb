{
 "cells": [
  {
   "cell_type": "markdown",
   "id": "ea1f29fe",
   "metadata": {},
   "source": [
    "### Importing Libraries"
   ]
  },
  {
   "cell_type": "code",
   "execution_count": 1,
   "id": "3d72fe11",
   "metadata": {},
   "outputs": [],
   "source": [
    "import pandas as pd\n",
    "from geopy.geocoders import Nominatim"
   ]
  },
  {
   "cell_type": "markdown",
   "id": "04ca6f86",
   "metadata": {},
   "source": [
    "### Pre-Processing Location Column"
   ]
  },
  {
   "cell_type": "code",
   "execution_count": 2,
   "id": "b25b9489",
   "metadata": {},
   "outputs": [],
   "source": [
    "# Load the dataframe\n",
    "df = pd.read_excel('CleanedData.xlsx')"
   ]
  },
  {
   "cell_type": "code",
   "execution_count": 3,
   "id": "204f30cb",
   "metadata": {},
   "outputs": [
    {
     "data": {
      "text/html": [
       "<div>\n",
       "<style scoped>\n",
       "    .dataframe tbody tr th:only-of-type {\n",
       "        vertical-align: middle;\n",
       "    }\n",
       "\n",
       "    .dataframe tbody tr th {\n",
       "        vertical-align: top;\n",
       "    }\n",
       "\n",
       "    .dataframe thead th {\n",
       "        text-align: right;\n",
       "    }\n",
       "</style>\n",
       "<table border=\"1\" class=\"dataframe\">\n",
       "  <thead>\n",
       "    <tr style=\"text-align: right;\">\n",
       "      <th></th>\n",
       "      <th>Date</th>\n",
       "      <th>UserName</th>\n",
       "      <th>Tweet</th>\n",
       "      <th>Location</th>\n",
       "      <th>IsVerified_True</th>\n",
       "      <th>extracted_hashtags</th>\n",
       "      <th>clean_tweet</th>\n",
       "      <th>tokenized_tweet</th>\n",
       "      <th>lemmatized_tweet</th>\n",
       "      <th>stemmed_tweet</th>\n",
       "    </tr>\n",
       "  </thead>\n",
       "  <tbody>\n",
       "    <tr>\n",
       "      <th>0</th>\n",
       "      <td>12/1/22</td>\n",
       "      <td>mazen160</td>\n",
       "      <td>@bitquark I am looking forward for a ChatGPT A...</td>\n",
       "      <td>At a server near you.</td>\n",
       "      <td>0</td>\n",
       "      <td>[]</td>\n",
       "      <td>looking forward api lot tools built</td>\n",
       "      <td>['looking', 'forward', 'api', 'lot', 'tools', ...</td>\n",
       "      <td>['looking', 'forward', 'api', 'lot', 'tools', ...</td>\n",
       "      <td>['look', 'forward', 'api', 'lot', 'tool', 'bui...</td>\n",
       "    </tr>\n",
       "    <tr>\n",
       "      <th>1</th>\n",
       "      <td>12/1/22</td>\n",
       "      <td>ZoumanaCisse6</td>\n",
       "      <td>i think i broke chatGPT. it's been frozen for ...</td>\n",
       "      <td>Bay area</td>\n",
       "      <td>0</td>\n",
       "      <td>[]</td>\n",
       "      <td>think broke frozen couple minutes</td>\n",
       "      <td>['think', 'broke', 'frozen', 'couple', 'minutes']</td>\n",
       "      <td>['think', 'broke', 'frozen', 'couple', 'minutes']</td>\n",
       "      <td>['think', 'broke', 'frozen', 'coupl', 'minut']</td>\n",
       "    </tr>\n",
       "    <tr>\n",
       "      <th>2</th>\n",
       "      <td>12/1/22</td>\n",
       "      <td>DennisLibre</td>\n",
       "      <td>I like ChatGPT as much as the next guy, but th...</td>\n",
       "      <td>Miami</td>\n",
       "      <td>0</td>\n",
       "      <td>[]</td>\n",
       "      <td>like guy theres twitter im looking guy tweets ...</td>\n",
       "      <td>['like', 'guy', 'theres', 'twitter', 'im', 'lo...</td>\n",
       "      <td>['like', 'guy', 'theres', 'twitter', 'im', 'lo...</td>\n",
       "      <td>['like', 'guy', 'there', 'twitter', 'im', 'loo...</td>\n",
       "    </tr>\n",
       "    <tr>\n",
       "      <th>3</th>\n",
       "      <td>12/1/22</td>\n",
       "      <td>mpaepper</td>\n",
       "      <td>It seems like sth. was changed here, because I...</td>\n",
       "      <td>Hamburg, Germany</td>\n",
       "      <td>0</td>\n",
       "      <td>[]</td>\n",
       "      <td>like sth changed replicate behavior refuses wr...</td>\n",
       "      <td>['like', 'sth', 'changed', 'replicate', 'behav...</td>\n",
       "      <td>['like', 'sth', 'changed', 'replicate', 'behav...</td>\n",
       "      <td>['like', 'sth', 'chang', 'replic', 'behavior',...</td>\n",
       "    </tr>\n",
       "    <tr>\n",
       "      <th>4</th>\n",
       "      <td>12/1/22</td>\n",
       "      <td>AaronSitze</td>\n",
       "      <td>I know ChatGPT is just crawling for inputs. \\n...</td>\n",
       "      <td>Illinois, USA</td>\n",
       "      <td>0</td>\n",
       "      <td>[]</td>\n",
       "      <td>know crawling inputs nneven makes sad vision e...</td>\n",
       "      <td>['know', 'crawling', 'inputs', 'nneven', 'make...</td>\n",
       "      <td>['know', 'crawling', 'inputs', 'nneven', 'make...</td>\n",
       "      <td>['know', 'crawl', 'input', 'nneven', 'make', '...</td>\n",
       "    </tr>\n",
       "  </tbody>\n",
       "</table>\n",
       "</div>"
      ],
      "text/plain": [
       "      Date       UserName                                              Tweet  \\\n",
       "0  12/1/22       mazen160  @bitquark I am looking forward for a ChatGPT A...   \n",
       "1  12/1/22  ZoumanaCisse6  i think i broke chatGPT. it's been frozen for ...   \n",
       "2  12/1/22    DennisLibre  I like ChatGPT as much as the next guy, but th...   \n",
       "3  12/1/22       mpaepper  It seems like sth. was changed here, because I...   \n",
       "4  12/1/22     AaronSitze  I know ChatGPT is just crawling for inputs. \\n...   \n",
       "\n",
       "                Location  IsVerified_True extracted_hashtags  \\\n",
       "0  At a server near you.                0                 []   \n",
       "1               Bay area                0                 []   \n",
       "2                  Miami                0                 []   \n",
       "3       Hamburg, Germany                0                 []   \n",
       "4          Illinois, USA                0                 []   \n",
       "\n",
       "                                         clean_tweet  \\\n",
       "0                looking forward api lot tools built   \n",
       "1                  think broke frozen couple minutes   \n",
       "2  like guy theres twitter im looking guy tweets ...   \n",
       "3  like sth changed replicate behavior refuses wr...   \n",
       "4  know crawling inputs nneven makes sad vision e...   \n",
       "\n",
       "                                     tokenized_tweet  \\\n",
       "0  ['looking', 'forward', 'api', 'lot', 'tools', ...   \n",
       "1  ['think', 'broke', 'frozen', 'couple', 'minutes']   \n",
       "2  ['like', 'guy', 'theres', 'twitter', 'im', 'lo...   \n",
       "3  ['like', 'sth', 'changed', 'replicate', 'behav...   \n",
       "4  ['know', 'crawling', 'inputs', 'nneven', 'make...   \n",
       "\n",
       "                                    lemmatized_tweet  \\\n",
       "0  ['looking', 'forward', 'api', 'lot', 'tools', ...   \n",
       "1  ['think', 'broke', 'frozen', 'couple', 'minutes']   \n",
       "2  ['like', 'guy', 'theres', 'twitter', 'im', 'lo...   \n",
       "3  ['like', 'sth', 'changed', 'replicate', 'behav...   \n",
       "4  ['know', 'crawling', 'inputs', 'nneven', 'make...   \n",
       "\n",
       "                                       stemmed_tweet  \n",
       "0  ['look', 'forward', 'api', 'lot', 'tool', 'bui...  \n",
       "1     ['think', 'broke', 'frozen', 'coupl', 'minut']  \n",
       "2  ['like', 'guy', 'there', 'twitter', 'im', 'loo...  \n",
       "3  ['like', 'sth', 'chang', 'replic', 'behavior',...  \n",
       "4  ['know', 'crawl', 'input', 'nneven', 'make', '...  "
      ]
     },
     "execution_count": 3,
     "metadata": {},
     "output_type": "execute_result"
    }
   ],
   "source": [
    "df.head()"
   ]
  },
  {
   "cell_type": "code",
   "execution_count": 4,
   "id": "ef1b5025",
   "metadata": {},
   "outputs": [
    {
     "data": {
      "text/plain": [
       "(716810, 10)"
      ]
     },
     "execution_count": 4,
     "metadata": {},
     "output_type": "execute_result"
    }
   ],
   "source": [
    "df.shape"
   ]
  },
  {
   "cell_type": "code",
   "execution_count": 5,
   "id": "89bd7731",
   "metadata": {},
   "outputs": [
    {
     "data": {
      "text/plain": [
       "Date                      0\n",
       "UserName                  0\n",
       "Tweet                     0\n",
       "Location                  0\n",
       "IsVerified_True           0\n",
       "extracted_hashtags        0\n",
       "clean_tweet           18796\n",
       "tokenized_tweet           0\n",
       "lemmatized_tweet          0\n",
       "stemmed_tweet             0\n",
       "dtype: int64"
      ]
     },
     "execution_count": 5,
     "metadata": {},
     "output_type": "execute_result"
    }
   ],
   "source": [
    "df.isnull().sum()"
   ]
  },
  {
   "cell_type": "code",
   "execution_count": 6,
   "id": "0471f8c1",
   "metadata": {},
   "outputs": [],
   "source": [
    "df = df.dropna(how= \"any\").copy()"
   ]
  },
  {
   "cell_type": "code",
   "execution_count": 7,
   "id": "b78a2f3f",
   "metadata": {},
   "outputs": [
    {
     "data": {
      "text/plain": [
       "Date                  0\n",
       "UserName              0\n",
       "Tweet                 0\n",
       "Location              0\n",
       "IsVerified_True       0\n",
       "extracted_hashtags    0\n",
       "clean_tweet           0\n",
       "tokenized_tweet       0\n",
       "lemmatized_tweet      0\n",
       "stemmed_tweet         0\n",
       "dtype: int64"
      ]
     },
     "execution_count": 7,
     "metadata": {},
     "output_type": "execute_result"
    }
   ],
   "source": [
    "df.isnull().sum()"
   ]
  },
  {
   "cell_type": "code",
   "execution_count": 8,
   "id": "91102a8a",
   "metadata": {},
   "outputs": [
    {
     "data": {
      "text/plain": [
       "United States        11567\n",
       "India                10170\n",
       "London, England       7334\n",
       "San Francisco, CA     7033\n",
       "New York, NY          6882\n",
       "                     ...  \n",
       "No Regrets               1\n",
       "Noida, India...          1\n",
       "Bloggosfera              1\n",
       "dvlan buhgz ty6ie        1\n",
       "The Blastzone            1\n",
       "Name: Location, Length: 91316, dtype: int64"
      ]
     },
     "execution_count": 8,
     "metadata": {},
     "output_type": "execute_result"
    }
   ],
   "source": [
    "df['Location'].value_counts()"
   ]
  },
  {
   "cell_type": "code",
   "execution_count": 9,
   "id": "fa56b1df",
   "metadata": {},
   "outputs": [
    {
     "data": {
      "text/html": [
       "<div>\n",
       "<style scoped>\n",
       "    .dataframe tbody tr th:only-of-type {\n",
       "        vertical-align: middle;\n",
       "    }\n",
       "\n",
       "    .dataframe tbody tr th {\n",
       "        vertical-align: top;\n",
       "    }\n",
       "\n",
       "    .dataframe thead th {\n",
       "        text-align: right;\n",
       "    }\n",
       "</style>\n",
       "<table border=\"1\" class=\"dataframe\">\n",
       "  <thead>\n",
       "    <tr style=\"text-align: right;\">\n",
       "      <th></th>\n",
       "      <th>index</th>\n",
       "      <th>Date</th>\n",
       "      <th>UserName</th>\n",
       "      <th>Tweet</th>\n",
       "      <th>Location</th>\n",
       "      <th>IsVerified_True</th>\n",
       "      <th>extracted_hashtags</th>\n",
       "      <th>clean_tweet</th>\n",
       "      <th>tokenized_tweet</th>\n",
       "      <th>lemmatized_tweet</th>\n",
       "      <th>stemmed_tweet</th>\n",
       "    </tr>\n",
       "  </thead>\n",
       "  <tbody>\n",
       "    <tr>\n",
       "      <th>0</th>\n",
       "      <td>0</td>\n",
       "      <td>12/1/22</td>\n",
       "      <td>mazen160</td>\n",
       "      <td>@bitquark I am looking forward for a ChatGPT A...</td>\n",
       "      <td>At a server near you.</td>\n",
       "      <td>0</td>\n",
       "      <td>[]</td>\n",
       "      <td>looking forward api lot tools built</td>\n",
       "      <td>['looking', 'forward', 'api', 'lot', 'tools', ...</td>\n",
       "      <td>['looking', 'forward', 'api', 'lot', 'tools', ...</td>\n",
       "      <td>['look', 'forward', 'api', 'lot', 'tool', 'bui...</td>\n",
       "    </tr>\n",
       "    <tr>\n",
       "      <th>1</th>\n",
       "      <td>1</td>\n",
       "      <td>12/1/22</td>\n",
       "      <td>ZoumanaCisse6</td>\n",
       "      <td>i think i broke chatGPT. it's been frozen for ...</td>\n",
       "      <td>Bay area</td>\n",
       "      <td>0</td>\n",
       "      <td>[]</td>\n",
       "      <td>think broke frozen couple minutes</td>\n",
       "      <td>['think', 'broke', 'frozen', 'couple', 'minutes']</td>\n",
       "      <td>['think', 'broke', 'frozen', 'couple', 'minutes']</td>\n",
       "      <td>['think', 'broke', 'frozen', 'coupl', 'minut']</td>\n",
       "    </tr>\n",
       "    <tr>\n",
       "      <th>2</th>\n",
       "      <td>2</td>\n",
       "      <td>12/1/22</td>\n",
       "      <td>DennisLibre</td>\n",
       "      <td>I like ChatGPT as much as the next guy, but th...</td>\n",
       "      <td>Miami</td>\n",
       "      <td>0</td>\n",
       "      <td>[]</td>\n",
       "      <td>like guy theres twitter im looking guy tweets ...</td>\n",
       "      <td>['like', 'guy', 'theres', 'twitter', 'im', 'lo...</td>\n",
       "      <td>['like', 'guy', 'theres', 'twitter', 'im', 'lo...</td>\n",
       "      <td>['like', 'guy', 'there', 'twitter', 'im', 'loo...</td>\n",
       "    </tr>\n",
       "    <tr>\n",
       "      <th>3</th>\n",
       "      <td>3</td>\n",
       "      <td>12/1/22</td>\n",
       "      <td>mpaepper</td>\n",
       "      <td>It seems like sth. was changed here, because I...</td>\n",
       "      <td>Hamburg, Germany</td>\n",
       "      <td>0</td>\n",
       "      <td>[]</td>\n",
       "      <td>like sth changed replicate behavior refuses wr...</td>\n",
       "      <td>['like', 'sth', 'changed', 'replicate', 'behav...</td>\n",
       "      <td>['like', 'sth', 'changed', 'replicate', 'behav...</td>\n",
       "      <td>['like', 'sth', 'chang', 'replic', 'behavior',...</td>\n",
       "    </tr>\n",
       "    <tr>\n",
       "      <th>4</th>\n",
       "      <td>4</td>\n",
       "      <td>12/1/22</td>\n",
       "      <td>AaronSitze</td>\n",
       "      <td>I know ChatGPT is just crawling for inputs. \\n...</td>\n",
       "      <td>Illinois, USA</td>\n",
       "      <td>0</td>\n",
       "      <td>[]</td>\n",
       "      <td>know crawling inputs nneven makes sad vision e...</td>\n",
       "      <td>['know', 'crawling', 'inputs', 'nneven', 'make...</td>\n",
       "      <td>['know', 'crawling', 'inputs', 'nneven', 'make...</td>\n",
       "      <td>['know', 'crawl', 'input', 'nneven', 'make', '...</td>\n",
       "    </tr>\n",
       "  </tbody>\n",
       "</table>\n",
       "</div>"
      ],
      "text/plain": [
       "   index     Date       UserName  \\\n",
       "0      0  12/1/22       mazen160   \n",
       "1      1  12/1/22  ZoumanaCisse6   \n",
       "2      2  12/1/22    DennisLibre   \n",
       "3      3  12/1/22       mpaepper   \n",
       "4      4  12/1/22     AaronSitze   \n",
       "\n",
       "                                               Tweet               Location  \\\n",
       "0  @bitquark I am looking forward for a ChatGPT A...  At a server near you.   \n",
       "1  i think i broke chatGPT. it's been frozen for ...               Bay area   \n",
       "2  I like ChatGPT as much as the next guy, but th...                  Miami   \n",
       "3  It seems like sth. was changed here, because I...       Hamburg, Germany   \n",
       "4  I know ChatGPT is just crawling for inputs. \\n...          Illinois, USA   \n",
       "\n",
       "   IsVerified_True extracted_hashtags  \\\n",
       "0                0                 []   \n",
       "1                0                 []   \n",
       "2                0                 []   \n",
       "3                0                 []   \n",
       "4                0                 []   \n",
       "\n",
       "                                         clean_tweet  \\\n",
       "0                looking forward api lot tools built   \n",
       "1                  think broke frozen couple minutes   \n",
       "2  like guy theres twitter im looking guy tweets ...   \n",
       "3  like sth changed replicate behavior refuses wr...   \n",
       "4  know crawling inputs nneven makes sad vision e...   \n",
       "\n",
       "                                     tokenized_tweet  \\\n",
       "0  ['looking', 'forward', 'api', 'lot', 'tools', ...   \n",
       "1  ['think', 'broke', 'frozen', 'couple', 'minutes']   \n",
       "2  ['like', 'guy', 'theres', 'twitter', 'im', 'lo...   \n",
       "3  ['like', 'sth', 'changed', 'replicate', 'behav...   \n",
       "4  ['know', 'crawling', 'inputs', 'nneven', 'make...   \n",
       "\n",
       "                                    lemmatized_tweet  \\\n",
       "0  ['looking', 'forward', 'api', 'lot', 'tools', ...   \n",
       "1  ['think', 'broke', 'frozen', 'couple', 'minutes']   \n",
       "2  ['like', 'guy', 'theres', 'twitter', 'im', 'lo...   \n",
       "3  ['like', 'sth', 'changed', 'replicate', 'behav...   \n",
       "4  ['know', 'crawling', 'inputs', 'nneven', 'make...   \n",
       "\n",
       "                                       stemmed_tweet  \n",
       "0  ['look', 'forward', 'api', 'lot', 'tool', 'bui...  \n",
       "1     ['think', 'broke', 'frozen', 'coupl', 'minut']  \n",
       "2  ['like', 'guy', 'there', 'twitter', 'im', 'loo...  \n",
       "3  ['like', 'sth', 'chang', 'replic', 'behavior',...  \n",
       "4  ['know', 'crawl', 'input', 'nneven', 'make', '...  "
      ]
     },
     "execution_count": 9,
     "metadata": {},
     "output_type": "execute_result"
    }
   ],
   "source": [
    "df_new = pd.DataFrame(df)\n",
    "\n",
    "# reset the index\n",
    "df_new = df_new.reset_index()\n",
    "df_new.drop(columns = ['index'])\n",
    "\n",
    "# print the dataframe\n",
    "df_new.head()"
   ]
  },
  {
   "cell_type": "markdown",
   "id": "9190c3cc",
   "metadata": {},
   "source": [
    "### Extracting Countries from Location Column."
   ]
  },
  {
   "cell_type": "code",
   "execution_count": 10,
   "id": "9ab57a59",
   "metadata": {},
   "outputs": [],
   "source": [
    "from geopy.exc import GeocoderTimedOut\n",
    "# Create a geolocator object\n",
    "geolocator = Nominatim(user_agent='my-app')\n",
    "\n",
    "# Define a function to get the country name\n",
    "def get_country(location, retries=3):\n",
    "    try:\n",
    "        # Use geolocator to get the location object\n",
    "        loc = geolocator.geocode(location, timeout=10)\n",
    "\n",
    "        # Use the location object to get the country name\n",
    "        return loc.raw['display_name'].split(',')[-1].strip()\n",
    "    except GeocoderServiceError as e:\n",
    "        # Retry up to the specified number of times, with an increasing delay between retries\n",
    "        if retries > 0:\n",
    "            delay = 2 ** (3 - retries)\n",
    "            print(f\"Geocoding failed with error '{e}', retrying in {delay} seconds...\")\n",
    "            time.sleep(delay)\n",
    "            return get_country(location, retries=retries-1)\n",
    "        else:\n",
    "            # Return None if the maximum number of retries has been reached\n",
    "            print(f\"Geocoding failed with error '{e}', maximum number of retries reached\")\n",
    "            return None\n",
    "    except (AttributeError, GeocoderTimedOut) as e:\n",
    "        # Return None if the location cannot be geocoded\n",
    "        print(f\"Geocoding failed with error '{e}'\")\n",
    "        return None"
   ]
  },
  {
   "cell_type": "markdown",
   "id": "c81e75dd",
   "metadata": {},
   "source": [
    "#### Executed the countries batch for every 5000 rows."
   ]
  },
  {
   "cell_type": "code",
   "execution_count": null,
   "id": "6724b737",
   "metadata": {},
   "outputs": [],
   "source": [
    "# Initialize the starting index and the batch size\n",
    "start_idx = 4508\n",
    "batch_size = 500\n",
    "\n",
    "# Loop until the end of the dataframe is reached or the maximum number of records is processed\n",
    "while start_idx < len(df) and start_idx < 5000:\n",
    "    # Get the ending index of the current batch\n",
    "    end_idx = start_idx + batch_size\n",
    "    \n",
    "    # Apply the function to the current batch and assign the results to the 'country' column\n",
    "    df_new.loc[start_idx:end_idx, 'country'] = df_new.loc[start_idx:end_idx, 'index'].apply(get_country)\n",
    "    \n",
    "    # Increment the starting index to the beginning of the next batch\n",
    "    start_idx = end_idx + 1\n",
    "\n",
    "    # Print a message to indicate the progress\n",
    "    print(f\"Processed {end_idx} records\")"
   ]
  },
  {
   "cell_type": "code",
   "execution_count": 11,
   "id": "76b1c999",
   "metadata": {},
   "outputs": [],
   "source": [
    "df_new = pd.read_csv('df.csv')"
   ]
  },
  {
   "cell_type": "code",
   "execution_count": 12,
   "id": "a4e07777",
   "metadata": {},
   "outputs": [],
   "source": [
    "df_new = df_new.rename(columns = {\"Location\": 'Value_counts', 'index' : 'Location'})"
   ]
  },
  {
   "cell_type": "code",
   "execution_count": 13,
   "id": "b174176a",
   "metadata": {},
   "outputs": [
    {
     "data": {
      "text/html": [
       "<div>\n",
       "<style scoped>\n",
       "    .dataframe tbody tr th:only-of-type {\n",
       "        vertical-align: middle;\n",
       "    }\n",
       "\n",
       "    .dataframe tbody tr th {\n",
       "        vertical-align: top;\n",
       "    }\n",
       "\n",
       "    .dataframe thead th {\n",
       "        text-align: right;\n",
       "    }\n",
       "</style>\n",
       "<table border=\"1\" class=\"dataframe\">\n",
       "  <thead>\n",
       "    <tr style=\"text-align: right;\">\n",
       "      <th></th>\n",
       "      <th>Location</th>\n",
       "      <th>Value_counts</th>\n",
       "      <th>country</th>\n",
       "    </tr>\n",
       "  </thead>\n",
       "  <tbody>\n",
       "    <tr>\n",
       "      <th>0</th>\n",
       "      <td>United States</td>\n",
       "      <td>11785</td>\n",
       "      <td>United States</td>\n",
       "    </tr>\n",
       "    <tr>\n",
       "      <th>1</th>\n",
       "      <td>India</td>\n",
       "      <td>10515</td>\n",
       "      <td>India</td>\n",
       "    </tr>\n",
       "    <tr>\n",
       "      <th>2</th>\n",
       "      <td>London, England</td>\n",
       "      <td>7474</td>\n",
       "      <td>United Kingdom</td>\n",
       "    </tr>\n",
       "    <tr>\n",
       "      <th>3</th>\n",
       "      <td>San Francisco, CA</td>\n",
       "      <td>7111</td>\n",
       "      <td>United States</td>\n",
       "    </tr>\n",
       "    <tr>\n",
       "      <th>4</th>\n",
       "      <td>New York, NY</td>\n",
       "      <td>6970</td>\n",
       "      <td>United States</td>\n",
       "    </tr>\n",
       "  </tbody>\n",
       "</table>\n",
       "</div>"
      ],
      "text/plain": [
       "            Location  Value_counts         country\n",
       "0      United States         11785   United States\n",
       "1              India         10515           India\n",
       "2    London, England          7474  United Kingdom\n",
       "3  San Francisco, CA          7111   United States\n",
       "4       New York, NY          6970   United States"
      ]
     },
     "execution_count": 13,
     "metadata": {},
     "output_type": "execute_result"
    }
   ],
   "source": [
    "df_new.head()"
   ]
  },
  {
   "cell_type": "code",
   "execution_count": 14,
   "id": "23d9c0e8",
   "metadata": {},
   "outputs": [
    {
     "data": {
      "text/plain": [
       "(94548, 3)"
      ]
     },
     "execution_count": 14,
     "metadata": {},
     "output_type": "execute_result"
    }
   ],
   "source": [
    "df_new.shape"
   ]
  },
  {
   "cell_type": "code",
   "execution_count": 15,
   "id": "44844498",
   "metadata": {},
   "outputs": [],
   "source": [
    "df_new.to_csv('Countries.csv', index = False)"
   ]
  },
  {
   "cell_type": "code",
   "execution_count": 16,
   "id": "1d31463e",
   "metadata": {},
   "outputs": [],
   "source": [
    "df_countries = pd.read_csv('Countries.csv')"
   ]
  },
  {
   "cell_type": "code",
   "execution_count": 17,
   "id": "1f170b3c",
   "metadata": {},
   "outputs": [
    {
     "data": {
      "text/plain": [
       "United States            1501\n",
       "United Kingdom            344\n",
       "India                     245\n",
       "Canada                    208\n",
       "Deutschland               127\n",
       "                         ... \n",
       "Pacific Ocean               1\n",
       "Crna Gora / Црна Гора       1\n",
       "Gabon                       1\n",
       "ދިވެހިރާއްޖެ                1\n",
       "Guyana                      1\n",
       "Name: country, Length: 174, dtype: int64"
      ]
     },
     "execution_count": 17,
     "metadata": {},
     "output_type": "execute_result"
    }
   ],
   "source": [
    "df_countries.country.value_counts()"
   ]
  },
  {
   "cell_type": "code",
   "execution_count": 18,
   "id": "161c6e0f",
   "metadata": {},
   "outputs": [
    {
     "data": {
      "text/html": [
       "<div>\n",
       "<style scoped>\n",
       "    .dataframe tbody tr th:only-of-type {\n",
       "        vertical-align: middle;\n",
       "    }\n",
       "\n",
       "    .dataframe tbody tr th {\n",
       "        vertical-align: top;\n",
       "    }\n",
       "\n",
       "    .dataframe thead th {\n",
       "        text-align: right;\n",
       "    }\n",
       "</style>\n",
       "<table border=\"1\" class=\"dataframe\">\n",
       "  <thead>\n",
       "    <tr style=\"text-align: right;\">\n",
       "      <th></th>\n",
       "      <th>Location</th>\n",
       "      <th>Value_counts</th>\n",
       "      <th>country</th>\n",
       "    </tr>\n",
       "  </thead>\n",
       "  <tbody>\n",
       "    <tr>\n",
       "      <th>0</th>\n",
       "      <td>United States</td>\n",
       "      <td>11785</td>\n",
       "      <td>United States</td>\n",
       "    </tr>\n",
       "    <tr>\n",
       "      <th>1</th>\n",
       "      <td>India</td>\n",
       "      <td>10515</td>\n",
       "      <td>India</td>\n",
       "    </tr>\n",
       "    <tr>\n",
       "      <th>2</th>\n",
       "      <td>London, England</td>\n",
       "      <td>7474</td>\n",
       "      <td>United Kingdom</td>\n",
       "    </tr>\n",
       "    <tr>\n",
       "      <th>3</th>\n",
       "      <td>San Francisco, CA</td>\n",
       "      <td>7111</td>\n",
       "      <td>United States</td>\n",
       "    </tr>\n",
       "    <tr>\n",
       "      <th>4</th>\n",
       "      <td>New York, NY</td>\n",
       "      <td>6970</td>\n",
       "      <td>United States</td>\n",
       "    </tr>\n",
       "  </tbody>\n",
       "</table>\n",
       "</div>"
      ],
      "text/plain": [
       "            Location  Value_counts         country\n",
       "0      United States         11785   United States\n",
       "1              India         10515           India\n",
       "2    London, England          7474  United Kingdom\n",
       "3  San Francisco, CA          7111   United States\n",
       "4       New York, NY          6970   United States"
      ]
     },
     "execution_count": 18,
     "metadata": {},
     "output_type": "execute_result"
    }
   ],
   "source": [
    "df_countries.head()"
   ]
  },
  {
   "cell_type": "markdown",
   "id": "6148f12c",
   "metadata": {},
   "source": [
    "### Merging countries to main dataframe"
   ]
  },
  {
   "cell_type": "code",
   "execution_count": 19,
   "id": "a2d9033d",
   "metadata": {},
   "outputs": [],
   "source": [
    "df = df.merge(df_countries, how = 'left', on = 'Location')"
   ]
  },
  {
   "cell_type": "code",
   "execution_count": 20,
   "id": "a51baf62",
   "metadata": {},
   "outputs": [
    {
     "data": {
      "text/html": [
       "<div>\n",
       "<style scoped>\n",
       "    .dataframe tbody tr th:only-of-type {\n",
       "        vertical-align: middle;\n",
       "    }\n",
       "\n",
       "    .dataframe tbody tr th {\n",
       "        vertical-align: top;\n",
       "    }\n",
       "\n",
       "    .dataframe thead th {\n",
       "        text-align: right;\n",
       "    }\n",
       "</style>\n",
       "<table border=\"1\" class=\"dataframe\">\n",
       "  <thead>\n",
       "    <tr style=\"text-align: right;\">\n",
       "      <th></th>\n",
       "      <th>Date</th>\n",
       "      <th>UserName</th>\n",
       "      <th>Tweet</th>\n",
       "      <th>Location</th>\n",
       "      <th>IsVerified_True</th>\n",
       "      <th>extracted_hashtags</th>\n",
       "      <th>clean_tweet</th>\n",
       "      <th>tokenized_tweet</th>\n",
       "      <th>lemmatized_tweet</th>\n",
       "      <th>stemmed_tweet</th>\n",
       "      <th>Value_counts</th>\n",
       "      <th>country</th>\n",
       "    </tr>\n",
       "  </thead>\n",
       "  <tbody>\n",
       "    <tr>\n",
       "      <th>0</th>\n",
       "      <td>12/1/22</td>\n",
       "      <td>mazen160</td>\n",
       "      <td>@bitquark I am looking forward for a ChatGPT A...</td>\n",
       "      <td>At a server near you.</td>\n",
       "      <td>0</td>\n",
       "      <td>[]</td>\n",
       "      <td>looking forward api lot tools built</td>\n",
       "      <td>['looking', 'forward', 'api', 'lot', 'tools', ...</td>\n",
       "      <td>['looking', 'forward', 'api', 'lot', 'tools', ...</td>\n",
       "      <td>['look', 'forward', 'api', 'lot', 'tool', 'bui...</td>\n",
       "      <td>1.0</td>\n",
       "      <td>NaN</td>\n",
       "    </tr>\n",
       "    <tr>\n",
       "      <th>1</th>\n",
       "      <td>12/1/22</td>\n",
       "      <td>ZoumanaCisse6</td>\n",
       "      <td>i think i broke chatGPT. it's been frozen for ...</td>\n",
       "      <td>Bay area</td>\n",
       "      <td>0</td>\n",
       "      <td>[]</td>\n",
       "      <td>think broke frozen couple minutes</td>\n",
       "      <td>['think', 'broke', 'frozen', 'couple', 'minutes']</td>\n",
       "      <td>['think', 'broke', 'frozen', 'couple', 'minutes']</td>\n",
       "      <td>['think', 'broke', 'frozen', 'coupl', 'minut']</td>\n",
       "      <td>19.0</td>\n",
       "      <td>United States</td>\n",
       "    </tr>\n",
       "    <tr>\n",
       "      <th>2</th>\n",
       "      <td>12/1/22</td>\n",
       "      <td>DennisLibre</td>\n",
       "      <td>I like ChatGPT as much as the next guy, but th...</td>\n",
       "      <td>Miami</td>\n",
       "      <td>0</td>\n",
       "      <td>[]</td>\n",
       "      <td>like guy theres twitter im looking guy tweets ...</td>\n",
       "      <td>['like', 'guy', 'theres', 'twitter', 'im', 'lo...</td>\n",
       "      <td>['like', 'guy', 'theres', 'twitter', 'im', 'lo...</td>\n",
       "      <td>['like', 'guy', 'there', 'twitter', 'im', 'loo...</td>\n",
       "      <td>374.0</td>\n",
       "      <td>United States</td>\n",
       "    </tr>\n",
       "    <tr>\n",
       "      <th>3</th>\n",
       "      <td>12/1/22</td>\n",
       "      <td>mpaepper</td>\n",
       "      <td>It seems like sth. was changed here, because I...</td>\n",
       "      <td>Hamburg, Germany</td>\n",
       "      <td>0</td>\n",
       "      <td>[]</td>\n",
       "      <td>like sth changed replicate behavior refuses wr...</td>\n",
       "      <td>['like', 'sth', 'changed', 'replicate', 'behav...</td>\n",
       "      <td>['like', 'sth', 'changed', 'replicate', 'behav...</td>\n",
       "      <td>['like', 'sth', 'chang', 'replic', 'behavior',...</td>\n",
       "      <td>291.0</td>\n",
       "      <td>Deutschland</td>\n",
       "    </tr>\n",
       "    <tr>\n",
       "      <th>4</th>\n",
       "      <td>12/1/22</td>\n",
       "      <td>AaronSitze</td>\n",
       "      <td>I know ChatGPT is just crawling for inputs. \\n...</td>\n",
       "      <td>Illinois, USA</td>\n",
       "      <td>0</td>\n",
       "      <td>[]</td>\n",
       "      <td>know crawling inputs nneven makes sad vision e...</td>\n",
       "      <td>['know', 'crawling', 'inputs', 'nneven', 'make...</td>\n",
       "      <td>['know', 'crawling', 'inputs', 'nneven', 'make...</td>\n",
       "      <td>['know', 'crawl', 'input', 'nneven', 'make', '...</td>\n",
       "      <td>329.0</td>\n",
       "      <td>United States</td>\n",
       "    </tr>\n",
       "  </tbody>\n",
       "</table>\n",
       "</div>"
      ],
      "text/plain": [
       "      Date       UserName                                              Tweet  \\\n",
       "0  12/1/22       mazen160  @bitquark I am looking forward for a ChatGPT A...   \n",
       "1  12/1/22  ZoumanaCisse6  i think i broke chatGPT. it's been frozen for ...   \n",
       "2  12/1/22    DennisLibre  I like ChatGPT as much as the next guy, but th...   \n",
       "3  12/1/22       mpaepper  It seems like sth. was changed here, because I...   \n",
       "4  12/1/22     AaronSitze  I know ChatGPT is just crawling for inputs. \\n...   \n",
       "\n",
       "                Location  IsVerified_True extracted_hashtags  \\\n",
       "0  At a server near you.                0                 []   \n",
       "1               Bay area                0                 []   \n",
       "2                  Miami                0                 []   \n",
       "3       Hamburg, Germany                0                 []   \n",
       "4          Illinois, USA                0                 []   \n",
       "\n",
       "                                         clean_tweet  \\\n",
       "0                looking forward api lot tools built   \n",
       "1                  think broke frozen couple minutes   \n",
       "2  like guy theres twitter im looking guy tweets ...   \n",
       "3  like sth changed replicate behavior refuses wr...   \n",
       "4  know crawling inputs nneven makes sad vision e...   \n",
       "\n",
       "                                     tokenized_tweet  \\\n",
       "0  ['looking', 'forward', 'api', 'lot', 'tools', ...   \n",
       "1  ['think', 'broke', 'frozen', 'couple', 'minutes']   \n",
       "2  ['like', 'guy', 'theres', 'twitter', 'im', 'lo...   \n",
       "3  ['like', 'sth', 'changed', 'replicate', 'behav...   \n",
       "4  ['know', 'crawling', 'inputs', 'nneven', 'make...   \n",
       "\n",
       "                                    lemmatized_tweet  \\\n",
       "0  ['looking', 'forward', 'api', 'lot', 'tools', ...   \n",
       "1  ['think', 'broke', 'frozen', 'couple', 'minutes']   \n",
       "2  ['like', 'guy', 'theres', 'twitter', 'im', 'lo...   \n",
       "3  ['like', 'sth', 'changed', 'replicate', 'behav...   \n",
       "4  ['know', 'crawling', 'inputs', 'nneven', 'make...   \n",
       "\n",
       "                                       stemmed_tweet  Value_counts  \\\n",
       "0  ['look', 'forward', 'api', 'lot', 'tool', 'bui...           1.0   \n",
       "1     ['think', 'broke', 'frozen', 'coupl', 'minut']          19.0   \n",
       "2  ['like', 'guy', 'there', 'twitter', 'im', 'loo...         374.0   \n",
       "3  ['like', 'sth', 'chang', 'replic', 'behavior',...         291.0   \n",
       "4  ['know', 'crawl', 'input', 'nneven', 'make', '...         329.0   \n",
       "\n",
       "         country  \n",
       "0            NaN  \n",
       "1  United States  \n",
       "2  United States  \n",
       "3    Deutschland  \n",
       "4  United States  "
      ]
     },
     "execution_count": 20,
     "metadata": {},
     "output_type": "execute_result"
    }
   ],
   "source": [
    "df.head()"
   ]
  },
  {
   "cell_type": "code",
   "execution_count": 21,
   "id": "9aa03942",
   "metadata": {},
   "outputs": [],
   "source": [
    "df.drop(columns = ['Value_counts'], inplace = True)"
   ]
  },
  {
   "cell_type": "code",
   "execution_count": 22,
   "id": "78c49cea",
   "metadata": {},
   "outputs": [
    {
     "data": {
      "text/html": [
       "<div>\n",
       "<style scoped>\n",
       "    .dataframe tbody tr th:only-of-type {\n",
       "        vertical-align: middle;\n",
       "    }\n",
       "\n",
       "    .dataframe tbody tr th {\n",
       "        vertical-align: top;\n",
       "    }\n",
       "\n",
       "    .dataframe thead th {\n",
       "        text-align: right;\n",
       "    }\n",
       "</style>\n",
       "<table border=\"1\" class=\"dataframe\">\n",
       "  <thead>\n",
       "    <tr style=\"text-align: right;\">\n",
       "      <th></th>\n",
       "      <th>Date</th>\n",
       "      <th>UserName</th>\n",
       "      <th>Tweet</th>\n",
       "      <th>Location</th>\n",
       "      <th>IsVerified_True</th>\n",
       "      <th>extracted_hashtags</th>\n",
       "      <th>clean_tweet</th>\n",
       "      <th>tokenized_tweet</th>\n",
       "      <th>lemmatized_tweet</th>\n",
       "      <th>stemmed_tweet</th>\n",
       "      <th>country</th>\n",
       "    </tr>\n",
       "  </thead>\n",
       "  <tbody>\n",
       "    <tr>\n",
       "      <th>0</th>\n",
       "      <td>12/1/22</td>\n",
       "      <td>mazen160</td>\n",
       "      <td>@bitquark I am looking forward for a ChatGPT A...</td>\n",
       "      <td>At a server near you.</td>\n",
       "      <td>0</td>\n",
       "      <td>[]</td>\n",
       "      <td>looking forward api lot tools built</td>\n",
       "      <td>['looking', 'forward', 'api', 'lot', 'tools', ...</td>\n",
       "      <td>['looking', 'forward', 'api', 'lot', 'tools', ...</td>\n",
       "      <td>['look', 'forward', 'api', 'lot', 'tool', 'bui...</td>\n",
       "      <td>NaN</td>\n",
       "    </tr>\n",
       "    <tr>\n",
       "      <th>1</th>\n",
       "      <td>12/1/22</td>\n",
       "      <td>ZoumanaCisse6</td>\n",
       "      <td>i think i broke chatGPT. it's been frozen for ...</td>\n",
       "      <td>Bay area</td>\n",
       "      <td>0</td>\n",
       "      <td>[]</td>\n",
       "      <td>think broke frozen couple minutes</td>\n",
       "      <td>['think', 'broke', 'frozen', 'couple', 'minutes']</td>\n",
       "      <td>['think', 'broke', 'frozen', 'couple', 'minutes']</td>\n",
       "      <td>['think', 'broke', 'frozen', 'coupl', 'minut']</td>\n",
       "      <td>United States</td>\n",
       "    </tr>\n",
       "    <tr>\n",
       "      <th>2</th>\n",
       "      <td>12/1/22</td>\n",
       "      <td>DennisLibre</td>\n",
       "      <td>I like ChatGPT as much as the next guy, but th...</td>\n",
       "      <td>Miami</td>\n",
       "      <td>0</td>\n",
       "      <td>[]</td>\n",
       "      <td>like guy theres twitter im looking guy tweets ...</td>\n",
       "      <td>['like', 'guy', 'theres', 'twitter', 'im', 'lo...</td>\n",
       "      <td>['like', 'guy', 'theres', 'twitter', 'im', 'lo...</td>\n",
       "      <td>['like', 'guy', 'there', 'twitter', 'im', 'loo...</td>\n",
       "      <td>United States</td>\n",
       "    </tr>\n",
       "    <tr>\n",
       "      <th>3</th>\n",
       "      <td>12/1/22</td>\n",
       "      <td>mpaepper</td>\n",
       "      <td>It seems like sth. was changed here, because I...</td>\n",
       "      <td>Hamburg, Germany</td>\n",
       "      <td>0</td>\n",
       "      <td>[]</td>\n",
       "      <td>like sth changed replicate behavior refuses wr...</td>\n",
       "      <td>['like', 'sth', 'changed', 'replicate', 'behav...</td>\n",
       "      <td>['like', 'sth', 'changed', 'replicate', 'behav...</td>\n",
       "      <td>['like', 'sth', 'chang', 'replic', 'behavior',...</td>\n",
       "      <td>Deutschland</td>\n",
       "    </tr>\n",
       "    <tr>\n",
       "      <th>4</th>\n",
       "      <td>12/1/22</td>\n",
       "      <td>AaronSitze</td>\n",
       "      <td>I know ChatGPT is just crawling for inputs. \\n...</td>\n",
       "      <td>Illinois, USA</td>\n",
       "      <td>0</td>\n",
       "      <td>[]</td>\n",
       "      <td>know crawling inputs nneven makes sad vision e...</td>\n",
       "      <td>['know', 'crawling', 'inputs', 'nneven', 'make...</td>\n",
       "      <td>['know', 'crawling', 'inputs', 'nneven', 'make...</td>\n",
       "      <td>['know', 'crawl', 'input', 'nneven', 'make', '...</td>\n",
       "      <td>United States</td>\n",
       "    </tr>\n",
       "  </tbody>\n",
       "</table>\n",
       "</div>"
      ],
      "text/plain": [
       "      Date       UserName                                              Tweet  \\\n",
       "0  12/1/22       mazen160  @bitquark I am looking forward for a ChatGPT A...   \n",
       "1  12/1/22  ZoumanaCisse6  i think i broke chatGPT. it's been frozen for ...   \n",
       "2  12/1/22    DennisLibre  I like ChatGPT as much as the next guy, but th...   \n",
       "3  12/1/22       mpaepper  It seems like sth. was changed here, because I...   \n",
       "4  12/1/22     AaronSitze  I know ChatGPT is just crawling for inputs. \\n...   \n",
       "\n",
       "                Location  IsVerified_True extracted_hashtags  \\\n",
       "0  At a server near you.                0                 []   \n",
       "1               Bay area                0                 []   \n",
       "2                  Miami                0                 []   \n",
       "3       Hamburg, Germany                0                 []   \n",
       "4          Illinois, USA                0                 []   \n",
       "\n",
       "                                         clean_tweet  \\\n",
       "0                looking forward api lot tools built   \n",
       "1                  think broke frozen couple minutes   \n",
       "2  like guy theres twitter im looking guy tweets ...   \n",
       "3  like sth changed replicate behavior refuses wr...   \n",
       "4  know crawling inputs nneven makes sad vision e...   \n",
       "\n",
       "                                     tokenized_tweet  \\\n",
       "0  ['looking', 'forward', 'api', 'lot', 'tools', ...   \n",
       "1  ['think', 'broke', 'frozen', 'couple', 'minutes']   \n",
       "2  ['like', 'guy', 'theres', 'twitter', 'im', 'lo...   \n",
       "3  ['like', 'sth', 'changed', 'replicate', 'behav...   \n",
       "4  ['know', 'crawling', 'inputs', 'nneven', 'make...   \n",
       "\n",
       "                                    lemmatized_tweet  \\\n",
       "0  ['looking', 'forward', 'api', 'lot', 'tools', ...   \n",
       "1  ['think', 'broke', 'frozen', 'couple', 'minutes']   \n",
       "2  ['like', 'guy', 'theres', 'twitter', 'im', 'lo...   \n",
       "3  ['like', 'sth', 'changed', 'replicate', 'behav...   \n",
       "4  ['know', 'crawling', 'inputs', 'nneven', 'make...   \n",
       "\n",
       "                                       stemmed_tweet        country  \n",
       "0  ['look', 'forward', 'api', 'lot', 'tool', 'bui...            NaN  \n",
       "1     ['think', 'broke', 'frozen', 'coupl', 'minut']  United States  \n",
       "2  ['like', 'guy', 'there', 'twitter', 'im', 'loo...  United States  \n",
       "3  ['like', 'sth', 'chang', 'replic', 'behavior',...    Deutschland  \n",
       "4  ['know', 'crawl', 'input', 'nneven', 'make', '...  United States  "
      ]
     },
     "execution_count": 22,
     "metadata": {},
     "output_type": "execute_result"
    }
   ],
   "source": [
    "df.head()"
   ]
  },
  {
   "cell_type": "code",
   "execution_count": 23,
   "id": "c270842d",
   "metadata": {},
   "outputs": [
    {
     "data": {
      "text/plain": [
       "(698014, 11)"
      ]
     },
     "execution_count": 23,
     "metadata": {},
     "output_type": "execute_result"
    }
   ],
   "source": [
    "df.shape"
   ]
  },
  {
   "cell_type": "code",
   "execution_count": 24,
   "id": "8515e977",
   "metadata": {},
   "outputs": [
    {
     "data": {
      "text/plain": [
       "United States         209297\n",
       "United Kingdom         44511\n",
       "India                  41024\n",
       "Canada                 26610\n",
       "Australia              15447\n",
       "                       ...  \n",
       "Северна Македонија        15\n",
       "Brunei                    14\n",
       "Guyana                    14\n",
       "Lesotho                   13\n",
       "اليمن                     12\n",
       "Name: country, Length: 170, dtype: int64"
      ]
     },
     "execution_count": 24,
     "metadata": {},
     "output_type": "execute_result"
    }
   ],
   "source": [
    "df.country.value_counts()"
   ]
  },
  {
   "cell_type": "code",
   "execution_count": 25,
   "id": "7c632fc0",
   "metadata": {},
   "outputs": [
    {
     "data": {
      "text/plain": [
       "232635"
      ]
     },
     "execution_count": 25,
     "metadata": {},
     "output_type": "execute_result"
    }
   ],
   "source": [
    "df.country.isna().sum()"
   ]
  },
  {
   "cell_type": "code",
   "execution_count": 26,
   "id": "3799eca1",
   "metadata": {},
   "outputs": [],
   "source": [
    "df.country.fillna('Unknown', inplace = True)"
   ]
  },
  {
   "cell_type": "code",
   "execution_count": 27,
   "id": "0c965ca4",
   "metadata": {},
   "outputs": [
    {
     "data": {
      "text/plain": [
       "Date                  0.0\n",
       "UserName              0.0\n",
       "Tweet                 0.0\n",
       "Location              0.0\n",
       "IsVerified_True       0.0\n",
       "extracted_hashtags    0.0\n",
       "clean_tweet           0.0\n",
       "tokenized_tweet       0.0\n",
       "lemmatized_tweet      0.0\n",
       "stemmed_tweet         0.0\n",
       "country               0.0\n",
       "dtype: float64"
      ]
     },
     "execution_count": 27,
     "metadata": {},
     "output_type": "execute_result"
    }
   ],
   "source": [
    "(df.isnull().sum()* 100 / len(df)).round(2).sort_values(ascending = False)"
   ]
  },
  {
   "cell_type": "code",
   "execution_count": 28,
   "id": "10e98f19",
   "metadata": {},
   "outputs": [],
   "source": [
    "df.to_excel('Preprocessed_data.xlsx', index=False)"
   ]
  },
  {
   "cell_type": "code",
   "execution_count": null,
   "id": "04af2a6e",
   "metadata": {},
   "outputs": [],
   "source": []
  }
 ],
 "metadata": {
  "kernelspec": {
   "display_name": "Python 3 (ipykernel)",
   "language": "python",
   "name": "python3"
  },
  "language_info": {
   "codemirror_mode": {
    "name": "ipython",
    "version": 3
   },
   "file_extension": ".py",
   "mimetype": "text/x-python",
   "name": "python",
   "nbconvert_exporter": "python",
   "pygments_lexer": "ipython3",
   "version": "3.8.8"
  }
 },
 "nbformat": 4,
 "nbformat_minor": 5
}
