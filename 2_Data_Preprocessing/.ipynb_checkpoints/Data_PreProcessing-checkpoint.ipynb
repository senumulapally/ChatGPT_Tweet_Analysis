{
 "cells": [
  {
   "cell_type": "markdown",
   "id": "05b1d796",
   "metadata": {},
   "source": [
    "## Importing Libraries"
   ]
  },
  {
   "cell_type": "code",
   "execution_count": 1,
   "id": "a6a63898",
   "metadata": {},
   "outputs": [],
   "source": [
    "import pandas as pd\n",
    "import seaborn as sns\n",
    "import nltk\n",
    "import neattext.functions as nfx\n",
    "from nltk.stem.porter import *\n",
    "from nltk.stem.wordnet import WordNetLemmatizer\n",
    "\n",
    "#!pip install neattext"
   ]
  },
  {
   "cell_type": "markdown",
   "id": "fc19a5e4",
   "metadata": {},
   "source": [
    "## Data Pre-Processing"
   ]
  },
  {
   "cell_type": "code",
   "execution_count": 2,
   "id": "442a8698",
   "metadata": {},
   "outputs": [
    {
     "name": "stderr",
     "output_type": "stream",
     "text": [
      "/var/folders/xv/m6j5wr551k9_nbn8yfyy24000000gn/T/ipykernel_69441/1066108768.py:2: DtypeWarning: Columns (3) have mixed types. Specify dtype option on import or set low_memory=False.\n",
      "  raw_data = pd.read_csv('chatGPT_dataset.csv')\n"
     ]
    }
   ],
   "source": [
    "# Load the dataframe\n",
    "raw_data = pd.read_csv('chatGPT_dataset.csv')"
   ]
  },
  {
   "cell_type": "code",
   "execution_count": 3,
   "id": "1360f596",
   "metadata": {
    "scrolled": true
   },
   "outputs": [
    {
     "data": {
      "text/html": [
       "<div>\n",
       "<style scoped>\n",
       "    .dataframe tbody tr th:only-of-type {\n",
       "        vertical-align: middle;\n",
       "    }\n",
       "\n",
       "    .dataframe tbody tr th {\n",
       "        vertical-align: top;\n",
       "    }\n",
       "\n",
       "    .dataframe thead th {\n",
       "        text-align: right;\n",
       "    }\n",
       "</style>\n",
       "<table border=\"1\" class=\"dataframe\">\n",
       "  <thead>\n",
       "    <tr style=\"text-align: right;\">\n",
       "      <th></th>\n",
       "      <th>Date</th>\n",
       "      <th>UniqueID</th>\n",
       "      <th>UserName</th>\n",
       "      <th>IsVerified</th>\n",
       "      <th>Tweet</th>\n",
       "      <th>Location</th>\n",
       "      <th>Lang</th>\n",
       "    </tr>\n",
       "  </thead>\n",
       "  <tbody>\n",
       "    <tr>\n",
       "      <th>0</th>\n",
       "      <td>12/1/22</td>\n",
       "      <td>1.600000e+18</td>\n",
       "      <td>askviable</td>\n",
       "      <td>False</td>\n",
       "      <td>The new #ChatGPT model by @OpenAI is astonishi...</td>\n",
       "      <td>NaN</td>\n",
       "      <td>en</td>\n",
       "    </tr>\n",
       "    <tr>\n",
       "      <th>1</th>\n",
       "      <td>12/1/22</td>\n",
       "      <td>1.600000e+18</td>\n",
       "      <td>mazen160</td>\n",
       "      <td>False</td>\n",
       "      <td>@bitquark I am looking forward for a ChatGPT A...</td>\n",
       "      <td>At a server near you.</td>\n",
       "      <td>en</td>\n",
       "    </tr>\n",
       "    <tr>\n",
       "      <th>2</th>\n",
       "      <td>12/1/22</td>\n",
       "      <td>1.600000e+18</td>\n",
       "      <td>ZoumanaCisse6</td>\n",
       "      <td>False</td>\n",
       "      <td>i think i broke chatGPT. it's been frozen for ...</td>\n",
       "      <td>Bay area</td>\n",
       "      <td>en</td>\n",
       "    </tr>\n",
       "    <tr>\n",
       "      <th>3</th>\n",
       "      <td>12/1/22</td>\n",
       "      <td>1.600000e+18</td>\n",
       "      <td>DennisLibre</td>\n",
       "      <td>False</td>\n",
       "      <td>I like ChatGPT as much as the next guy, but th...</td>\n",
       "      <td>Miami</td>\n",
       "      <td>en</td>\n",
       "    </tr>\n",
       "    <tr>\n",
       "      <th>4</th>\n",
       "      <td>12/1/22</td>\n",
       "      <td>1.600000e+18</td>\n",
       "      <td>golang_news</td>\n",
       "      <td>False</td>\n",
       "      <td>ChatGPT finds the race condition in a Go progr...</td>\n",
       "      <td>NaN</td>\n",
       "      <td>en</td>\n",
       "    </tr>\n",
       "    <tr>\n",
       "      <th>5</th>\n",
       "      <td>12/1/22</td>\n",
       "      <td>1.600000e+18</td>\n",
       "      <td>mpaepper</td>\n",
       "      <td>False</td>\n",
       "      <td>It seems like sth. was changed here, because I...</td>\n",
       "      <td>Hamburg, Germany</td>\n",
       "      <td>en</td>\n",
       "    </tr>\n",
       "    <tr>\n",
       "      <th>6</th>\n",
       "      <td>12/1/22</td>\n",
       "      <td>1.600000e+18</td>\n",
       "      <td>AaronSitze</td>\n",
       "      <td>False</td>\n",
       "      <td>I know ChatGPT is just crawling for inputs. \\n...</td>\n",
       "      <td>Illinois, USA</td>\n",
       "      <td>en</td>\n",
       "    </tr>\n",
       "    <tr>\n",
       "      <th>7</th>\n",
       "      <td>12/1/22</td>\n",
       "      <td>1.600000e+18</td>\n",
       "      <td>torkelo</td>\n",
       "      <td>False</td>\n",
       "      <td>ChatGPT is really amazing at taking a bizarre ...</td>\n",
       "      <td>Sweden</td>\n",
       "      <td>en</td>\n",
       "    </tr>\n",
       "    <tr>\n",
       "      <th>8</th>\n",
       "      <td>12/1/22</td>\n",
       "      <td>1.600000e+18</td>\n",
       "      <td>DontsitBigG</td>\n",
       "      <td>False</td>\n",
       "      <td>Seriously ! How are children going to learn wi...</td>\n",
       "      <td>New York, USA</td>\n",
       "      <td>en</td>\n",
       "    </tr>\n",
       "    <tr>\n",
       "      <th>9</th>\n",
       "      <td>12/1/22</td>\n",
       "      <td>1.600000e+18</td>\n",
       "      <td>PryvitKyle</td>\n",
       "      <td>False</td>\n",
       "      <td>@by_caballero @john_c_palmer ChatGPT's respons...</td>\n",
       "      <td>Auckland, NZ</td>\n",
       "      <td>en</td>\n",
       "    </tr>\n",
       "  </tbody>\n",
       "</table>\n",
       "</div>"
      ],
      "text/plain": [
       "      Date      UniqueID       UserName IsVerified  \\\n",
       "0  12/1/22  1.600000e+18      askviable      False   \n",
       "1  12/1/22  1.600000e+18       mazen160      False   \n",
       "2  12/1/22  1.600000e+18  ZoumanaCisse6      False   \n",
       "3  12/1/22  1.600000e+18    DennisLibre      False   \n",
       "4  12/1/22  1.600000e+18    golang_news      False   \n",
       "5  12/1/22  1.600000e+18       mpaepper      False   \n",
       "6  12/1/22  1.600000e+18     AaronSitze      False   \n",
       "7  12/1/22  1.600000e+18        torkelo      False   \n",
       "8  12/1/22  1.600000e+18    DontsitBigG      False   \n",
       "9  12/1/22  1.600000e+18     PryvitKyle      False   \n",
       "\n",
       "                                               Tweet               Location  \\\n",
       "0  The new #ChatGPT model by @OpenAI is astonishi...                    NaN   \n",
       "1  @bitquark I am looking forward for a ChatGPT A...  At a server near you.   \n",
       "2  i think i broke chatGPT. it's been frozen for ...               Bay area   \n",
       "3  I like ChatGPT as much as the next guy, but th...                  Miami   \n",
       "4  ChatGPT finds the race condition in a Go progr...                    NaN   \n",
       "5  It seems like sth. was changed here, because I...       Hamburg, Germany   \n",
       "6  I know ChatGPT is just crawling for inputs. \\n...          Illinois, USA   \n",
       "7  ChatGPT is really amazing at taking a bizarre ...                 Sweden   \n",
       "8  Seriously ! How are children going to learn wi...          New York, USA   \n",
       "9  @by_caballero @john_c_palmer ChatGPT's respons...           Auckland, NZ   \n",
       "\n",
       "  Lang  \n",
       "0   en  \n",
       "1   en  \n",
       "2   en  \n",
       "3   en  \n",
       "4   en  \n",
       "5   en  \n",
       "6   en  \n",
       "7   en  \n",
       "8   en  \n",
       "9   en  "
      ]
     },
     "execution_count": 3,
     "metadata": {},
     "output_type": "execute_result"
    }
   ],
   "source": [
    "raw_data.head(10)"
   ]
  },
  {
   "cell_type": "code",
   "execution_count": 4,
   "id": "21af8271",
   "metadata": {},
   "outputs": [
    {
     "data": {
      "text/plain": [
       "(1047221, 7)"
      ]
     },
     "execution_count": 4,
     "metadata": {},
     "output_type": "execute_result"
    }
   ],
   "source": [
    "raw_data.shape"
   ]
  },
  {
   "cell_type": "markdown",
   "id": "28b1c8d3",
   "metadata": {},
   "source": [
    "### Remove the duplicated rows"
   ]
  },
  {
   "cell_type": "code",
   "execution_count": 5,
   "id": "baaf230b",
   "metadata": {},
   "outputs": [
    {
     "data": {
      "text/html": [
       "<div>\n",
       "<style scoped>\n",
       "    .dataframe tbody tr th:only-of-type {\n",
       "        vertical-align: middle;\n",
       "    }\n",
       "\n",
       "    .dataframe tbody tr th {\n",
       "        vertical-align: top;\n",
       "    }\n",
       "\n",
       "    .dataframe thead th {\n",
       "        text-align: right;\n",
       "    }\n",
       "</style>\n",
       "<table border=\"1\" class=\"dataframe\">\n",
       "  <thead>\n",
       "    <tr style=\"text-align: right;\">\n",
       "      <th></th>\n",
       "      <th>Date</th>\n",
       "      <th>UniqueID</th>\n",
       "      <th>UserName</th>\n",
       "      <th>IsVerified</th>\n",
       "      <th>Tweet</th>\n",
       "      <th>Location</th>\n",
       "      <th>Lang</th>\n",
       "    </tr>\n",
       "  </thead>\n",
       "  <tbody>\n",
       "    <tr>\n",
       "      <th>0</th>\n",
       "      <td>12/1/22</td>\n",
       "      <td>1.600000e+18</td>\n",
       "      <td>askviable</td>\n",
       "      <td>False</td>\n",
       "      <td>The new #ChatGPT model by @OpenAI is astonishi...</td>\n",
       "      <td>NaN</td>\n",
       "      <td>en</td>\n",
       "    </tr>\n",
       "    <tr>\n",
       "      <th>1</th>\n",
       "      <td>12/1/22</td>\n",
       "      <td>1.600000e+18</td>\n",
       "      <td>mazen160</td>\n",
       "      <td>False</td>\n",
       "      <td>@bitquark I am looking forward for a ChatGPT A...</td>\n",
       "      <td>At a server near you.</td>\n",
       "      <td>en</td>\n",
       "    </tr>\n",
       "    <tr>\n",
       "      <th>2</th>\n",
       "      <td>12/1/22</td>\n",
       "      <td>1.600000e+18</td>\n",
       "      <td>ZoumanaCisse6</td>\n",
       "      <td>False</td>\n",
       "      <td>i think i broke chatGPT. it's been frozen for ...</td>\n",
       "      <td>Bay area</td>\n",
       "      <td>en</td>\n",
       "    </tr>\n",
       "    <tr>\n",
       "      <th>3</th>\n",
       "      <td>12/1/22</td>\n",
       "      <td>1.600000e+18</td>\n",
       "      <td>DennisLibre</td>\n",
       "      <td>False</td>\n",
       "      <td>I like ChatGPT as much as the next guy, but th...</td>\n",
       "      <td>Miami</td>\n",
       "      <td>en</td>\n",
       "    </tr>\n",
       "    <tr>\n",
       "      <th>4</th>\n",
       "      <td>12/1/22</td>\n",
       "      <td>1.600000e+18</td>\n",
       "      <td>golang_news</td>\n",
       "      <td>False</td>\n",
       "      <td>ChatGPT finds the race condition in a Go progr...</td>\n",
       "      <td>NaN</td>\n",
       "      <td>en</td>\n",
       "    </tr>\n",
       "    <tr>\n",
       "      <th>5</th>\n",
       "      <td>12/1/22</td>\n",
       "      <td>1.600000e+18</td>\n",
       "      <td>mpaepper</td>\n",
       "      <td>False</td>\n",
       "      <td>It seems like sth. was changed here, because I...</td>\n",
       "      <td>Hamburg, Germany</td>\n",
       "      <td>en</td>\n",
       "    </tr>\n",
       "    <tr>\n",
       "      <th>6</th>\n",
       "      <td>12/1/22</td>\n",
       "      <td>1.600000e+18</td>\n",
       "      <td>AaronSitze</td>\n",
       "      <td>False</td>\n",
       "      <td>I know ChatGPT is just crawling for inputs. \\n...</td>\n",
       "      <td>Illinois, USA</td>\n",
       "      <td>en</td>\n",
       "    </tr>\n",
       "    <tr>\n",
       "      <th>7</th>\n",
       "      <td>12/1/22</td>\n",
       "      <td>1.600000e+18</td>\n",
       "      <td>torkelo</td>\n",
       "      <td>False</td>\n",
       "      <td>ChatGPT is really amazing at taking a bizarre ...</td>\n",
       "      <td>Sweden</td>\n",
       "      <td>en</td>\n",
       "    </tr>\n",
       "    <tr>\n",
       "      <th>8</th>\n",
       "      <td>12/1/22</td>\n",
       "      <td>1.600000e+18</td>\n",
       "      <td>DontsitBigG</td>\n",
       "      <td>False</td>\n",
       "      <td>Seriously ! How are children going to learn wi...</td>\n",
       "      <td>New York, USA</td>\n",
       "      <td>en</td>\n",
       "    </tr>\n",
       "    <tr>\n",
       "      <th>9</th>\n",
       "      <td>12/1/22</td>\n",
       "      <td>1.600000e+18</td>\n",
       "      <td>PryvitKyle</td>\n",
       "      <td>False</td>\n",
       "      <td>@by_caballero @john_c_palmer ChatGPT's respons...</td>\n",
       "      <td>Auckland, NZ</td>\n",
       "      <td>en</td>\n",
       "    </tr>\n",
       "  </tbody>\n",
       "</table>\n",
       "</div>"
      ],
      "text/plain": [
       "      Date      UniqueID       UserName IsVerified  \\\n",
       "0  12/1/22  1.600000e+18      askviable      False   \n",
       "1  12/1/22  1.600000e+18       mazen160      False   \n",
       "2  12/1/22  1.600000e+18  ZoumanaCisse6      False   \n",
       "3  12/1/22  1.600000e+18    DennisLibre      False   \n",
       "4  12/1/22  1.600000e+18    golang_news      False   \n",
       "5  12/1/22  1.600000e+18       mpaepper      False   \n",
       "6  12/1/22  1.600000e+18     AaronSitze      False   \n",
       "7  12/1/22  1.600000e+18        torkelo      False   \n",
       "8  12/1/22  1.600000e+18    DontsitBigG      False   \n",
       "9  12/1/22  1.600000e+18     PryvitKyle      False   \n",
       "\n",
       "                                               Tweet               Location  \\\n",
       "0  The new #ChatGPT model by @OpenAI is astonishi...                    NaN   \n",
       "1  @bitquark I am looking forward for a ChatGPT A...  At a server near you.   \n",
       "2  i think i broke chatGPT. it's been frozen for ...               Bay area   \n",
       "3  I like ChatGPT as much as the next guy, but th...                  Miami   \n",
       "4  ChatGPT finds the race condition in a Go progr...                    NaN   \n",
       "5  It seems like sth. was changed here, because I...       Hamburg, Germany   \n",
       "6  I know ChatGPT is just crawling for inputs. \\n...          Illinois, USA   \n",
       "7  ChatGPT is really amazing at taking a bizarre ...                 Sweden   \n",
       "8  Seriously ! How are children going to learn wi...          New York, USA   \n",
       "9  @by_caballero @john_c_palmer ChatGPT's respons...           Auckland, NZ   \n",
       "\n",
       "  Lang  \n",
       "0   en  \n",
       "1   en  \n",
       "2   en  \n",
       "3   en  \n",
       "4   en  \n",
       "5   en  \n",
       "6   en  \n",
       "7   en  \n",
       "8   en  \n",
       "9   en  "
      ]
     },
     "execution_count": 5,
     "metadata": {},
     "output_type": "execute_result"
    }
   ],
   "source": [
    "without_duplicate = raw_data.drop_duplicates(keep='first').copy()\n",
    "without_duplicate.head(10)"
   ]
  },
  {
   "cell_type": "code",
   "execution_count": 6,
   "id": "0f49f503",
   "metadata": {},
   "outputs": [
    {
     "data": {
      "text/plain": [
       "(993471, 7)"
      ]
     },
     "execution_count": 6,
     "metadata": {},
     "output_type": "execute_result"
    }
   ],
   "source": [
    "without_duplicate.shape"
   ]
  },
  {
   "cell_type": "code",
   "execution_count": 7,
   "id": "ce12f6f5",
   "metadata": {},
   "outputs": [
    {
     "data": {
      "text/plain": [
       "(1047221, 7)"
      ]
     },
     "execution_count": 7,
     "metadata": {},
     "output_type": "execute_result"
    }
   ],
   "source": [
    "raw_data.shape"
   ]
  },
  {
   "cell_type": "code",
   "execution_count": 8,
   "id": "c3b14a0b",
   "metadata": {},
   "outputs": [
    {
     "data": {
      "text/plain": [
       "Location      27.85\n",
       "Date           0.00\n",
       "UniqueID       0.00\n",
       "UserName       0.00\n",
       "IsVerified     0.00\n",
       "Tweet          0.00\n",
       "Lang           0.00\n",
       "dtype: float64"
      ]
     },
     "execution_count": 8,
     "metadata": {},
     "output_type": "execute_result"
    }
   ],
   "source": [
    "#check NA in precentage after duplicates are removed\n",
    "(without_duplicate.isnull().sum()* 100 / len(without_duplicate)).round(2).sort_values(ascending = False)\n",
    "\n",
    "# Since the Na values are less than 1% hence they can safely be removed (rule of thumb is 5%)"
   ]
  },
  {
   "cell_type": "markdown",
   "id": "d0797209",
   "metadata": {},
   "source": [
    "##### Location column has most percentage of null values."
   ]
  },
  {
   "cell_type": "code",
   "execution_count": 9,
   "id": "f2b6d589",
   "metadata": {},
   "outputs": [
    {
     "data": {
      "text/plain": [
       "<AxesSubplot:>"
      ]
     },
     "execution_count": 9,
     "metadata": {},
     "output_type": "execute_result"
    },
    {
     "data": {
      "image/png": "[encoded data removed]",
      "text/plain": [
       "<Figure size 432x288 with 2 Axes>"
      ]
     },
     "metadata": {
      "needs_background": "light"
     },
     "output_type": "display_data"
    }
   ],
   "source": [
    "# DATA PREPROCESSING: Visualise NAs after removing duplicated rows in the form of pattern to see their location\n",
    "sns.heatmap(without_duplicate.isnull(), cbar=True)\n",
    "\n",
    "# Nas are located very sparse except for Location."
   ]
  },
  {
   "cell_type": "markdown",
   "id": "ebe71224",
   "metadata": {},
   "source": [
    "### Remove all NAs"
   ]
  },
  {
   "cell_type": "code",
   "execution_count": 10,
   "id": "dc068aaa",
   "metadata": {},
   "outputs": [
    {
     "data": {
      "text/plain": [
       "Date          0.0\n",
       "UniqueID      0.0\n",
       "UserName      0.0\n",
       "IsVerified    0.0\n",
       "Tweet         0.0\n",
       "Location      0.0\n",
       "Lang          0.0\n",
       "dtype: float64"
      ]
     },
     "execution_count": 10,
     "metadata": {},
     "output_type": "execute_result"
    }
   ],
   "source": [
    "# Drop the whole row that contains the empty cell\n",
    "# Always assign the new dataframe\n",
    "\n",
    "without_dup_na = without_duplicate.dropna(how= \"any\").copy()\n",
    "(without_dup_na.isnull().sum()* 100 / len(without_dup_na)).round(2).sort_values(ascending = False)"
   ]
  },
  {
   "cell_type": "code",
   "execution_count": 11,
   "id": "96b8236d",
   "metadata": {},
   "outputs": [
    {
     "data": {
      "text/plain": [
       "5017670"
      ]
     },
     "execution_count": 11,
     "metadata": {},
     "output_type": "execute_result"
    }
   ],
   "source": [
    "without_dup_na.size"
   ]
  },
  {
   "cell_type": "code",
   "execution_count": 12,
   "id": "e50b7bf6",
   "metadata": {},
   "outputs": [
    {
     "data": {
      "text/html": [
       "<div>\n",
       "<style scoped>\n",
       "    .dataframe tbody tr th:only-of-type {\n",
       "        vertical-align: middle;\n",
       "    }\n",
       "\n",
       "    .dataframe tbody tr th {\n",
       "        vertical-align: top;\n",
       "    }\n",
       "\n",
       "    .dataframe thead th {\n",
       "        text-align: right;\n",
       "    }\n",
       "</style>\n",
       "<table border=\"1\" class=\"dataframe\">\n",
       "  <thead>\n",
       "    <tr style=\"text-align: right;\">\n",
       "      <th></th>\n",
       "      <th>Date</th>\n",
       "      <th>UniqueID</th>\n",
       "      <th>UserName</th>\n",
       "      <th>IsVerified</th>\n",
       "      <th>Tweet</th>\n",
       "      <th>Location</th>\n",
       "      <th>Lang</th>\n",
       "    </tr>\n",
       "  </thead>\n",
       "  <tbody>\n",
       "    <tr>\n",
       "      <th>1</th>\n",
       "      <td>12/1/22</td>\n",
       "      <td>1.600000e+18</td>\n",
       "      <td>mazen160</td>\n",
       "      <td>False</td>\n",
       "      <td>@bitquark I am looking forward for a ChatGPT A...</td>\n",
       "      <td>At a server near you.</td>\n",
       "      <td>en</td>\n",
       "    </tr>\n",
       "    <tr>\n",
       "      <th>2</th>\n",
       "      <td>12/1/22</td>\n",
       "      <td>1.600000e+18</td>\n",
       "      <td>ZoumanaCisse6</td>\n",
       "      <td>False</td>\n",
       "      <td>i think i broke chatGPT. it's been frozen for ...</td>\n",
       "      <td>Bay area</td>\n",
       "      <td>en</td>\n",
       "    </tr>\n",
       "    <tr>\n",
       "      <th>3</th>\n",
       "      <td>12/1/22</td>\n",
       "      <td>1.600000e+18</td>\n",
       "      <td>DennisLibre</td>\n",
       "      <td>False</td>\n",
       "      <td>I like ChatGPT as much as the next guy, but th...</td>\n",
       "      <td>Miami</td>\n",
       "      <td>en</td>\n",
       "    </tr>\n",
       "    <tr>\n",
       "      <th>5</th>\n",
       "      <td>12/1/22</td>\n",
       "      <td>1.600000e+18</td>\n",
       "      <td>mpaepper</td>\n",
       "      <td>False</td>\n",
       "      <td>It seems like sth. was changed here, because I...</td>\n",
       "      <td>Hamburg, Germany</td>\n",
       "      <td>en</td>\n",
       "    </tr>\n",
       "    <tr>\n",
       "      <th>6</th>\n",
       "      <td>12/1/22</td>\n",
       "      <td>1.600000e+18</td>\n",
       "      <td>AaronSitze</td>\n",
       "      <td>False</td>\n",
       "      <td>I know ChatGPT is just crawling for inputs. \\n...</td>\n",
       "      <td>Illinois, USA</td>\n",
       "      <td>en</td>\n",
       "    </tr>\n",
       "  </tbody>\n",
       "</table>\n",
       "</div>"
      ],
      "text/plain": [
       "      Date      UniqueID       UserName IsVerified  \\\n",
       "1  12/1/22  1.600000e+18       mazen160      False   \n",
       "2  12/1/22  1.600000e+18  ZoumanaCisse6      False   \n",
       "3  12/1/22  1.600000e+18    DennisLibre      False   \n",
       "5  12/1/22  1.600000e+18       mpaepper      False   \n",
       "6  12/1/22  1.600000e+18     AaronSitze      False   \n",
       "\n",
       "                                               Tweet               Location  \\\n",
       "1  @bitquark I am looking forward for a ChatGPT A...  At a server near you.   \n",
       "2  i think i broke chatGPT. it's been frozen for ...               Bay area   \n",
       "3  I like ChatGPT as much as the next guy, but th...                  Miami   \n",
       "5  It seems like sth. was changed here, because I...       Hamburg, Germany   \n",
       "6  I know ChatGPT is just crawling for inputs. \\n...          Illinois, USA   \n",
       "\n",
       "  Lang  \n",
       "1   en  \n",
       "2   en  \n",
       "3   en  \n",
       "5   en  \n",
       "6   en  "
      ]
     },
     "execution_count": 12,
     "metadata": {},
     "output_type": "execute_result"
    }
   ],
   "source": [
    "without_dup_na.head()"
   ]
  },
  {
   "cell_type": "code",
   "execution_count": 13,
   "id": "e9a02cee",
   "metadata": {},
   "outputs": [
    {
     "name": "stdout",
     "output_type": "stream",
     "text": [
      "['en']\n"
     ]
    }
   ],
   "source": [
    "print(without_dup_na['Lang'].unique())"
   ]
  },
  {
   "cell_type": "markdown",
   "id": "58e57717",
   "metadata": {},
   "source": [
    "### Creating Dummies for IsVerified"
   ]
  },
  {
   "cell_type": "code",
   "execution_count": 14,
   "id": "c02665ed",
   "metadata": {},
   "outputs": [],
   "source": [
    "dummies = pd.get_dummies(without_dup_na[['IsVerified']])"
   ]
  },
  {
   "cell_type": "code",
   "execution_count": 15,
   "id": "64678331",
   "metadata": {},
   "outputs": [],
   "source": [
    "dummies = dummies.drop(['IsVerified_False'], axis=1)"
   ]
  },
  {
   "cell_type": "markdown",
   "id": "7373d054",
   "metadata": {},
   "source": [
    "### Dropping unwanted rows"
   ]
  },
  {
   "cell_type": "code",
   "execution_count": 16,
   "id": "58bf9c6c",
   "metadata": {},
   "outputs": [],
   "source": [
    "\n",
    "df = pd.concat([without_dup_na.drop(['IsVerified','Lang', 'UniqueID'],axis=1), dummies],axis=1)"
   ]
  },
  {
   "cell_type": "code",
   "execution_count": 17,
   "id": "fd4634e3",
   "metadata": {},
   "outputs": [
    {
     "data": {
      "text/html": [
       "<div>\n",
       "<style scoped>\n",
       "    .dataframe tbody tr th:only-of-type {\n",
       "        vertical-align: middle;\n",
       "    }\n",
       "\n",
       "    .dataframe tbody tr th {\n",
       "        vertical-align: top;\n",
       "    }\n",
       "\n",
       "    .dataframe thead th {\n",
       "        text-align: right;\n",
       "    }\n",
       "</style>\n",
       "<table border=\"1\" class=\"dataframe\">\n",
       "  <thead>\n",
       "    <tr style=\"text-align: right;\">\n",
       "      <th></th>\n",
       "      <th>Date</th>\n",
       "      <th>UserName</th>\n",
       "      <th>Tweet</th>\n",
       "      <th>Location</th>\n",
       "      <th>IsVerified_True</th>\n",
       "    </tr>\n",
       "  </thead>\n",
       "  <tbody>\n",
       "    <tr>\n",
       "      <th>1</th>\n",
       "      <td>12/1/22</td>\n",
       "      <td>mazen160</td>\n",
       "      <td>@bitquark I am looking forward for a ChatGPT A...</td>\n",
       "      <td>At a server near you.</td>\n",
       "      <td>0</td>\n",
       "    </tr>\n",
       "    <tr>\n",
       "      <th>2</th>\n",
       "      <td>12/1/22</td>\n",
       "      <td>ZoumanaCisse6</td>\n",
       "      <td>i think i broke chatGPT. it's been frozen for ...</td>\n",
       "      <td>Bay area</td>\n",
       "      <td>0</td>\n",
       "    </tr>\n",
       "    <tr>\n",
       "      <th>3</th>\n",
       "      <td>12/1/22</td>\n",
       "      <td>DennisLibre</td>\n",
       "      <td>I like ChatGPT as much as the next guy, but th...</td>\n",
       "      <td>Miami</td>\n",
       "      <td>0</td>\n",
       "    </tr>\n",
       "    <tr>\n",
       "      <th>5</th>\n",
       "      <td>12/1/22</td>\n",
       "      <td>mpaepper</td>\n",
       "      <td>It seems like sth. was changed here, because I...</td>\n",
       "      <td>Hamburg, Germany</td>\n",
       "      <td>0</td>\n",
       "    </tr>\n",
       "    <tr>\n",
       "      <th>6</th>\n",
       "      <td>12/1/22</td>\n",
       "      <td>AaronSitze</td>\n",
       "      <td>I know ChatGPT is just crawling for inputs. \\n...</td>\n",
       "      <td>Illinois, USA</td>\n",
       "      <td>0</td>\n",
       "    </tr>\n",
       "  </tbody>\n",
       "</table>\n",
       "</div>"
      ],
      "text/plain": [
       "      Date       UserName                                              Tweet  \\\n",
       "1  12/1/22       mazen160  @bitquark I am looking forward for a ChatGPT A...   \n",
       "2  12/1/22  ZoumanaCisse6  i think i broke chatGPT. it's been frozen for ...   \n",
       "3  12/1/22    DennisLibre  I like ChatGPT as much as the next guy, but th...   \n",
       "5  12/1/22       mpaepper  It seems like sth. was changed here, because I...   \n",
       "6  12/1/22     AaronSitze  I know ChatGPT is just crawling for inputs. \\n...   \n",
       "\n",
       "                Location  IsVerified_True  \n",
       "1  At a server near you.                0  \n",
       "2               Bay area                0  \n",
       "3                  Miami                0  \n",
       "5       Hamburg, Germany                0  \n",
       "6          Illinois, USA                0  "
      ]
     },
     "execution_count": 17,
     "metadata": {},
     "output_type": "execute_result"
    }
   ],
   "source": [
    "df.head()"
   ]
  },
  {
   "cell_type": "code",
   "execution_count": 18,
   "id": "025d2da0",
   "metadata": {},
   "outputs": [
    {
     "data": {
      "text/plain": [
       "United States                         11785\n",
       "India                                 10515\n",
       "London, England                        7474\n",
       "San Francisco, CA                      7111\n",
       "New York, NY                           6970\n",
       "                                      ...  \n",
       "midlands                                  1\n",
       "St.Louis , Missouri                       1\n",
       "A Yusful Obidient Nigeria ðŸ‡³ðŸ‡¬        1\n",
       "she/her | 16 |                            1\n",
       "The Blastzone                             1\n",
       "Name: Location, Length: 94716, dtype: int64"
      ]
     },
     "execution_count": 18,
     "metadata": {},
     "output_type": "execute_result"
    }
   ],
   "source": [
    "without_dup_na.Location.value_counts()"
   ]
  },
  {
   "cell_type": "code",
   "execution_count": 19,
   "id": "62bb84ef",
   "metadata": {},
   "outputs": [
    {
     "data": {
      "text/plain": [
       "0    687134\n",
       "1     29676\n",
       "Name: IsVerified_True, dtype: int64"
      ]
     },
     "execution_count": 19,
     "metadata": {},
     "output_type": "execute_result"
    }
   ],
   "source": [
    "df.IsVerified_True.value_counts().head(20)"
   ]
  },
  {
   "cell_type": "markdown",
   "id": "526dc9d0",
   "metadata": {},
   "source": [
    "## **Noise Removal**\n",
    "\n",
    "- Remove mentions/userhandles\n",
    "\n",
    "- Remove hashtags\n",
    "\n",
    "- Remove urls\n",
    "\n",
    "- Remove emojis\n",
    "\n",
    "- Remove special characters\n",
    "\n",
    "- Remove Stop words"
   ]
  },
  {
   "cell_type": "code",
   "execution_count": 20,
   "id": "79aa4677",
   "metadata": {},
   "outputs": [
    {
     "data": {
      "text/plain": [
       "['BTC_ADDRESS_REGEX',\n",
       " 'CURRENCY_REGEX',\n",
       " 'CURRENCY_SYMB_REGEX',\n",
       " 'Counter',\n",
       " 'DATE_REGEX',\n",
       " 'EMAIL_REGEX',\n",
       " 'EMOJI_REGEX',\n",
       " 'HASTAG_REGEX',\n",
       " 'MASTERCard_REGEX',\n",
       " 'MD5_SHA_REGEX',\n",
       " 'MOST_COMMON_PUNCT_REGEX',\n",
       " 'NUMBERS_REGEX',\n",
       " 'PHONE_REGEX',\n",
       " 'PoBOX_REGEX',\n",
       " 'SPECIAL_CHARACTERS_REGEX',\n",
       " 'STOPWORDS',\n",
       " 'STOPWORDS_de',\n",
       " 'STOPWORDS_en',\n",
       " 'STOPWORDS_es',\n",
       " 'STOPWORDS_fr',\n",
       " 'STOPWORDS_ru',\n",
       " 'STOPWORDS_yo',\n",
       " 'STREET_ADDRESS_REGEX',\n",
       " 'TextFrame',\n",
       " 'URL_PATTERN',\n",
       " 'USER_HANDLES_REGEX',\n",
       " 'VISACard_REGEX',\n",
       " '__builtins__',\n",
       " '__cached__',\n",
       " '__doc__',\n",
       " '__file__',\n",
       " '__generate_text',\n",
       " '__loader__',\n",
       " '__name__',\n",
       " '__numbers_dict',\n",
       " '__package__',\n",
       " '__spec__',\n",
       " '_lex_richness_herdan',\n",
       " '_lex_richness_maas_ttr',\n",
       " 'clean_text',\n",
       " 'defaultdict',\n",
       " 'digit2words',\n",
       " 'extract_btc_address',\n",
       " 'extract_currencies',\n",
       " 'extract_currency_symbols',\n",
       " 'extract_dates',\n",
       " 'extract_emails',\n",
       " 'extract_emojis',\n",
       " 'extract_hashtags',\n",
       " 'extract_html_tags',\n",
       " 'extract_mastercard_addr',\n",
       " 'extract_md5sha',\n",
       " 'extract_numbers',\n",
       " 'extract_pattern',\n",
       " 'extract_phone_numbers',\n",
       " 'extract_postoffice_box',\n",
       " 'extract_shortwords',\n",
       " 'extract_special_characters',\n",
       " 'extract_stopwords',\n",
       " 'extract_street_address',\n",
       " 'extract_terms_in_bracket',\n",
       " 'extract_urls',\n",
       " 'extract_userhandles',\n",
       " 'extract_visacard_addr',\n",
       " 'fix_contractions',\n",
       " 'generate_sentence',\n",
       " 'hamming_distance',\n",
       " 'inverse_df',\n",
       " 'lexical_richness',\n",
       " 'markov_chain',\n",
       " 'math',\n",
       " 'nlargest',\n",
       " 'normalize',\n",
       " 'num2words',\n",
       " 'random',\n",
       " 're',\n",
       " 'read_txt',\n",
       " 'remove_accents',\n",
       " 'remove_bad_quotes',\n",
       " 'remove_btc_address',\n",
       " 'remove_currencies',\n",
       " 'remove_currency_symbols',\n",
       " 'remove_custom_pattern',\n",
       " 'remove_custom_words',\n",
       " 'remove_dates',\n",
       " 'remove_emails',\n",
       " 'remove_emojis',\n",
       " 'remove_hashtags',\n",
       " 'remove_html_tags',\n",
       " 'remove_mastercard_addr',\n",
       " 'remove_md5sha',\n",
       " 'remove_multiple_spaces',\n",
       " 'remove_non_ascii',\n",
       " 'remove_numbers',\n",
       " 'remove_phone_numbers',\n",
       " 'remove_postoffice_box',\n",
       " 'remove_puncts',\n",
       " 'remove_punctuations',\n",
       " 'remove_shortwords',\n",
       " 'remove_special_characters',\n",
       " 'remove_stopwords',\n",
       " 'remove_street_address',\n",
       " 'remove_terms_in_bracket',\n",
       " 'remove_urls',\n",
       " 'remove_userhandles',\n",
       " 'remove_visacard_addr',\n",
       " 'replace_bad_quotes',\n",
       " 'replace_currencies',\n",
       " 'replace_currency_symbols',\n",
       " 'replace_dates',\n",
       " 'replace_emails',\n",
       " 'replace_emojis',\n",
       " 'replace_numbers',\n",
       " 'replace_phone_numbers',\n",
       " 'replace_special_characters',\n",
       " 'replace_term',\n",
       " 'replace_urls',\n",
       " 'string',\n",
       " 'term_freq',\n",
       " 'to_txt',\n",
       " 'unicodedata',\n",
       " 'word_freq',\n",
       " 'word_length_freq']"
      ]
     },
     "execution_count": 20,
     "metadata": {},
     "output_type": "execute_result"
    }
   ],
   "source": [
    "# Methods/Attrib\n",
    "dir(nfx)"
   ]
  },
  {
   "cell_type": "markdown",
   "id": "b8588eed",
   "metadata": {},
   "source": [
    "### Remove hashtags"
   ]
  },
  {
   "cell_type": "code",
   "execution_count": 21,
   "id": "b5c35e40",
   "metadata": {},
   "outputs": [
    {
     "data": {
      "text/plain": [
       "1                                    []\n",
       "2                                    []\n",
       "3                                    []\n",
       "5                                    []\n",
       "6                                    []\n",
       "                       ...             \n",
       "1047207    [#TechTalk:, #AI, #GPT, #ML]\n",
       "1047208                      [#ChatGPT]\n",
       "1047211                              []\n",
       "1047212                              []\n",
       "1047213                              []\n",
       "Name: Tweet, Length: 716810, dtype: object"
      ]
     },
     "execution_count": 21,
     "metadata": {},
     "output_type": "execute_result"
    }
   ],
   "source": [
    "df['Tweet'].apply(nfx.extract_hashtags)"
   ]
  },
  {
   "cell_type": "code",
   "execution_count": 22,
   "id": "0cc6a652",
   "metadata": {},
   "outputs": [],
   "source": [
    "df['extracted_hashtags'] = df['Tweet'].apply(nfx.extract_hashtags)"
   ]
  },
  {
   "cell_type": "code",
   "execution_count": 23,
   "id": "4a9ff64a",
   "metadata": {},
   "outputs": [
    {
     "data": {
      "text/plain": [
       "1                                    []\n",
       "2                                    []\n",
       "3                                    []\n",
       "5                                    []\n",
       "6                                    []\n",
       "                       ...             \n",
       "1047207    [#TechTalk:, #AI, #GPT, #ML]\n",
       "1047208                      [#ChatGPT]\n",
       "1047211                              []\n",
       "1047212                              []\n",
       "1047213                              []\n",
       "Name: extracted_hashtags, Length: 716810, dtype: object"
      ]
     },
     "execution_count": 23,
     "metadata": {},
     "output_type": "execute_result"
    }
   ],
   "source": [
    "df['extracted_hashtags']"
   ]
  },
  {
   "cell_type": "code",
   "execution_count": 24,
   "id": "ea33ac0b",
   "metadata": {},
   "outputs": [],
   "source": [
    "df['clean_tweet'] = df['Tweet'].apply(nfx.remove_hashtags)"
   ]
  },
  {
   "cell_type": "code",
   "execution_count": 25,
   "id": "1ae70a93",
   "metadata": {
    "scrolled": false
   },
   "outputs": [
    {
     "data": {
      "text/html": [
       "<div>\n",
       "<style scoped>\n",
       "    .dataframe tbody tr th:only-of-type {\n",
       "        vertical-align: middle;\n",
       "    }\n",
       "\n",
       "    .dataframe tbody tr th {\n",
       "        vertical-align: top;\n",
       "    }\n",
       "\n",
       "    .dataframe thead th {\n",
       "        text-align: right;\n",
       "    }\n",
       "</style>\n",
       "<table border=\"1\" class=\"dataframe\">\n",
       "  <thead>\n",
       "    <tr style=\"text-align: right;\">\n",
       "      <th></th>\n",
       "      <th>Tweet</th>\n",
       "      <th>clean_tweet</th>\n",
       "    </tr>\n",
       "  </thead>\n",
       "  <tbody>\n",
       "    <tr>\n",
       "      <th>1</th>\n",
       "      <td>@bitquark I am looking forward for a ChatGPT A...</td>\n",
       "      <td>@bitquark I am looking forward for a ChatGPT A...</td>\n",
       "    </tr>\n",
       "    <tr>\n",
       "      <th>2</th>\n",
       "      <td>i think i broke chatGPT. it's been frozen for ...</td>\n",
       "      <td>i think i broke chatGPT. it's been frozen for ...</td>\n",
       "    </tr>\n",
       "    <tr>\n",
       "      <th>3</th>\n",
       "      <td>I like ChatGPT as much as the next guy, but th...</td>\n",
       "      <td>I like ChatGPT as much as the next guy, but th...</td>\n",
       "    </tr>\n",
       "    <tr>\n",
       "      <th>5</th>\n",
       "      <td>It seems like sth. was changed here, because I...</td>\n",
       "      <td>It seems like sth. was changed here, because I...</td>\n",
       "    </tr>\n",
       "    <tr>\n",
       "      <th>6</th>\n",
       "      <td>I know ChatGPT is just crawling for inputs. \\n...</td>\n",
       "      <td>I know ChatGPT is just crawling for inputs. \\n...</td>\n",
       "    </tr>\n",
       "    <tr>\n",
       "      <th>...</th>\n",
       "      <td>...</td>\n",
       "      <td>...</td>\n",
       "    </tr>\n",
       "    <tr>\n",
       "      <th>1047207</th>\n",
       "      <td>#TechTalk: We asked ChatGPT to explain Bitcoin...</td>\n",
       "      <td>We asked ChatGPT to explain Bitcoin like a 1...</td>\n",
       "    </tr>\n",
       "    <tr>\n",
       "      <th>1047208</th>\n",
       "      <td>@WhaleChart there is always $chip @askChipAi n...</td>\n",
       "      <td>@WhaleChart there is always $chip @askChipAi n...</td>\n",
       "    </tr>\n",
       "    <tr>\n",
       "      <th>1047211</th>\n",
       "      <td>@NNovaDefi @thy_crypto I agree... The advantag...</td>\n",
       "      <td>@NNovaDefi @thy_crypto I agree... The advantag...</td>\n",
       "    </tr>\n",
       "    <tr>\n",
       "      <th>1047212</th>\n",
       "      <td>@WDBTHtGP This reads like ChatGPT was this Cha...</td>\n",
       "      <td>@WDBTHtGP This reads like ChatGPT was this Cha...</td>\n",
       "    </tr>\n",
       "    <tr>\n",
       "      <th>1047213</th>\n",
       "      <td>@ProductHunt â€¦ bard and chatgpt</td>\n",
       "      <td>@ProductHunt â€¦ bard and chatgpt</td>\n",
       "    </tr>\n",
       "  </tbody>\n",
       "</table>\n",
       "<p>716810 rows × 2 columns</p>\n",
       "</div>"
      ],
      "text/plain": [
       "                                                     Tweet  \\\n",
       "1        @bitquark I am looking forward for a ChatGPT A...   \n",
       "2        i think i broke chatGPT. it's been frozen for ...   \n",
       "3        I like ChatGPT as much as the next guy, but th...   \n",
       "5        It seems like sth. was changed here, because I...   \n",
       "6        I know ChatGPT is just crawling for inputs. \\n...   \n",
       "...                                                    ...   \n",
       "1047207  #TechTalk: We asked ChatGPT to explain Bitcoin...   \n",
       "1047208  @WhaleChart there is always $chip @askChipAi n...   \n",
       "1047211  @NNovaDefi @thy_crypto I agree... The advantag...   \n",
       "1047212  @WDBTHtGP This reads like ChatGPT was this Cha...   \n",
       "1047213                  @ProductHunt â€¦ bard and chatgpt   \n",
       "\n",
       "                                               clean_tweet  \n",
       "1        @bitquark I am looking forward for a ChatGPT A...  \n",
       "2        i think i broke chatGPT. it's been frozen for ...  \n",
       "3        I like ChatGPT as much as the next guy, but th...  \n",
       "5        It seems like sth. was changed here, because I...  \n",
       "6        I know ChatGPT is just crawling for inputs. \\n...  \n",
       "...                                                    ...  \n",
       "1047207    We asked ChatGPT to explain Bitcoin like a 1...  \n",
       "1047208  @WhaleChart there is always $chip @askChipAi n...  \n",
       "1047211  @NNovaDefi @thy_crypto I agree... The advantag...  \n",
       "1047212  @WDBTHtGP This reads like ChatGPT was this Cha...  \n",
       "1047213                  @ProductHunt â€¦ bard and chatgpt  \n",
       "\n",
       "[716810 rows x 2 columns]"
      ]
     },
     "execution_count": 25,
     "metadata": {},
     "output_type": "execute_result"
    }
   ],
   "source": [
    "df[['Tweet','clean_tweet']]"
   ]
  },
  {
   "cell_type": "markdown",
   "id": "7f0a8c5e",
   "metadata": {},
   "source": [
    "### Remove userhandles (@)"
   ]
  },
  {
   "cell_type": "code",
   "execution_count": 26,
   "id": "ff9a537e",
   "metadata": {},
   "outputs": [],
   "source": [
    "df['clean_tweet'] = df['clean_tweet'].apply(lambda x: nfx.remove_userhandles(x))"
   ]
  },
  {
   "cell_type": "code",
   "execution_count": 27,
   "id": "3c45330f",
   "metadata": {},
   "outputs": [
    {
     "data": {
      "text/html": [
       "<div>\n",
       "<style scoped>\n",
       "    .dataframe tbody tr th:only-of-type {\n",
       "        vertical-align: middle;\n",
       "    }\n",
       "\n",
       "    .dataframe tbody tr th {\n",
       "        vertical-align: top;\n",
       "    }\n",
       "\n",
       "    .dataframe thead th {\n",
       "        text-align: right;\n",
       "    }\n",
       "</style>\n",
       "<table border=\"1\" class=\"dataframe\">\n",
       "  <thead>\n",
       "    <tr style=\"text-align: right;\">\n",
       "      <th></th>\n",
       "      <th>Tweet</th>\n",
       "      <th>clean_tweet</th>\n",
       "    </tr>\n",
       "  </thead>\n",
       "  <tbody>\n",
       "    <tr>\n",
       "      <th>1</th>\n",
       "      <td>@bitquark I am looking forward for a ChatGPT A...</td>\n",
       "      <td>I am looking forward for a ChatGPT API, I ca...</td>\n",
       "    </tr>\n",
       "    <tr>\n",
       "      <th>2</th>\n",
       "      <td>i think i broke chatGPT. it's been frozen for ...</td>\n",
       "      <td>i think i broke chatGPT. it's been frozen for ...</td>\n",
       "    </tr>\n",
       "    <tr>\n",
       "      <th>3</th>\n",
       "      <td>I like ChatGPT as much as the next guy, but th...</td>\n",
       "      <td>I like ChatGPT as much as the next guy, but th...</td>\n",
       "    </tr>\n",
       "    <tr>\n",
       "      <th>5</th>\n",
       "      <td>It seems like sth. was changed here, because I...</td>\n",
       "      <td>It seems like sth. was changed here, because I...</td>\n",
       "    </tr>\n",
       "    <tr>\n",
       "      <th>6</th>\n",
       "      <td>I know ChatGPT is just crawling for inputs. \\n...</td>\n",
       "      <td>I know ChatGPT is just crawling for inputs. \\n...</td>\n",
       "    </tr>\n",
       "    <tr>\n",
       "      <th>...</th>\n",
       "      <td>...</td>\n",
       "      <td>...</td>\n",
       "    </tr>\n",
       "    <tr>\n",
       "      <th>1047207</th>\n",
       "      <td>#TechTalk: We asked ChatGPT to explain Bitcoin...</td>\n",
       "      <td>We asked ChatGPT to explain Bitcoin like a 1...</td>\n",
       "    </tr>\n",
       "    <tr>\n",
       "      <th>1047208</th>\n",
       "      <td>@WhaleChart there is always $chip @askChipAi n...</td>\n",
       "      <td>there is always $chip   new   on telegram â...</td>\n",
       "    </tr>\n",
       "    <tr>\n",
       "      <th>1047211</th>\n",
       "      <td>@NNovaDefi @thy_crypto I agree... The advantag...</td>\n",
       "      <td>I agree... The advantage is huge... Today ...</td>\n",
       "    </tr>\n",
       "    <tr>\n",
       "      <th>1047212</th>\n",
       "      <td>@WDBTHtGP This reads like ChatGPT was this Cha...</td>\n",
       "      <td>This reads like ChatGPT was this ChatGPT lolol</td>\n",
       "    </tr>\n",
       "    <tr>\n",
       "      <th>1047213</th>\n",
       "      <td>@ProductHunt â€¦ bard and chatgpt</td>\n",
       "      <td>â€¦ bard and chatgpt</td>\n",
       "    </tr>\n",
       "  </tbody>\n",
       "</table>\n",
       "<p>716810 rows × 2 columns</p>\n",
       "</div>"
      ],
      "text/plain": [
       "                                                     Tweet  \\\n",
       "1        @bitquark I am looking forward for a ChatGPT A...   \n",
       "2        i think i broke chatGPT. it's been frozen for ...   \n",
       "3        I like ChatGPT as much as the next guy, but th...   \n",
       "5        It seems like sth. was changed here, because I...   \n",
       "6        I know ChatGPT is just crawling for inputs. \\n...   \n",
       "...                                                    ...   \n",
       "1047207  #TechTalk: We asked ChatGPT to explain Bitcoin...   \n",
       "1047208  @WhaleChart there is always $chip @askChipAi n...   \n",
       "1047211  @NNovaDefi @thy_crypto I agree... The advantag...   \n",
       "1047212  @WDBTHtGP This reads like ChatGPT was this Cha...   \n",
       "1047213                  @ProductHunt â€¦ bard and chatgpt   \n",
       "\n",
       "                                               clean_tweet  \n",
       "1          I am looking forward for a ChatGPT API, I ca...  \n",
       "2        i think i broke chatGPT. it's been frozen for ...  \n",
       "3        I like ChatGPT as much as the next guy, but th...  \n",
       "5        It seems like sth. was changed here, because I...  \n",
       "6        I know ChatGPT is just crawling for inputs. \\n...  \n",
       "...                                                    ...  \n",
       "1047207    We asked ChatGPT to explain Bitcoin like a 1...  \n",
       "1047208    there is always $chip   new   on telegram â...  \n",
       "1047211      I agree... The advantage is huge... Today ...  \n",
       "1047212     This reads like ChatGPT was this ChatGPT lolol  \n",
       "1047213                               â€¦ bard and chatgpt  \n",
       "\n",
       "[716810 rows x 2 columns]"
      ]
     },
     "execution_count": 27,
     "metadata": {},
     "output_type": "execute_result"
    }
   ],
   "source": [
    "df[['Tweet','clean_tweet']]"
   ]
  },
  {
   "cell_type": "code",
   "execution_count": 28,
   "id": "483d1a76",
   "metadata": {},
   "outputs": [
    {
     "data": {
      "text/plain": [
       "'      ChatGPT keeps it real ðŸ˜€ ... https://t.co/3aZo8F6hu4'"
      ]
     },
     "execution_count": 28,
     "metadata": {},
     "output_type": "execute_result"
    }
   ],
   "source": [
    "df['clean_tweet'].iloc[10]"
   ]
  },
  {
   "cell_type": "code",
   "execution_count": 29,
   "id": "5d8e4d56",
   "metadata": {},
   "outputs": [],
   "source": [
    "# Cleaning Text: Multiple WhiteSpaces\n",
    "df['clean_tweet'] = df['clean_tweet'].apply(nfx.remove_multiple_spaces)"
   ]
  },
  {
   "cell_type": "markdown",
   "id": "dbd9a26d",
   "metadata": {},
   "source": [
    "### Remove urls"
   ]
  },
  {
   "cell_type": "code",
   "execution_count": 30,
   "id": "a93215aa",
   "metadata": {},
   "outputs": [],
   "source": [
    "df['clean_tweet'] = df['clean_tweet'].apply(nfx.remove_urls)"
   ]
  },
  {
   "cell_type": "code",
   "execution_count": 31,
   "id": "425c8809",
   "metadata": {},
   "outputs": [
    {
     "data": {
      "text/plain": [
       "' ChatGPT keeps it real ðŸ˜€ ... '"
      ]
     },
     "execution_count": 31,
     "metadata": {},
     "output_type": "execute_result"
    }
   ],
   "source": [
    "df['clean_tweet'].iloc[10]"
   ]
  },
  {
   "cell_type": "markdown",
   "id": "9ee80b57",
   "metadata": {},
   "source": [
    "### Remove Punctuations"
   ]
  },
  {
   "cell_type": "code",
   "execution_count": 32,
   "id": "453d84c8",
   "metadata": {},
   "outputs": [],
   "source": [
    "df['clean_tweet'] = df['clean_tweet'].apply(nfx.remove_puncts)"
   ]
  },
  {
   "cell_type": "code",
   "execution_count": 33,
   "id": "589fef44",
   "metadata": {},
   "outputs": [
    {
     "data": {
      "text/html": [
       "<div>\n",
       "<style scoped>\n",
       "    .dataframe tbody tr th:only-of-type {\n",
       "        vertical-align: middle;\n",
       "    }\n",
       "\n",
       "    .dataframe tbody tr th {\n",
       "        vertical-align: top;\n",
       "    }\n",
       "\n",
       "    .dataframe thead th {\n",
       "        text-align: right;\n",
       "    }\n",
       "</style>\n",
       "<table border=\"1\" class=\"dataframe\">\n",
       "  <thead>\n",
       "    <tr style=\"text-align: right;\">\n",
       "      <th></th>\n",
       "      <th>Tweet</th>\n",
       "      <th>clean_tweet</th>\n",
       "    </tr>\n",
       "  </thead>\n",
       "  <tbody>\n",
       "    <tr>\n",
       "      <th>1</th>\n",
       "      <td>@bitquark I am looking forward for a ChatGPT A...</td>\n",
       "      <td>I am looking forward for a ChatGPT API I can ...</td>\n",
       "    </tr>\n",
       "    <tr>\n",
       "      <th>2</th>\n",
       "      <td>i think i broke chatGPT. it's been frozen for ...</td>\n",
       "      <td>i think i broke chatGPT its been frozen for a ...</td>\n",
       "    </tr>\n",
       "    <tr>\n",
       "      <th>3</th>\n",
       "      <td>I like ChatGPT as much as the next guy, but th...</td>\n",
       "      <td>I like ChatGPT as much as the next guy but the...</td>\n",
       "    </tr>\n",
       "    <tr>\n",
       "      <th>5</th>\n",
       "      <td>It seems like sth. was changed here, because I...</td>\n",
       "      <td>It seems like sth was changed here because I c...</td>\n",
       "    </tr>\n",
       "    <tr>\n",
       "      <th>6</th>\n",
       "      <td>I know ChatGPT is just crawling for inputs. \\n...</td>\n",
       "      <td>I know ChatGPT is just crawling for inputs \\n\\...</td>\n",
       "    </tr>\n",
       "    <tr>\n",
       "      <th>...</th>\n",
       "      <td>...</td>\n",
       "      <td>...</td>\n",
       "    </tr>\n",
       "    <tr>\n",
       "      <th>1047207</th>\n",
       "      <td>#TechTalk: We asked ChatGPT to explain Bitcoin...</td>\n",
       "      <td>We asked ChatGPT to explain Bitcoin like a 19...</td>\n",
       "    </tr>\n",
       "    <tr>\n",
       "      <th>1047208</th>\n",
       "      <td>@WhaleChart there is always $chip @askChipAi n...</td>\n",
       "      <td>there is always $chip new on telegram â¤ï¸â...</td>\n",
       "    </tr>\n",
       "    <tr>\n",
       "      <th>1047211</th>\n",
       "      <td>@NNovaDefi @thy_crypto I agree... The advantag...</td>\n",
       "      <td>I agree The advantage is huge Today in my cla...</td>\n",
       "    </tr>\n",
       "    <tr>\n",
       "      <th>1047212</th>\n",
       "      <td>@WDBTHtGP This reads like ChatGPT was this Cha...</td>\n",
       "      <td>This reads like ChatGPT was this ChatGPT lolol</td>\n",
       "    </tr>\n",
       "    <tr>\n",
       "      <th>1047213</th>\n",
       "      <td>@ProductHunt â€¦ bard and chatgpt</td>\n",
       "      <td>â€¦ bard and chatgpt</td>\n",
       "    </tr>\n",
       "  </tbody>\n",
       "</table>\n",
       "<p>716810 rows × 2 columns</p>\n",
       "</div>"
      ],
      "text/plain": [
       "                                                     Tweet  \\\n",
       "1        @bitquark I am looking forward for a ChatGPT A...   \n",
       "2        i think i broke chatGPT. it's been frozen for ...   \n",
       "3        I like ChatGPT as much as the next guy, but th...   \n",
       "5        It seems like sth. was changed here, because I...   \n",
       "6        I know ChatGPT is just crawling for inputs. \\n...   \n",
       "...                                                    ...   \n",
       "1047207  #TechTalk: We asked ChatGPT to explain Bitcoin...   \n",
       "1047208  @WhaleChart there is always $chip @askChipAi n...   \n",
       "1047211  @NNovaDefi @thy_crypto I agree... The advantag...   \n",
       "1047212  @WDBTHtGP This reads like ChatGPT was this Cha...   \n",
       "1047213                  @ProductHunt â€¦ bard and chatgpt   \n",
       "\n",
       "                                               clean_tweet  \n",
       "1         I am looking forward for a ChatGPT API I can ...  \n",
       "2        i think i broke chatGPT its been frozen for a ...  \n",
       "3        I like ChatGPT as much as the next guy but the...  \n",
       "5        It seems like sth was changed here because I c...  \n",
       "6        I know ChatGPT is just crawling for inputs \\n\\...  \n",
       "...                                                    ...  \n",
       "1047207   We asked ChatGPT to explain Bitcoin like a 19...  \n",
       "1047208   there is always $chip new on telegram â¤ï¸â...  \n",
       "1047211   I agree The advantage is huge Today in my cla...  \n",
       "1047212     This reads like ChatGPT was this ChatGPT lolol  \n",
       "1047213                               â€¦ bard and chatgpt  \n",
       "\n",
       "[716810 rows x 2 columns]"
      ]
     },
     "execution_count": 33,
     "metadata": {},
     "output_type": "execute_result"
    }
   ],
   "source": [
    "df[['Tweet','clean_tweet']]"
   ]
  },
  {
   "cell_type": "markdown",
   "id": "a7d1df22",
   "metadata": {},
   "source": [
    "### Remove special_characters"
   ]
  },
  {
   "cell_type": "code",
   "execution_count": 34,
   "id": "b1afd838",
   "metadata": {},
   "outputs": [],
   "source": [
    "df['clean_tweet'] = df['clean_tweet'].apply(nfx.remove_special_characters)"
   ]
  },
  {
   "cell_type": "code",
   "execution_count": 35,
   "id": "66e69c6f",
   "metadata": {},
   "outputs": [
    {
     "data": {
      "text/html": [
       "<div>\n",
       "<style scoped>\n",
       "    .dataframe tbody tr th:only-of-type {\n",
       "        vertical-align: middle;\n",
       "    }\n",
       "\n",
       "    .dataframe tbody tr th {\n",
       "        vertical-align: top;\n",
       "    }\n",
       "\n",
       "    .dataframe thead th {\n",
       "        text-align: right;\n",
       "    }\n",
       "</style>\n",
       "<table border=\"1\" class=\"dataframe\">\n",
       "  <thead>\n",
       "    <tr style=\"text-align: right;\">\n",
       "      <th></th>\n",
       "      <th>Tweet</th>\n",
       "      <th>clean_tweet</th>\n",
       "    </tr>\n",
       "  </thead>\n",
       "  <tbody>\n",
       "    <tr>\n",
       "      <th>1</th>\n",
       "      <td>@bitquark I am looking forward for a ChatGPT A...</td>\n",
       "      <td>I am looking forward for a ChatGPT API I can ...</td>\n",
       "    </tr>\n",
       "    <tr>\n",
       "      <th>2</th>\n",
       "      <td>i think i broke chatGPT. it's been frozen for ...</td>\n",
       "      <td>i think i broke chatGPT its been frozen for a ...</td>\n",
       "    </tr>\n",
       "    <tr>\n",
       "      <th>3</th>\n",
       "      <td>I like ChatGPT as much as the next guy, but th...</td>\n",
       "      <td>I like ChatGPT as much as the next guy but the...</td>\n",
       "    </tr>\n",
       "    <tr>\n",
       "      <th>5</th>\n",
       "      <td>It seems like sth. was changed here, because I...</td>\n",
       "      <td>It seems like sth was changed here because I c...</td>\n",
       "    </tr>\n",
       "    <tr>\n",
       "      <th>6</th>\n",
       "      <td>I know ChatGPT is just crawling for inputs. \\n...</td>\n",
       "      <td>I know ChatGPT is just crawling for inputs nnE...</td>\n",
       "    </tr>\n",
       "    <tr>\n",
       "      <th>...</th>\n",
       "      <td>...</td>\n",
       "      <td>...</td>\n",
       "    </tr>\n",
       "    <tr>\n",
       "      <th>1047207</th>\n",
       "      <td>#TechTalk: We asked ChatGPT to explain Bitcoin...</td>\n",
       "      <td>We asked ChatGPT to explain Bitcoin like a 19...</td>\n",
       "    </tr>\n",
       "    <tr>\n",
       "      <th>1047208</th>\n",
       "      <td>@WhaleChart there is always $chip @askChipAi n...</td>\n",
       "      <td>there is always chip new on telegram</td>\n",
       "    </tr>\n",
       "    <tr>\n",
       "      <th>1047211</th>\n",
       "      <td>@NNovaDefi @thy_crypto I agree... The advantag...</td>\n",
       "      <td>I agree The advantage is huge Today in my cla...</td>\n",
       "    </tr>\n",
       "    <tr>\n",
       "      <th>1047212</th>\n",
       "      <td>@WDBTHtGP This reads like ChatGPT was this Cha...</td>\n",
       "      <td>This reads like ChatGPT was this ChatGPT lolol</td>\n",
       "    </tr>\n",
       "    <tr>\n",
       "      <th>1047213</th>\n",
       "      <td>@ProductHunt â€¦ bard and chatgpt</td>\n",
       "      <td>bard and chatgpt</td>\n",
       "    </tr>\n",
       "  </tbody>\n",
       "</table>\n",
       "<p>716810 rows × 2 columns</p>\n",
       "</div>"
      ],
      "text/plain": [
       "                                                     Tweet  \\\n",
       "1        @bitquark I am looking forward for a ChatGPT A...   \n",
       "2        i think i broke chatGPT. it's been frozen for ...   \n",
       "3        I like ChatGPT as much as the next guy, but th...   \n",
       "5        It seems like sth. was changed here, because I...   \n",
       "6        I know ChatGPT is just crawling for inputs. \\n...   \n",
       "...                                                    ...   \n",
       "1047207  #TechTalk: We asked ChatGPT to explain Bitcoin...   \n",
       "1047208  @WhaleChart there is always $chip @askChipAi n...   \n",
       "1047211  @NNovaDefi @thy_crypto I agree... The advantag...   \n",
       "1047212  @WDBTHtGP This reads like ChatGPT was this Cha...   \n",
       "1047213                  @ProductHunt â€¦ bard and chatgpt   \n",
       "\n",
       "                                               clean_tweet  \n",
       "1         I am looking forward for a ChatGPT API I can ...  \n",
       "2        i think i broke chatGPT its been frozen for a ...  \n",
       "3        I like ChatGPT as much as the next guy but the...  \n",
       "5        It seems like sth was changed here because I c...  \n",
       "6        I know ChatGPT is just crawling for inputs nnE...  \n",
       "...                                                    ...  \n",
       "1047207   We asked ChatGPT to explain Bitcoin like a 19...  \n",
       "1047208              there is always chip new on telegram   \n",
       "1047211   I agree The advantage is huge Today in my cla...  \n",
       "1047212     This reads like ChatGPT was this ChatGPT lolol  \n",
       "1047213                                   bard and chatgpt  \n",
       "\n",
       "[716810 rows x 2 columns]"
      ]
     },
     "execution_count": 35,
     "metadata": {},
     "output_type": "execute_result"
    }
   ],
   "source": [
    "df[['Tweet','clean_tweet']]"
   ]
  },
  {
   "cell_type": "code",
   "execution_count": 36,
   "id": "48b03773",
   "metadata": {},
   "outputs": [
    {
     "data": {
      "text/plain": [
       "' there is always chip new on telegram '"
      ]
     },
     "execution_count": 36,
     "metadata": {},
     "output_type": "execute_result"
    }
   ],
   "source": [
    "df['clean_tweet'].loc[1047208]"
   ]
  },
  {
   "cell_type": "code",
   "execution_count": 37,
   "id": "febf2ee3",
   "metadata": {},
   "outputs": [
    {
     "data": {
      "text/plain": [
       "' ChatGPT keeps it real   '"
      ]
     },
     "execution_count": 37,
     "metadata": {},
     "output_type": "execute_result"
    }
   ],
   "source": [
    "df['clean_tweet'].iloc[10]"
   ]
  },
  {
   "cell_type": "code",
   "execution_count": 38,
   "id": "076f761b",
   "metadata": {},
   "outputs": [],
   "source": [
    "# Cleaning Text: Multiple WhiteSpaces\n",
    "df['clean_tweet'] = df['clean_tweet'].apply(nfx.remove_multiple_spaces)"
   ]
  },
  {
   "cell_type": "code",
   "execution_count": 39,
   "id": "e5b39c0f",
   "metadata": {},
   "outputs": [
    {
     "data": {
      "text/plain": [
       "' ChatGPT keeps it real '"
      ]
     },
     "execution_count": 39,
     "metadata": {},
     "output_type": "execute_result"
    }
   ],
   "source": [
    "df['clean_tweet'].iloc[10]"
   ]
  },
  {
   "cell_type": "code",
   "execution_count": 40,
   "id": "798f1716",
   "metadata": {},
   "outputs": [
    {
     "data": {
      "text/plain": [
       "' One potential impact is that chatGPT could be used to create more sophisticated phishing attacks By generating convincing messages that mimic human communication attackers could trick pe'"
      ]
     },
     "execution_count": 40,
     "metadata": {},
     "output_type": "execute_result"
    }
   ],
   "source": [
    "df['clean_tweet'].iloc[100000]"
   ]
  },
  {
   "cell_type": "markdown",
   "id": "98ca8818",
   "metadata": {},
   "source": [
    "### Remove non_ascii"
   ]
  },
  {
   "cell_type": "code",
   "execution_count": 41,
   "id": "1a851325",
   "metadata": {},
   "outputs": [],
   "source": [
    " # Cleaning Text: non_ascii\n",
    "df['clean_tweet'] = df['clean_tweet'].apply(nfx.remove_non_ascii)"
   ]
  },
  {
   "cell_type": "code",
   "execution_count": 42,
   "id": "94d6c496",
   "metadata": {},
   "outputs": [
    {
     "data": {
      "text/html": [
       "<div>\n",
       "<style scoped>\n",
       "    .dataframe tbody tr th:only-of-type {\n",
       "        vertical-align: middle;\n",
       "    }\n",
       "\n",
       "    .dataframe tbody tr th {\n",
       "        vertical-align: top;\n",
       "    }\n",
       "\n",
       "    .dataframe thead th {\n",
       "        text-align: right;\n",
       "    }\n",
       "</style>\n",
       "<table border=\"1\" class=\"dataframe\">\n",
       "  <thead>\n",
       "    <tr style=\"text-align: right;\">\n",
       "      <th></th>\n",
       "      <th>Tweet</th>\n",
       "      <th>clean_tweet</th>\n",
       "    </tr>\n",
       "  </thead>\n",
       "  <tbody>\n",
       "    <tr>\n",
       "      <th>1</th>\n",
       "      <td>@bitquark I am looking forward for a ChatGPT A...</td>\n",
       "      <td>I am looking forward for a ChatGPT API I can ...</td>\n",
       "    </tr>\n",
       "    <tr>\n",
       "      <th>2</th>\n",
       "      <td>i think i broke chatGPT. it's been frozen for ...</td>\n",
       "      <td>i think i broke chatGPT its been frozen for a ...</td>\n",
       "    </tr>\n",
       "    <tr>\n",
       "      <th>3</th>\n",
       "      <td>I like ChatGPT as much as the next guy, but th...</td>\n",
       "      <td>I like ChatGPT as much as the next guy but the...</td>\n",
       "    </tr>\n",
       "    <tr>\n",
       "      <th>5</th>\n",
       "      <td>It seems like sth. was changed here, because I...</td>\n",
       "      <td>It seems like sth was changed here because I c...</td>\n",
       "    </tr>\n",
       "    <tr>\n",
       "      <th>6</th>\n",
       "      <td>I know ChatGPT is just crawling for inputs. \\n...</td>\n",
       "      <td>I know ChatGPT is just crawling for inputs nnE...</td>\n",
       "    </tr>\n",
       "    <tr>\n",
       "      <th>...</th>\n",
       "      <td>...</td>\n",
       "      <td>...</td>\n",
       "    </tr>\n",
       "    <tr>\n",
       "      <th>1047207</th>\n",
       "      <td>#TechTalk: We asked ChatGPT to explain Bitcoin...</td>\n",
       "      <td>We asked ChatGPT to explain Bitcoin like a 19...</td>\n",
       "    </tr>\n",
       "    <tr>\n",
       "      <th>1047208</th>\n",
       "      <td>@WhaleChart there is always $chip @askChipAi n...</td>\n",
       "      <td>there is always chip new on telegram</td>\n",
       "    </tr>\n",
       "    <tr>\n",
       "      <th>1047211</th>\n",
       "      <td>@NNovaDefi @thy_crypto I agree... The advantag...</td>\n",
       "      <td>I agree The advantage is huge Today in my cla...</td>\n",
       "    </tr>\n",
       "    <tr>\n",
       "      <th>1047212</th>\n",
       "      <td>@WDBTHtGP This reads like ChatGPT was this Cha...</td>\n",
       "      <td>This reads like ChatGPT was this ChatGPT lolol</td>\n",
       "    </tr>\n",
       "    <tr>\n",
       "      <th>1047213</th>\n",
       "      <td>@ProductHunt â€¦ bard and chatgpt</td>\n",
       "      <td>bard and chatgpt</td>\n",
       "    </tr>\n",
       "  </tbody>\n",
       "</table>\n",
       "<p>716810 rows × 2 columns</p>\n",
       "</div>"
      ],
      "text/plain": [
       "                                                     Tweet  \\\n",
       "1        @bitquark I am looking forward for a ChatGPT A...   \n",
       "2        i think i broke chatGPT. it's been frozen for ...   \n",
       "3        I like ChatGPT as much as the next guy, but th...   \n",
       "5        It seems like sth. was changed here, because I...   \n",
       "6        I know ChatGPT is just crawling for inputs. \\n...   \n",
       "...                                                    ...   \n",
       "1047207  #TechTalk: We asked ChatGPT to explain Bitcoin...   \n",
       "1047208  @WhaleChart there is always $chip @askChipAi n...   \n",
       "1047211  @NNovaDefi @thy_crypto I agree... The advantag...   \n",
       "1047212  @WDBTHtGP This reads like ChatGPT was this Cha...   \n",
       "1047213                  @ProductHunt â€¦ bard and chatgpt   \n",
       "\n",
       "                                               clean_tweet  \n",
       "1         I am looking forward for a ChatGPT API I can ...  \n",
       "2        i think i broke chatGPT its been frozen for a ...  \n",
       "3        I like ChatGPT as much as the next guy but the...  \n",
       "5        It seems like sth was changed here because I c...  \n",
       "6        I know ChatGPT is just crawling for inputs nnE...  \n",
       "...                                                    ...  \n",
       "1047207   We asked ChatGPT to explain Bitcoin like a 19...  \n",
       "1047208              there is always chip new on telegram   \n",
       "1047211   I agree The advantage is huge Today in my cla...  \n",
       "1047212     This reads like ChatGPT was this ChatGPT lolol  \n",
       "1047213                                   bard and chatgpt  \n",
       "\n",
       "[716810 rows x 2 columns]"
      ]
     },
     "execution_count": 42,
     "metadata": {},
     "output_type": "execute_result"
    }
   ],
   "source": [
    "df[['Tweet','clean_tweet']]"
   ]
  },
  {
   "cell_type": "code",
   "execution_count": 43,
   "id": "a975aa2d",
   "metadata": {},
   "outputs": [
    {
     "data": {
      "text/plain": [
       "' I agree The advantage is huge Today in my classroom none of my centennial students knew chatGPT or web3 I also began to think about how far many people are from this world'"
      ]
     },
     "execution_count": 43,
     "metadata": {},
     "output_type": "execute_result"
    }
   ],
   "source": [
    "df['clean_tweet'].loc[1047211]"
   ]
  },
  {
   "cell_type": "markdown",
   "id": "6407aa11",
   "metadata": {},
   "source": [
    "### Convert to Lowercase"
   ]
  },
  {
   "cell_type": "code",
   "execution_count": 44,
   "id": "5300a178",
   "metadata": {},
   "outputs": [],
   "source": [
    "df['clean_tweet'] = df['clean_tweet'].apply(str.lower)"
   ]
  },
  {
   "cell_type": "code",
   "execution_count": 45,
   "id": "9a09bf8e",
   "metadata": {},
   "outputs": [
    {
     "data": {
      "text/html": [
       "<div>\n",
       "<style scoped>\n",
       "    .dataframe tbody tr th:only-of-type {\n",
       "        vertical-align: middle;\n",
       "    }\n",
       "\n",
       "    .dataframe tbody tr th {\n",
       "        vertical-align: top;\n",
       "    }\n",
       "\n",
       "    .dataframe thead th {\n",
       "        text-align: right;\n",
       "    }\n",
       "</style>\n",
       "<table border=\"1\" class=\"dataframe\">\n",
       "  <thead>\n",
       "    <tr style=\"text-align: right;\">\n",
       "      <th></th>\n",
       "      <th>Date</th>\n",
       "      <th>UserName</th>\n",
       "      <th>Tweet</th>\n",
       "      <th>Location</th>\n",
       "      <th>IsVerified_True</th>\n",
       "      <th>extracted_hashtags</th>\n",
       "      <th>clean_tweet</th>\n",
       "    </tr>\n",
       "  </thead>\n",
       "  <tbody>\n",
       "    <tr>\n",
       "      <th>1</th>\n",
       "      <td>12/1/22</td>\n",
       "      <td>mazen160</td>\n",
       "      <td>@bitquark I am looking forward for a ChatGPT A...</td>\n",
       "      <td>At a server near you.</td>\n",
       "      <td>0</td>\n",
       "      <td>[]</td>\n",
       "      <td>i am looking forward for a chatgpt api i can ...</td>\n",
       "    </tr>\n",
       "    <tr>\n",
       "      <th>2</th>\n",
       "      <td>12/1/22</td>\n",
       "      <td>ZoumanaCisse6</td>\n",
       "      <td>i think i broke chatGPT. it's been frozen for ...</td>\n",
       "      <td>Bay area</td>\n",
       "      <td>0</td>\n",
       "      <td>[]</td>\n",
       "      <td>i think i broke chatgpt its been frozen for a ...</td>\n",
       "    </tr>\n",
       "    <tr>\n",
       "      <th>3</th>\n",
       "      <td>12/1/22</td>\n",
       "      <td>DennisLibre</td>\n",
       "      <td>I like ChatGPT as much as the next guy, but th...</td>\n",
       "      <td>Miami</td>\n",
       "      <td>0</td>\n",
       "      <td>[]</td>\n",
       "      <td>i like chatgpt as much as the next guy but the...</td>\n",
       "    </tr>\n",
       "    <tr>\n",
       "      <th>5</th>\n",
       "      <td>12/1/22</td>\n",
       "      <td>mpaepper</td>\n",
       "      <td>It seems like sth. was changed here, because I...</td>\n",
       "      <td>Hamburg, Germany</td>\n",
       "      <td>0</td>\n",
       "      <td>[]</td>\n",
       "      <td>it seems like sth was changed here because i c...</td>\n",
       "    </tr>\n",
       "    <tr>\n",
       "      <th>6</th>\n",
       "      <td>12/1/22</td>\n",
       "      <td>AaronSitze</td>\n",
       "      <td>I know ChatGPT is just crawling for inputs. \\n...</td>\n",
       "      <td>Illinois, USA</td>\n",
       "      <td>0</td>\n",
       "      <td>[]</td>\n",
       "      <td>i know chatgpt is just crawling for inputs nne...</td>\n",
       "    </tr>\n",
       "  </tbody>\n",
       "</table>\n",
       "</div>"
      ],
      "text/plain": [
       "      Date       UserName                                              Tweet  \\\n",
       "1  12/1/22       mazen160  @bitquark I am looking forward for a ChatGPT A...   \n",
       "2  12/1/22  ZoumanaCisse6  i think i broke chatGPT. it's been frozen for ...   \n",
       "3  12/1/22    DennisLibre  I like ChatGPT as much as the next guy, but th...   \n",
       "5  12/1/22       mpaepper  It seems like sth. was changed here, because I...   \n",
       "6  12/1/22     AaronSitze  I know ChatGPT is just crawling for inputs. \\n...   \n",
       "\n",
       "                Location  IsVerified_True extracted_hashtags  \\\n",
       "1  At a server near you.                0                 []   \n",
       "2               Bay area                0                 []   \n",
       "3                  Miami                0                 []   \n",
       "5       Hamburg, Germany                0                 []   \n",
       "6          Illinois, USA                0                 []   \n",
       "\n",
       "                                         clean_tweet  \n",
       "1   i am looking forward for a chatgpt api i can ...  \n",
       "2  i think i broke chatgpt its been frozen for a ...  \n",
       "3  i like chatgpt as much as the next guy but the...  \n",
       "5  it seems like sth was changed here because i c...  \n",
       "6  i know chatgpt is just crawling for inputs nne...  "
      ]
     },
     "execution_count": 45,
     "metadata": {},
     "output_type": "execute_result"
    }
   ],
   "source": [
    "df.head()"
   ]
  },
  {
   "cell_type": "markdown",
   "id": "b107bd4b",
   "metadata": {},
   "source": [
    "### Remove Stopwords"
   ]
  },
  {
   "cell_type": "code",
   "execution_count": 46,
   "id": "08b49dab",
   "metadata": {},
   "outputs": [],
   "source": [
    "df['clean_tweet'] = df['clean_tweet'].apply(nfx.remove_stopwords)"
   ]
  },
  {
   "cell_type": "code",
   "execution_count": 47,
   "id": "700c705b",
   "metadata": {},
   "outputs": [
    {
     "data": {
      "text/html": [
       "<div>\n",
       "<style scoped>\n",
       "    .dataframe tbody tr th:only-of-type {\n",
       "        vertical-align: middle;\n",
       "    }\n",
       "\n",
       "    .dataframe tbody tr th {\n",
       "        vertical-align: top;\n",
       "    }\n",
       "\n",
       "    .dataframe thead th {\n",
       "        text-align: right;\n",
       "    }\n",
       "</style>\n",
       "<table border=\"1\" class=\"dataframe\">\n",
       "  <thead>\n",
       "    <tr style=\"text-align: right;\">\n",
       "      <th></th>\n",
       "      <th>Date</th>\n",
       "      <th>UserName</th>\n",
       "      <th>Tweet</th>\n",
       "      <th>Location</th>\n",
       "      <th>IsVerified_True</th>\n",
       "      <th>extracted_hashtags</th>\n",
       "      <th>clean_tweet</th>\n",
       "    </tr>\n",
       "  </thead>\n",
       "  <tbody>\n",
       "    <tr>\n",
       "      <th>1</th>\n",
       "      <td>12/1/22</td>\n",
       "      <td>mazen160</td>\n",
       "      <td>@bitquark I am looking forward for a ChatGPT A...</td>\n",
       "      <td>At a server near you.</td>\n",
       "      <td>0</td>\n",
       "      <td>[]</td>\n",
       "      <td>looking forward chatgpt api lot tools built</td>\n",
       "    </tr>\n",
       "    <tr>\n",
       "      <th>2</th>\n",
       "      <td>12/1/22</td>\n",
       "      <td>ZoumanaCisse6</td>\n",
       "      <td>i think i broke chatGPT. it's been frozen for ...</td>\n",
       "      <td>Bay area</td>\n",
       "      <td>0</td>\n",
       "      <td>[]</td>\n",
       "      <td>think broke chatgpt frozen couple minutes</td>\n",
       "    </tr>\n",
       "    <tr>\n",
       "      <th>3</th>\n",
       "      <td>12/1/22</td>\n",
       "      <td>DennisLibre</td>\n",
       "      <td>I like ChatGPT as much as the next guy, but th...</td>\n",
       "      <td>Miami</td>\n",
       "      <td>0</td>\n",
       "      <td>[]</td>\n",
       "      <td>like chatgpt guy theres twitter im looking guy...</td>\n",
       "    </tr>\n",
       "    <tr>\n",
       "      <th>5</th>\n",
       "      <td>12/1/22</td>\n",
       "      <td>mpaepper</td>\n",
       "      <td>It seems like sth. was changed here, because I...</td>\n",
       "      <td>Hamburg, Germany</td>\n",
       "      <td>0</td>\n",
       "      <td>[]</td>\n",
       "      <td>like sth changed replicate behavior chatgpt re...</td>\n",
       "    </tr>\n",
       "    <tr>\n",
       "      <th>6</th>\n",
       "      <td>12/1/22</td>\n",
       "      <td>AaronSitze</td>\n",
       "      <td>I know ChatGPT is just crawling for inputs. \\n...</td>\n",
       "      <td>Illinois, USA</td>\n",
       "      <td>0</td>\n",
       "      <td>[]</td>\n",
       "      <td>know chatgpt crawling inputs nneven makes sad ...</td>\n",
       "    </tr>\n",
       "  </tbody>\n",
       "</table>\n",
       "</div>"
      ],
      "text/plain": [
       "      Date       UserName                                              Tweet  \\\n",
       "1  12/1/22       mazen160  @bitquark I am looking forward for a ChatGPT A...   \n",
       "2  12/1/22  ZoumanaCisse6  i think i broke chatGPT. it's been frozen for ...   \n",
       "3  12/1/22    DennisLibre  I like ChatGPT as much as the next guy, but th...   \n",
       "5  12/1/22       mpaepper  It seems like sth. was changed here, because I...   \n",
       "6  12/1/22     AaronSitze  I know ChatGPT is just crawling for inputs. \\n...   \n",
       "\n",
       "                Location  IsVerified_True extracted_hashtags  \\\n",
       "1  At a server near you.                0                 []   \n",
       "2               Bay area                0                 []   \n",
       "3                  Miami                0                 []   \n",
       "5       Hamburg, Germany                0                 []   \n",
       "6          Illinois, USA                0                 []   \n",
       "\n",
       "                                         clean_tweet  \n",
       "1        looking forward chatgpt api lot tools built  \n",
       "2          think broke chatgpt frozen couple minutes  \n",
       "3  like chatgpt guy theres twitter im looking guy...  \n",
       "5  like sth changed replicate behavior chatgpt re...  \n",
       "6  know chatgpt crawling inputs nneven makes sad ...  "
      ]
     },
     "execution_count": 47,
     "metadata": {},
     "output_type": "execute_result"
    }
   ],
   "source": [
    "df.head()"
   ]
  },
  {
   "cell_type": "markdown",
   "id": "5bdbda8e",
   "metadata": {},
   "source": [
    "### Removal of extra stop words"
   ]
  },
  {
   "cell_type": "code",
   "execution_count": 48,
   "id": "d3a7b924",
   "metadata": {},
   "outputs": [],
   "source": [
    "extraStopwords=['chatgpt','chat','gpt','chatbot','bot','ai']"
   ]
  },
  {
   "cell_type": "code",
   "execution_count": 49,
   "id": "2defcc6e",
   "metadata": {},
   "outputs": [],
   "source": [
    "df['clean_tweet'] = df['clean_tweet'].apply(lambda words: ' '.join(word.lower() for word in words.split() if word not in extraStopwords))"
   ]
  },
  {
   "cell_type": "code",
   "execution_count": 50,
   "id": "8ff56e50",
   "metadata": {},
   "outputs": [
    {
     "data": {
      "text/html": [
       "<div>\n",
       "<style scoped>\n",
       "    .dataframe tbody tr th:only-of-type {\n",
       "        vertical-align: middle;\n",
       "    }\n",
       "\n",
       "    .dataframe tbody tr th {\n",
       "        vertical-align: top;\n",
       "    }\n",
       "\n",
       "    .dataframe thead th {\n",
       "        text-align: right;\n",
       "    }\n",
       "</style>\n",
       "<table border=\"1\" class=\"dataframe\">\n",
       "  <thead>\n",
       "    <tr style=\"text-align: right;\">\n",
       "      <th></th>\n",
       "      <th>Date</th>\n",
       "      <th>UserName</th>\n",
       "      <th>Tweet</th>\n",
       "      <th>Location</th>\n",
       "      <th>IsVerified_True</th>\n",
       "      <th>extracted_hashtags</th>\n",
       "      <th>clean_tweet</th>\n",
       "    </tr>\n",
       "  </thead>\n",
       "  <tbody>\n",
       "    <tr>\n",
       "      <th>1</th>\n",
       "      <td>12/1/22</td>\n",
       "      <td>mazen160</td>\n",
       "      <td>@bitquark I am looking forward for a ChatGPT A...</td>\n",
       "      <td>At a server near you.</td>\n",
       "      <td>0</td>\n",
       "      <td>[]</td>\n",
       "      <td>looking forward api lot tools built</td>\n",
       "    </tr>\n",
       "    <tr>\n",
       "      <th>2</th>\n",
       "      <td>12/1/22</td>\n",
       "      <td>ZoumanaCisse6</td>\n",
       "      <td>i think i broke chatGPT. it's been frozen for ...</td>\n",
       "      <td>Bay area</td>\n",
       "      <td>0</td>\n",
       "      <td>[]</td>\n",
       "      <td>think broke frozen couple minutes</td>\n",
       "    </tr>\n",
       "    <tr>\n",
       "      <th>3</th>\n",
       "      <td>12/1/22</td>\n",
       "      <td>DennisLibre</td>\n",
       "      <td>I like ChatGPT as much as the next guy, but th...</td>\n",
       "      <td>Miami</td>\n",
       "      <td>0</td>\n",
       "      <td>[]</td>\n",
       "      <td>like guy theres twitter im looking guy tweets ...</td>\n",
       "    </tr>\n",
       "    <tr>\n",
       "      <th>5</th>\n",
       "      <td>12/1/22</td>\n",
       "      <td>mpaepper</td>\n",
       "      <td>It seems like sth. was changed here, because I...</td>\n",
       "      <td>Hamburg, Germany</td>\n",
       "      <td>0</td>\n",
       "      <td>[]</td>\n",
       "      <td>like sth changed replicate behavior refuses wr...</td>\n",
       "    </tr>\n",
       "    <tr>\n",
       "      <th>6</th>\n",
       "      <td>12/1/22</td>\n",
       "      <td>AaronSitze</td>\n",
       "      <td>I know ChatGPT is just crawling for inputs. \\n...</td>\n",
       "      <td>Illinois, USA</td>\n",
       "      <td>0</td>\n",
       "      <td>[]</td>\n",
       "      <td>know crawling inputs nneven makes sad vision e...</td>\n",
       "    </tr>\n",
       "  </tbody>\n",
       "</table>\n",
       "</div>"
      ],
      "text/plain": [
       "      Date       UserName                                              Tweet  \\\n",
       "1  12/1/22       mazen160  @bitquark I am looking forward for a ChatGPT A...   \n",
       "2  12/1/22  ZoumanaCisse6  i think i broke chatGPT. it's been frozen for ...   \n",
       "3  12/1/22    DennisLibre  I like ChatGPT as much as the next guy, but th...   \n",
       "5  12/1/22       mpaepper  It seems like sth. was changed here, because I...   \n",
       "6  12/1/22     AaronSitze  I know ChatGPT is just crawling for inputs. \\n...   \n",
       "\n",
       "                Location  IsVerified_True extracted_hashtags  \\\n",
       "1  At a server near you.                0                 []   \n",
       "2               Bay area                0                 []   \n",
       "3                  Miami                0                 []   \n",
       "5       Hamburg, Germany                0                 []   \n",
       "6          Illinois, USA                0                 []   \n",
       "\n",
       "                                         clean_tweet  \n",
       "1                looking forward api lot tools built  \n",
       "2                  think broke frozen couple minutes  \n",
       "3  like guy theres twitter im looking guy tweets ...  \n",
       "5  like sth changed replicate behavior refuses wr...  \n",
       "6  know crawling inputs nneven makes sad vision e...  "
      ]
     },
     "execution_count": 50,
     "metadata": {},
     "output_type": "execute_result"
    }
   ],
   "source": [
    "df.head()"
   ]
  },
  {
   "cell_type": "markdown",
   "id": "1c2f2269",
   "metadata": {},
   "source": [
    "### Tokenization"
   ]
  },
  {
   "cell_type": "code",
   "execution_count": 51,
   "id": "998ca19b",
   "metadata": {},
   "outputs": [],
   "source": [
    "df['tokenized_tweet'] = df['clean_tweet'].apply(nltk.word_tokenize)"
   ]
  },
  {
   "cell_type": "code",
   "execution_count": 52,
   "id": "ff3d4527",
   "metadata": {},
   "outputs": [
    {
     "data": {
      "text/html": [
       "<div>\n",
       "<style scoped>\n",
       "    .dataframe tbody tr th:only-of-type {\n",
       "        vertical-align: middle;\n",
       "    }\n",
       "\n",
       "    .dataframe tbody tr th {\n",
       "        vertical-align: top;\n",
       "    }\n",
       "\n",
       "    .dataframe thead th {\n",
       "        text-align: right;\n",
       "    }\n",
       "</style>\n",
       "<table border=\"1\" class=\"dataframe\">\n",
       "  <thead>\n",
       "    <tr style=\"text-align: right;\">\n",
       "      <th></th>\n",
       "      <th>Date</th>\n",
       "      <th>UserName</th>\n",
       "      <th>Tweet</th>\n",
       "      <th>Location</th>\n",
       "      <th>IsVerified_True</th>\n",
       "      <th>extracted_hashtags</th>\n",
       "      <th>clean_tweet</th>\n",
       "      <th>tokenized_tweet</th>\n",
       "    </tr>\n",
       "  </thead>\n",
       "  <tbody>\n",
       "    <tr>\n",
       "      <th>1</th>\n",
       "      <td>12/1/22</td>\n",
       "      <td>mazen160</td>\n",
       "      <td>@bitquark I am looking forward for a ChatGPT A...</td>\n",
       "      <td>At a server near you.</td>\n",
       "      <td>0</td>\n",
       "      <td>[]</td>\n",
       "      <td>looking forward api lot tools built</td>\n",
       "      <td>[looking, forward, api, lot, tools, built]</td>\n",
       "    </tr>\n",
       "    <tr>\n",
       "      <th>2</th>\n",
       "      <td>12/1/22</td>\n",
       "      <td>ZoumanaCisse6</td>\n",
       "      <td>i think i broke chatGPT. it's been frozen for ...</td>\n",
       "      <td>Bay area</td>\n",
       "      <td>0</td>\n",
       "      <td>[]</td>\n",
       "      <td>think broke frozen couple minutes</td>\n",
       "      <td>[think, broke, frozen, couple, minutes]</td>\n",
       "    </tr>\n",
       "    <tr>\n",
       "      <th>3</th>\n",
       "      <td>12/1/22</td>\n",
       "      <td>DennisLibre</td>\n",
       "      <td>I like ChatGPT as much as the next guy, but th...</td>\n",
       "      <td>Miami</td>\n",
       "      <td>0</td>\n",
       "      <td>[]</td>\n",
       "      <td>like guy theres twitter im looking guy tweets ...</td>\n",
       "      <td>[like, guy, theres, twitter, im, looking, guy,...</td>\n",
       "    </tr>\n",
       "    <tr>\n",
       "      <th>5</th>\n",
       "      <td>12/1/22</td>\n",
       "      <td>mpaepper</td>\n",
       "      <td>It seems like sth. was changed here, because I...</td>\n",
       "      <td>Hamburg, Germany</td>\n",
       "      <td>0</td>\n",
       "      <td>[]</td>\n",
       "      <td>like sth changed replicate behavior refuses wr...</td>\n",
       "      <td>[like, sth, changed, replicate, behavior, refu...</td>\n",
       "    </tr>\n",
       "    <tr>\n",
       "      <th>6</th>\n",
       "      <td>12/1/22</td>\n",
       "      <td>AaronSitze</td>\n",
       "      <td>I know ChatGPT is just crawling for inputs. \\n...</td>\n",
       "      <td>Illinois, USA</td>\n",
       "      <td>0</td>\n",
       "      <td>[]</td>\n",
       "      <td>know crawling inputs nneven makes sad vision e...</td>\n",
       "      <td>[know, crawling, inputs, nneven, makes, sad, v...</td>\n",
       "    </tr>\n",
       "  </tbody>\n",
       "</table>\n",
       "</div>"
      ],
      "text/plain": [
       "      Date       UserName                                              Tweet  \\\n",
       "1  12/1/22       mazen160  @bitquark I am looking forward for a ChatGPT A...   \n",
       "2  12/1/22  ZoumanaCisse6  i think i broke chatGPT. it's been frozen for ...   \n",
       "3  12/1/22    DennisLibre  I like ChatGPT as much as the next guy, but th...   \n",
       "5  12/1/22       mpaepper  It seems like sth. was changed here, because I...   \n",
       "6  12/1/22     AaronSitze  I know ChatGPT is just crawling for inputs. \\n...   \n",
       "\n",
       "                Location  IsVerified_True extracted_hashtags  \\\n",
       "1  At a server near you.                0                 []   \n",
       "2               Bay area                0                 []   \n",
       "3                  Miami                0                 []   \n",
       "5       Hamburg, Germany                0                 []   \n",
       "6          Illinois, USA                0                 []   \n",
       "\n",
       "                                         clean_tweet  \\\n",
       "1                looking forward api lot tools built   \n",
       "2                  think broke frozen couple minutes   \n",
       "3  like guy theres twitter im looking guy tweets ...   \n",
       "5  like sth changed replicate behavior refuses wr...   \n",
       "6  know crawling inputs nneven makes sad vision e...   \n",
       "\n",
       "                                     tokenized_tweet  \n",
       "1         [looking, forward, api, lot, tools, built]  \n",
       "2            [think, broke, frozen, couple, minutes]  \n",
       "3  [like, guy, theres, twitter, im, looking, guy,...  \n",
       "5  [like, sth, changed, replicate, behavior, refu...  \n",
       "6  [know, crawling, inputs, nneven, makes, sad, v...  "
      ]
     },
     "execution_count": 52,
     "metadata": {},
     "output_type": "execute_result"
    }
   ],
   "source": [
    "df.head()"
   ]
  },
  {
   "cell_type": "markdown",
   "id": "14da2eeb",
   "metadata": {},
   "source": [
    "### Lemmatization and Stemming"
   ]
  },
  {
   "cell_type": "markdown",
   "id": "748b8822",
   "metadata": {},
   "source": [
    "#### Stemming and Lemmatization Functions"
   ]
  },
  {
   "cell_type": "code",
   "execution_count": 53,
   "id": "473fd937",
   "metadata": {},
   "outputs": [],
   "source": [
    "def df_lemmatize(row):\n",
    "    lemmatizer = WordNetLemmatizer()\n",
    "    lemma_words = [lemmatizer.lemmatize(w, pos='a') for w in row]\n",
    "    return lemma_words\n",
    "\n",
    "def stem_words(row):\n",
    "    \"\"\"Stem words in list of tokenized words\"\"\"\n",
    "    stemmer = PorterStemmer()\n",
    "    stemmed_words = [stemmer.stem(w) for w in row]\n",
    "    return stemmed_words"
   ]
  },
  {
   "cell_type": "code",
   "execution_count": 54,
   "id": "0729bb84",
   "metadata": {},
   "outputs": [],
   "source": [
    "df['lemmatized_tweet'] = df['tokenized_tweet'].apply(df_lemmatize)\n",
    "df['stemmed_tweet'] = df['tokenized_tweet'].apply(stem_words)"
   ]
  },
  {
   "cell_type": "code",
   "execution_count": 55,
   "id": "e57fd1e1",
   "metadata": {},
   "outputs": [
    {
     "data": {
      "text/html": [
       "<div>\n",
       "<style scoped>\n",
       "    .dataframe tbody tr th:only-of-type {\n",
       "        vertical-align: middle;\n",
       "    }\n",
       "\n",
       "    .dataframe tbody tr th {\n",
       "        vertical-align: top;\n",
       "    }\n",
       "\n",
       "    .dataframe thead th {\n",
       "        text-align: right;\n",
       "    }\n",
       "</style>\n",
       "<table border=\"1\" class=\"dataframe\">\n",
       "  <thead>\n",
       "    <tr style=\"text-align: right;\">\n",
       "      <th></th>\n",
       "      <th>Date</th>\n",
       "      <th>UserName</th>\n",
       "      <th>Tweet</th>\n",
       "      <th>Location</th>\n",
       "      <th>IsVerified_True</th>\n",
       "      <th>extracted_hashtags</th>\n",
       "      <th>clean_tweet</th>\n",
       "      <th>tokenized_tweet</th>\n",
       "      <th>lemmatized_tweet</th>\n",
       "      <th>stemmed_tweet</th>\n",
       "    </tr>\n",
       "  </thead>\n",
       "  <tbody>\n",
       "    <tr>\n",
       "      <th>1</th>\n",
       "      <td>12/1/22</td>\n",
       "      <td>mazen160</td>\n",
       "      <td>@bitquark I am looking forward for a ChatGPT A...</td>\n",
       "      <td>At a server near you.</td>\n",
       "      <td>0</td>\n",
       "      <td>[]</td>\n",
       "      <td>looking forward api lot tools built</td>\n",
       "      <td>[looking, forward, api, lot, tools, built]</td>\n",
       "      <td>[looking, forward, api, lot, tools, built]</td>\n",
       "      <td>[look, forward, api, lot, tool, built]</td>\n",
       "    </tr>\n",
       "    <tr>\n",
       "      <th>2</th>\n",
       "      <td>12/1/22</td>\n",
       "      <td>ZoumanaCisse6</td>\n",
       "      <td>i think i broke chatGPT. it's been frozen for ...</td>\n",
       "      <td>Bay area</td>\n",
       "      <td>0</td>\n",
       "      <td>[]</td>\n",
       "      <td>think broke frozen couple minutes</td>\n",
       "      <td>[think, broke, frozen, couple, minutes]</td>\n",
       "      <td>[think, broke, frozen, couple, minutes]</td>\n",
       "      <td>[think, broke, frozen, coupl, minut]</td>\n",
       "    </tr>\n",
       "    <tr>\n",
       "      <th>3</th>\n",
       "      <td>12/1/22</td>\n",
       "      <td>DennisLibre</td>\n",
       "      <td>I like ChatGPT as much as the next guy, but th...</td>\n",
       "      <td>Miami</td>\n",
       "      <td>0</td>\n",
       "      <td>[]</td>\n",
       "      <td>like guy theres twitter im looking guy tweets ...</td>\n",
       "      <td>[like, guy, theres, twitter, im, looking, guy,...</td>\n",
       "      <td>[like, guy, theres, twitter, im, looking, guy,...</td>\n",
       "      <td>[like, guy, there, twitter, im, look, guy, twe...</td>\n",
       "    </tr>\n",
       "    <tr>\n",
       "      <th>5</th>\n",
       "      <td>12/1/22</td>\n",
       "      <td>mpaepper</td>\n",
       "      <td>It seems like sth. was changed here, because I...</td>\n",
       "      <td>Hamburg, Germany</td>\n",
       "      <td>0</td>\n",
       "      <td>[]</td>\n",
       "      <td>like sth changed replicate behavior refuses wr...</td>\n",
       "      <td>[like, sth, changed, replicate, behavior, refu...</td>\n",
       "      <td>[like, sth, changed, replicate, behavior, refu...</td>\n",
       "      <td>[like, sth, chang, replic, behavior, refus, wr...</td>\n",
       "    </tr>\n",
       "    <tr>\n",
       "      <th>6</th>\n",
       "      <td>12/1/22</td>\n",
       "      <td>AaronSitze</td>\n",
       "      <td>I know ChatGPT is just crawling for inputs. \\n...</td>\n",
       "      <td>Illinois, USA</td>\n",
       "      <td>0</td>\n",
       "      <td>[]</td>\n",
       "      <td>know crawling inputs nneven makes sad vision e...</td>\n",
       "      <td>[know, crawling, inputs, nneven, makes, sad, v...</td>\n",
       "      <td>[know, crawling, inputs, nneven, makes, sad, v...</td>\n",
       "      <td>[know, crawl, input, nneven, make, sad, vision...</td>\n",
       "    </tr>\n",
       "  </tbody>\n",
       "</table>\n",
       "</div>"
      ],
      "text/plain": [
       "      Date       UserName                                              Tweet  \\\n",
       "1  12/1/22       mazen160  @bitquark I am looking forward for a ChatGPT A...   \n",
       "2  12/1/22  ZoumanaCisse6  i think i broke chatGPT. it's been frozen for ...   \n",
       "3  12/1/22    DennisLibre  I like ChatGPT as much as the next guy, but th...   \n",
       "5  12/1/22       mpaepper  It seems like sth. was changed here, because I...   \n",
       "6  12/1/22     AaronSitze  I know ChatGPT is just crawling for inputs. \\n...   \n",
       "\n",
       "                Location  IsVerified_True extracted_hashtags  \\\n",
       "1  At a server near you.                0                 []   \n",
       "2               Bay area                0                 []   \n",
       "3                  Miami                0                 []   \n",
       "5       Hamburg, Germany                0                 []   \n",
       "6          Illinois, USA                0                 []   \n",
       "\n",
       "                                         clean_tweet  \\\n",
       "1                looking forward api lot tools built   \n",
       "2                  think broke frozen couple minutes   \n",
       "3  like guy theres twitter im looking guy tweets ...   \n",
       "5  like sth changed replicate behavior refuses wr...   \n",
       "6  know crawling inputs nneven makes sad vision e...   \n",
       "\n",
       "                                     tokenized_tweet  \\\n",
       "1         [looking, forward, api, lot, tools, built]   \n",
       "2            [think, broke, frozen, couple, minutes]   \n",
       "3  [like, guy, theres, twitter, im, looking, guy,...   \n",
       "5  [like, sth, changed, replicate, behavior, refu...   \n",
       "6  [know, crawling, inputs, nneven, makes, sad, v...   \n",
       "\n",
       "                                    lemmatized_tweet  \\\n",
       "1         [looking, forward, api, lot, tools, built]   \n",
       "2            [think, broke, frozen, couple, minutes]   \n",
       "3  [like, guy, theres, twitter, im, looking, guy,...   \n",
       "5  [like, sth, changed, replicate, behavior, refu...   \n",
       "6  [know, crawling, inputs, nneven, makes, sad, v...   \n",
       "\n",
       "                                       stemmed_tweet  \n",
       "1             [look, forward, api, lot, tool, built]  \n",
       "2               [think, broke, frozen, coupl, minut]  \n",
       "3  [like, guy, there, twitter, im, look, guy, twe...  \n",
       "5  [like, sth, chang, replic, behavior, refus, wr...  \n",
       "6  [know, crawl, input, nneven, make, sad, vision...  "
      ]
     },
     "execution_count": 55,
     "metadata": {},
     "output_type": "execute_result"
    }
   ],
   "source": [
    "df.head()"
   ]
  },
  {
   "cell_type": "code",
   "execution_count": 56,
   "id": "81ff5610",
   "metadata": {},
   "outputs": [
    {
     "data": {
      "text/plain": [
       "(716810, 10)"
      ]
     },
     "execution_count": 56,
     "metadata": {},
     "output_type": "execute_result"
    }
   ],
   "source": [
    "df.shape"
   ]
  },
  {
   "cell_type": "code",
   "execution_count": 57,
   "id": "4f9f5fa7",
   "metadata": {},
   "outputs": [],
   "source": [
    "df.to_excel('CleanedData.xlsx', index=False)"
   ]
  }
 ],
 "metadata": {
  "kernelspec": {
   "display_name": "Python 3 (ipykernel)",
   "language": "python",
   "name": "python3"
  },
  "language_info": {
   "codemirror_mode": {
    "name": "ipython",
    "version": 3
   },
   "file_extension": ".py",
   "mimetype": "text/x-python",
   "name": "python",
   "nbconvert_exporter": "python",
   "pygments_lexer": "ipython3",
   "version": "3.8.8"
  }
 },
 "nbformat": 4,
 "nbformat_minor": 5
}
