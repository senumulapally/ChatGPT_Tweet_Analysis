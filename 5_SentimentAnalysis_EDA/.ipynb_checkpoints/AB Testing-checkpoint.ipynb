{
 "cells": [
  {
   "cell_type": "markdown",
   "id": "7bd3400e",
   "metadata": {},
   "source": [
    "### AB Testing"
   ]
  },
  {
   "cell_type": "markdown",
   "id": "6dcf205e",
   "metadata": {},
   "source": [
    "#### Importing Libraries"
   ]
  },
  {
   "cell_type": "code",
   "execution_count": 1,
   "id": "54332173",
   "metadata": {},
   "outputs": [],
   "source": [
    "import re\n",
    "import matplotlib.pyplot as plt\n",
    "import pandas as pd\n",
    "import nltk\n",
    "from nltk.sentiment import SentimentIntensityAnalyzer\n",
    "import plotly.express as px\n",
    "import plotly.graph_objects as go"
   ]
  },
  {
   "cell_type": "code",
   "execution_count": 2,
   "id": "782e4126",
   "metadata": {},
   "outputs": [],
   "source": [
    "df = pd.read_csv('Topics_Sentiments.csv')"
   ]
  },
  {
   "cell_type": "code",
   "execution_count": 3,
   "id": "72952583",
   "metadata": {},
   "outputs": [
    {
     "data": {
      "text/plain": [
       "array(['T5 Content Creation and Ideas Generation',\n",
       "       'T6 Programming and Gaming',\n",
       "       'T6 Impacts on Education and Academia',\n",
       "       'T2 Conversational AI and Bias in Data',\n",
       "       'T6 Natural Language Processing', 'T4 Writing Styles and prompts',\n",
       "       'T3 Future of Technology and Impact on Career',\n",
       "       'T1 Competition of Search Engines'], dtype=object)"
      ]
     },
     "execution_count": 3,
     "metadata": {},
     "output_type": "execute_result"
    }
   ],
   "source": [
    "df.Topic_Name.unique()"
   ]
  },
  {
   "cell_type": "code",
   "execution_count": 4,
   "id": "0309d9a2",
   "metadata": {},
   "outputs": [],
   "source": [
    "df['Topic_Name'] = df['Topic_Name'].replace('T6 Programming and Gaming', 'T7 Programming and Gaming')"
   ]
  },
  {
   "cell_type": "code",
   "execution_count": 5,
   "id": "1433f851",
   "metadata": {
    "scrolled": true
   },
   "outputs": [
    {
     "data": {
      "text/plain": [
       "array(['T5 Content Creation and Ideas Generation',\n",
       "       'T7 Programming and Gaming',\n",
       "       'T6 Impacts on Education and Academia',\n",
       "       'T2 Conversational AI and Bias in Data',\n",
       "       'T6 Natural Language Processing', 'T4 Writing Styles and prompts',\n",
       "       'T3 Future of Technology and Impact on Career',\n",
       "       'T1 Competition of Search Engines'], dtype=object)"
      ]
     },
     "execution_count": 5,
     "metadata": {},
     "output_type": "execute_result"
    }
   ],
   "source": [
    "df.Topic_Name.unique()"
   ]
  },
  {
   "cell_type": "code",
   "execution_count": 6,
   "id": "236f75c9",
   "metadata": {},
   "outputs": [],
   "source": [
    "df['Topic_Name'] = df['Topic_Name'].replace('T6 Natural Language Processing', 'T8 Natural Language Processing')"
   ]
  },
  {
   "cell_type": "code",
   "execution_count": 7,
   "id": "bfcf114a",
   "metadata": {
    "scrolled": true
   },
   "outputs": [
    {
     "data": {
      "text/html": [
       "<div>\n",
       "<style scoped>\n",
       "    .dataframe tbody tr th:only-of-type {\n",
       "        vertical-align: middle;\n",
       "    }\n",
       "\n",
       "    .dataframe tbody tr th {\n",
       "        vertical-align: top;\n",
       "    }\n",
       "\n",
       "    .dataframe thead th {\n",
       "        text-align: right;\n",
       "    }\n",
       "</style>\n",
       "<table border=\"1\" class=\"dataframe\">\n",
       "  <thead>\n",
       "    <tr style=\"text-align: right;\">\n",
       "      <th></th>\n",
       "      <th>Date</th>\n",
       "      <th>UserName</th>\n",
       "      <th>Tweet</th>\n",
       "      <th>Location</th>\n",
       "      <th>IsVerified_True</th>\n",
       "      <th>extracted_hashtags</th>\n",
       "      <th>clean_tweet</th>\n",
       "      <th>tokenized_tweet</th>\n",
       "      <th>lemmatized_tweet</th>\n",
       "      <th>stemmed_tweet</th>\n",
       "      <th>country</th>\n",
       "      <th>Dominant_Topic</th>\n",
       "      <th>Contribution%</th>\n",
       "      <th>Topic_Name</th>\n",
       "      <th>sentiment_scores</th>\n",
       "      <th>sentiment</th>\n",
       "    </tr>\n",
       "  </thead>\n",
       "  <tbody>\n",
       "    <tr>\n",
       "      <th>0</th>\n",
       "      <td>12/1/22</td>\n",
       "      <td>mazen160</td>\n",
       "      <td>@bitquark I am looking forward for a ChatGPT A...</td>\n",
       "      <td>At a server near you.</td>\n",
       "      <td>0</td>\n",
       "      <td>[]</td>\n",
       "      <td>looking forward api lot tools built</td>\n",
       "      <td>['looking', 'forward', 'api', 'lot', 'tools', ...</td>\n",
       "      <td>['looking', 'forward', 'api', 'lot', 'tools', ...</td>\n",
       "      <td>['look', 'forward', 'api', 'lot', 'tool', 'bui...</td>\n",
       "      <td>Unknown</td>\n",
       "      <td>5</td>\n",
       "      <td>46.86</td>\n",
       "      <td>T5 Content Creation and Ideas Generation</td>\n",
       "      <td>{'neg': 0.0, 'neu': 1.0, 'pos': 0.0, 'compound...</td>\n",
       "      <td>neutral</td>\n",
       "    </tr>\n",
       "    <tr>\n",
       "      <th>1</th>\n",
       "      <td>12/1/22</td>\n",
       "      <td>ZoumanaCisse6</td>\n",
       "      <td>i think i broke chatGPT. it's been frozen for ...</td>\n",
       "      <td>Bay area</td>\n",
       "      <td>0</td>\n",
       "      <td>[]</td>\n",
       "      <td>think broke frozen couple minutes</td>\n",
       "      <td>['think', 'broke', 'frozen', 'couple', 'minutes']</td>\n",
       "      <td>['think', 'broke', 'frozen', 'couple', 'minutes']</td>\n",
       "      <td>['think', 'broke', 'frozen', 'coupl', 'minut']</td>\n",
       "      <td>United States</td>\n",
       "      <td>7</td>\n",
       "      <td>35.49</td>\n",
       "      <td>T7 Programming and Gaming</td>\n",
       "      <td>{'neg': 0.412, 'neu': 0.588, 'pos': 0.0, 'comp...</td>\n",
       "      <td>negative</td>\n",
       "    </tr>\n",
       "    <tr>\n",
       "      <th>2</th>\n",
       "      <td>12/1/22</td>\n",
       "      <td>DennisLibre</td>\n",
       "      <td>I like ChatGPT as much as the next guy, but th...</td>\n",
       "      <td>Miami</td>\n",
       "      <td>0</td>\n",
       "      <td>[]</td>\n",
       "      <td>like guy theres twitter im looking guy tweets ...</td>\n",
       "      <td>['like', 'guy', 'theres', 'twitter', 'im', 'lo...</td>\n",
       "      <td>['like', 'guy', 'theres', 'twitter', 'im', 'lo...</td>\n",
       "      <td>['like', 'guy', 'there', 'twitter', 'im', 'loo...</td>\n",
       "      <td>United States</td>\n",
       "      <td>6</td>\n",
       "      <td>39.30</td>\n",
       "      <td>T6 Impacts on Education and Academia</td>\n",
       "      <td>{'neg': 0.0, 'neu': 0.828, 'pos': 0.172, 'comp...</td>\n",
       "      <td>positive</td>\n",
       "    </tr>\n",
       "    <tr>\n",
       "      <th>3</th>\n",
       "      <td>12/1/22</td>\n",
       "      <td>mpaepper</td>\n",
       "      <td>It seems like sth. was changed here, because I...</td>\n",
       "      <td>Hamburg, Germany</td>\n",
       "      <td>0</td>\n",
       "      <td>[]</td>\n",
       "      <td>like sth changed replicate behavior refuses wr...</td>\n",
       "      <td>['like', 'sth', 'changed', 'replicate', 'behav...</td>\n",
       "      <td>['like', 'sth', 'changed', 'replicate', 'behav...</td>\n",
       "      <td>['like', 'sth', 'chang', 'replic', 'behavior',...</td>\n",
       "      <td>Deutschland</td>\n",
       "      <td>2</td>\n",
       "      <td>41.34</td>\n",
       "      <td>T2 Conversational AI and Bias in Data</td>\n",
       "      <td>{'neg': 0.0, 'neu': 0.737, 'pos': 0.263, 'comp...</td>\n",
       "      <td>positive</td>\n",
       "    </tr>\n",
       "    <tr>\n",
       "      <th>4</th>\n",
       "      <td>12/1/22</td>\n",
       "      <td>AaronSitze</td>\n",
       "      <td>I know ChatGPT is just crawling for inputs. \\n...</td>\n",
       "      <td>Illinois, USA</td>\n",
       "      <td>0</td>\n",
       "      <td>[]</td>\n",
       "      <td>know crawling inputs nneven makes sad vision e...</td>\n",
       "      <td>['know', 'crawling', 'inputs', 'nneven', 'make...</td>\n",
       "      <td>['know', 'crawling', 'inputs', 'nneven', 'make...</td>\n",
       "      <td>['know', 'crawl', 'input', 'nneven', 'make', '...</td>\n",
       "      <td>United States</td>\n",
       "      <td>6</td>\n",
       "      <td>55.46</td>\n",
       "      <td>T6 Impacts on Education and Academia</td>\n",
       "      <td>{'neg': 0.172, 'neu': 0.556, 'pos': 0.272, 'co...</td>\n",
       "      <td>positive</td>\n",
       "    </tr>\n",
       "  </tbody>\n",
       "</table>\n",
       "</div>"
      ],
      "text/plain": [
       "      Date       UserName                                              Tweet   \n",
       "0  12/1/22       mazen160  @bitquark I am looking forward for a ChatGPT A...  \\\n",
       "1  12/1/22  ZoumanaCisse6  i think i broke chatGPT. it's been frozen for ...   \n",
       "2  12/1/22    DennisLibre  I like ChatGPT as much as the next guy, but th...   \n",
       "3  12/1/22       mpaepper  It seems like sth. was changed here, because I...   \n",
       "4  12/1/22     AaronSitze  I know ChatGPT is just crawling for inputs. \\n...   \n",
       "\n",
       "                Location  IsVerified_True extracted_hashtags   \n",
       "0  At a server near you.                0                 []  \\\n",
       "1               Bay area                0                 []   \n",
       "2                  Miami                0                 []   \n",
       "3       Hamburg, Germany                0                 []   \n",
       "4          Illinois, USA                0                 []   \n",
       "\n",
       "                                         clean_tweet   \n",
       "0                looking forward api lot tools built  \\\n",
       "1                  think broke frozen couple minutes   \n",
       "2  like guy theres twitter im looking guy tweets ...   \n",
       "3  like sth changed replicate behavior refuses wr...   \n",
       "4  know crawling inputs nneven makes sad vision e...   \n",
       "\n",
       "                                     tokenized_tweet   \n",
       "0  ['looking', 'forward', 'api', 'lot', 'tools', ...  \\\n",
       "1  ['think', 'broke', 'frozen', 'couple', 'minutes']   \n",
       "2  ['like', 'guy', 'theres', 'twitter', 'im', 'lo...   \n",
       "3  ['like', 'sth', 'changed', 'replicate', 'behav...   \n",
       "4  ['know', 'crawling', 'inputs', 'nneven', 'make...   \n",
       "\n",
       "                                    lemmatized_tweet   \n",
       "0  ['looking', 'forward', 'api', 'lot', 'tools', ...  \\\n",
       "1  ['think', 'broke', 'frozen', 'couple', 'minutes']   \n",
       "2  ['like', 'guy', 'theres', 'twitter', 'im', 'lo...   \n",
       "3  ['like', 'sth', 'changed', 'replicate', 'behav...   \n",
       "4  ['know', 'crawling', 'inputs', 'nneven', 'make...   \n",
       "\n",
       "                                       stemmed_tweet        country   \n",
       "0  ['look', 'forward', 'api', 'lot', 'tool', 'bui...        Unknown  \\\n",
       "1     ['think', 'broke', 'frozen', 'coupl', 'minut']  United States   \n",
       "2  ['like', 'guy', 'there', 'twitter', 'im', 'loo...  United States   \n",
       "3  ['like', 'sth', 'chang', 'replic', 'behavior',...    Deutschland   \n",
       "4  ['know', 'crawl', 'input', 'nneven', 'make', '...  United States   \n",
       "\n",
       "   Dominant_Topic  Contribution%                                Topic_Name   \n",
       "0               5          46.86  T5 Content Creation and Ideas Generation  \\\n",
       "1               7          35.49                 T7 Programming and Gaming   \n",
       "2               6          39.30      T6 Impacts on Education and Academia   \n",
       "3               2          41.34     T2 Conversational AI and Bias in Data   \n",
       "4               6          55.46      T6 Impacts on Education and Academia   \n",
       "\n",
       "                                    sentiment_scores sentiment  \n",
       "0  {'neg': 0.0, 'neu': 1.0, 'pos': 0.0, 'compound...   neutral  \n",
       "1  {'neg': 0.412, 'neu': 0.588, 'pos': 0.0, 'comp...  negative  \n",
       "2  {'neg': 0.0, 'neu': 0.828, 'pos': 0.172, 'comp...  positive  \n",
       "3  {'neg': 0.0, 'neu': 0.737, 'pos': 0.263, 'comp...  positive  \n",
       "4  {'neg': 0.172, 'neu': 0.556, 'pos': 0.272, 'co...  positive  "
      ]
     },
     "execution_count": 7,
     "metadata": {},
     "output_type": "execute_result"
    }
   ],
   "source": [
    "df.head()"
   ]
  },
  {
   "cell_type": "code",
   "execution_count": 8,
   "id": "99c460dc",
   "metadata": {
    "scrolled": true
   },
   "outputs": [
    {
     "data": {
      "text/plain": [
       "array(['T5 Content Creation and Ideas Generation',\n",
       "       'T7 Programming and Gaming',\n",
       "       'T6 Impacts on Education and Academia',\n",
       "       'T2 Conversational AI and Bias in Data',\n",
       "       'T8 Natural Language Processing', 'T4 Writing Styles and prompts',\n",
       "       'T3 Future of Technology and Impact on Career',\n",
       "       'T1 Competition of Search Engines'], dtype=object)"
      ]
     },
     "execution_count": 8,
     "metadata": {},
     "output_type": "execute_result"
    }
   ],
   "source": [
    "df.Topic_Name.unique()"
   ]
  },
  {
   "cell_type": "code",
   "execution_count": 9,
   "id": "ba5d7302",
   "metadata": {},
   "outputs": [],
   "source": [
    "df.to_csv('Final_Data.csv', index = False)"
   ]
  },
  {
   "cell_type": "code",
   "execution_count": 10,
   "id": "d1f59093",
   "metadata": {},
   "outputs": [],
   "source": [
    "T1_df = df[df['Topic_Name'] == 'T1 Competition of Search Engines'][['Topic_Name', 'country','Tweet', 'sentiment', 'sentiment_scores']]\n",
    "T2_df = df[df['Topic_Name'] == 'T2 Conversational AI and Bias in Data'][['Topic_Name', 'country','Tweet', 'sentiment', 'sentiment_scores']]\n",
    "T3_df = df[df['Topic_Name'] == 'T3 Future of Technology and Impact on Career'][['Topic_Name', 'country','Tweet', 'sentiment', 'sentiment_scores']]\n",
    "T4_df = df[df['Topic_Name'] == 'T4 Writing Styles and prompts'][['Topic_Name', 'country','Tweet', 'sentiment', 'sentiment_scores']]\n",
    "T5_df = df[df['Topic_Name'] == 'T5 Content Creation and Ideas Generation'][['Topic_Name', 'country','Tweet', 'sentiment', 'sentiment_scores']]\n",
    "T6_df = df[df['Topic_Name'] == 'T6 Impacts on Education and Academia'][['Topic_Name', 'country','Tweet', 'sentiment', 'sentiment_scores']]\n",
    "T7_df = df[df['Topic_Name'] == 'T7 Programming and Gaming'][['Topic_Name', 'country','Tweet', 'sentiment', 'sentiment_scores']]\n",
    "T8_df = df[df['Topic_Name'] == 'T8 Natural Language Processing'][['Topic_Name', 'country','Tweet', 'sentiment', 'sentiment_scores']]\n"
   ]
  },
  {
   "cell_type": "code",
   "execution_count": 11,
   "id": "df2b09af",
   "metadata": {},
   "outputs": [
    {
     "data": {
      "text/plain": [
       "<bound method NDFrame.head of                             Topic_Name        country   \n",
       "5       T8 Natural Language Processing        Sverige  \\\n",
       "8       T8 Natural Language Processing        Ecuador   \n",
       "35      T8 Natural Language Processing  United States   \n",
       "57      T8 Natural Language Processing         España   \n",
       "96      T8 Natural Language Processing  United States   \n",
       "...                                ...            ...   \n",
       "740456  T8 Natural Language Processing        Unknown   \n",
       "740518  T8 Natural Language Processing  United States   \n",
       "740530  T8 Natural Language Processing          Eesti   \n",
       "740536  T8 Natural Language Processing  United States   \n",
       "740542  T8 Natural Language Processing         Canada   \n",
       "\n",
       "                                                    Tweet sentiment   \n",
       "5       ChatGPT is really amazing at taking a bizarre ...  positive  \\\n",
       "8        @sama Thank you #ChatGPT https://t.co/4vPyFxFkSj  positive   \n",
       "35      @andrew9605 @gabe_ragland @OpenAI Saved! Here'...  positive   \n",
       "57                     My article published about ChatGPT   neutral   \n",
       "96      The latest OpenAI ChatGPT is insane. It's so m...   neutral   \n",
       "...                                                   ...       ...   \n",
       "740456  @TashaRobinson this looks very chatgpt generat...   neutral   \n",
       "740518  We just published an article about Reinforceme...  negative   \n",
       "740530  A great essay from Kaj Sotala on the same topi...  positive   \n",
       "740536  @sama He also said any sufficiently advanced t...  positive   \n",
       "740542  Hey ChatGPT, what are the current estimates fo...   neutral   \n",
       "\n",
       "                                         sentiment_scores  \n",
       "5       {'neg': 0.141, 'neu': 0.491, 'pos': 0.368, 'co...  \n",
       "8       {'neg': 0.0, 'neu': 0.0, 'pos': 1.0, 'compound...  \n",
       "35      {'neg': 0.0, 'neu': 0.584, 'pos': 0.416, 'comp...  \n",
       "57      {'neg': 0.0, 'neu': 1.0, 'pos': 0.0, 'compound...  \n",
       "96      {'neg': 0.262, 'neu': 0.485, 'pos': 0.252, 'co...  \n",
       "...                                                   ...  \n",
       "740456  {'neg': 0.0, 'neu': 1.0, 'pos': 0.0, 'compound...  \n",
       "740518  {'neg': 0.235, 'neu': 0.765, 'pos': 0.0, 'comp...  \n",
       "740530  {'neg': 0.0, 'neu': 0.594, 'pos': 0.406, 'comp...  \n",
       "740536  {'neg': 0.0, 'neu': 0.526, 'pos': 0.474, 'comp...  \n",
       "740542  {'neg': 0.0, 'neu': 1.0, 'pos': 0.0, 'compound...  \n",
       "\n",
       "[58790 rows x 5 columns]>"
      ]
     },
     "execution_count": 11,
     "metadata": {},
     "output_type": "execute_result"
    }
   ],
   "source": [
    "T8_df.head"
   ]
  },
  {
   "cell_type": "code",
   "execution_count": 12,
   "id": "b4bbd6c0",
   "metadata": {
    "scrolled": true
   },
   "outputs": [
    {
     "data": {
      "image/png": "[encoded data removed]",
      "text/plain": [
       "<Figure size 432x288 with 1 Axes>"
      ]
     },
     "metadata": {
      "needs_background": "light"
     },
     "output_type": "display_data"
    }
   ],
   "source": [
    "import pandas as pd\n",
    "import matplotlib.pyplot as plt\n",
    "\n",
    "\n",
    "\n",
    "# Filter the data by location to get American and non-American tweets\n",
    "american_tweets = T6_df[T6_df['country'] == 'United States']\n",
    "non_american_tweets = T6_df[T6_df['country'] != 'United States']\n",
    "\n",
    "# Calculate the proportion of positive, negative, and neutral tweets in each group\n",
    "american_sentiment_counts = american_tweets['sentiment'].value_counts(normalize=True)\n",
    "non_american_sentiment_counts = non_american_tweets['sentiment'].value_counts(normalize=True)\n",
    "\n",
    "# Create a bar chart of the sentiment scores\n",
    "fig, ax = plt.subplots()\n",
    "ax.bar(american_sentiment_counts.index, american_sentiment_counts.values, label='America')\n",
    "ax.bar(non_american_sentiment_counts.index, non_american_sentiment_counts.values, label='Non-America')\n",
    "ax.set_title('Sentiment Scores by Location')\n",
    "ax.set_xlabel('Sentiment')\n",
    "ax.set_ylabel('Proportion of Tweets')\n",
    "ax.legend()\n",
    "plt.show()\n"
   ]
  },
  {
   "cell_type": "code",
   "execution_count": 13,
   "id": "7feba2f9",
   "metadata": {
    "scrolled": true
   },
   "outputs": [
    {
     "data": {
      "image/png": "[encoded data removed]",
      "text/plain": [
       "<Figure size 432x288 with 1 Axes>"
      ]
     },
     "metadata": {
      "needs_background": "light"
     },
     "output_type": "display_data"
    }
   ],
   "source": [
    "import pandas as pd\n",
    "import matplotlib.pyplot as plt\n",
    "\n",
    "# Filter the data by location to get American and non-American tweets\n",
    "american_tweets = T3_df[T3_df['country'] == 'United States']\n",
    "non_american_tweets = T3_df[T3_df['country'] != 'United States']\n",
    "\n",
    "# Calculate the proportion of positive, negative, and neutral tweets in each group\n",
    "american_sentiment_counts = american_tweets['sentiment'].value_counts(normalize=True)\n",
    "non_american_sentiment_counts = non_american_tweets['sentiment'].value_counts(normalize=True)\n",
    "\n",
    "# Create a bar chart of the sentiment scores\n",
    "fig, ax = plt.subplots()\n",
    "x_pos = [0, 1, 2]  # x-axis positions for the two groups\n",
    "bar_width = 0.35   # width of the bars\n",
    "\n",
    "ax.bar(x_pos, american_sentiment_counts.values, width=bar_width, label='America')\n",
    "ax.bar([p + bar_width for p in x_pos], non_american_sentiment_counts.values, width=bar_width, label='Non-America')\n",
    "ax.set_title('Sentiment Scores by Location')\n",
    "ax.set_xlabel('Sentiment')\n",
    "ax.set_ylabel('Proportion of Tweets')\n",
    "ax.set_xticks([p + 0.5 * bar_width for p in x_pos])\n",
    "ax.set_xticklabels(american_sentiment_counts.index)\n",
    "ax.legend()\n",
    "plt.show()"
   ]
  },
  {
   "cell_type": "markdown",
   "id": "19bb8309",
   "metadata": {},
   "source": [
    "#### US and Other countries Topic wise sentiment comparision "
   ]
  },
  {
   "cell_type": "code",
   "execution_count": 14,
   "id": "cf22207e",
   "metadata": {
    "scrolled": false
   },
   "outputs": [
    {
     "data": {
      "image/png": "[encoded data removed]",
      "text/plain": [
       "<Figure size 1152x576 with 8 Axes>"
      ]
     },
     "metadata": {
      "needs_background": "light"
     },
     "output_type": "display_data"
    }
   ],
   "source": [
    "import pandas as pd\n",
    "import matplotlib.pyplot as plt\n",
    "\n",
    "# List of dataframe names\n",
    "df_names = ['T1_df', 'T2_df', 'T3_df', 'T4_df', 'T5_df', 'T6_df', 'T7_df', 'T8_df']\n",
    "\n",
    "# Create a figure with 8 subplots\n",
    "fig, axes = plt.subplots(nrows=2, ncols=4, figsize=(16, 8))\n",
    "axes = axes.ravel()  # Flatten the axes array\n",
    "\n",
    "# Iterate over each dataframe and create a side by side bar chart\n",
    "for i, df_name in enumerate(df_names):\n",
    "    df = globals()[df_name]  # Get the dataframe by name using globals()\n",
    "    \n",
    "    # Filter the data by location to get American and non-American tweets\n",
    "    american_tweets = df[df['country'] == 'United States']\n",
    "    non_american_tweets = df[df['country'] != 'United States']\n",
    "\n",
    "    # Calculate the proportion of positive, negative, and neutral tweets in each group\n",
    "    american_sentiment_counts = american_tweets['sentiment'].value_counts(normalize=True)\n",
    "    non_american_sentiment_counts = non_american_tweets['sentiment'].value_counts(normalize=True)\n",
    "\n",
    "    # Create a subplot for the current dataframe\n",
    "    ax = axes[i]\n",
    "    \n",
    "    # Create a bar chart of the sentiment scores\n",
    "    x_pos = [0, 1, 2]  # x-axis positions for the two groups\n",
    "    bar_width = 0.35   # width of the bars\n",
    "\n",
    "    ax.bar(x_pos, american_sentiment_counts.values, width=bar_width, label='America')\n",
    "    ax.bar([p + bar_width for p in x_pos], non_american_sentiment_counts.values, width=bar_width, label='Non-America')\n",
    "    ax.set_title(f'{df_name} - Sentiment Scores by Location')\n",
    "    ax.set_xlabel('Sentiment')\n",
    "    ax.set_ylabel('Proportion of Tweets')\n",
    "    ax.set_xticks([p + 0.5 * bar_width for p in x_pos])\n",
    "    ax.set_xticklabels(american_sentiment_counts.index)\n",
    "    ax.legend()\n",
    "\n",
    "plt.tight_layout()\n",
    "plt.show()\n"
   ]
  },
  {
   "cell_type": "code",
   "execution_count": 15,
   "id": "1bf4c0ef",
   "metadata": {
    "scrolled": false
   },
   "outputs": [
    {
     "data": {
      "text/html": [
       "<div>\n",
       "<style scoped>\n",
       "    .dataframe tbody tr th:only-of-type {\n",
       "        vertical-align: middle;\n",
       "    }\n",
       "\n",
       "    .dataframe tbody tr th {\n",
       "        vertical-align: top;\n",
       "    }\n",
       "\n",
       "    .dataframe thead th {\n",
       "        text-align: right;\n",
       "    }\n",
       "</style>\n",
       "<table border=\"1\" class=\"dataframe\">\n",
       "  <thead>\n",
       "    <tr style=\"text-align: right;\">\n",
       "      <th></th>\n",
       "      <th>Topic_Name</th>\n",
       "      <th>country</th>\n",
       "      <th>Tweet</th>\n",
       "      <th>sentiment</th>\n",
       "      <th>sentiment_scores</th>\n",
       "    </tr>\n",
       "  </thead>\n",
       "  <tbody>\n",
       "    <tr>\n",
       "      <th>5</th>\n",
       "      <td>T8 Natural Language Processing</td>\n",
       "      <td>Sverige</td>\n",
       "      <td>ChatGPT is really amazing at taking a bizarre ...</td>\n",
       "      <td>positive</td>\n",
       "      <td>{'neg': 0.141, 'neu': 0.491, 'pos': 0.368, 'co...</td>\n",
       "    </tr>\n",
       "    <tr>\n",
       "      <th>8</th>\n",
       "      <td>T8 Natural Language Processing</td>\n",
       "      <td>Ecuador</td>\n",
       "      <td>@sama Thank you #ChatGPT https://t.co/4vPyFxFkSj</td>\n",
       "      <td>positive</td>\n",
       "      <td>{'neg': 0.0, 'neu': 0.0, 'pos': 1.0, 'compound...</td>\n",
       "    </tr>\n",
       "    <tr>\n",
       "      <th>35</th>\n",
       "      <td>T8 Natural Language Processing</td>\n",
       "      <td>United States</td>\n",
       "      <td>@andrew9605 @gabe_ragland @OpenAI Saved! Here'...</td>\n",
       "      <td>positive</td>\n",
       "      <td>{'neg': 0.0, 'neu': 0.584, 'pos': 0.416, 'comp...</td>\n",
       "    </tr>\n",
       "    <tr>\n",
       "      <th>57</th>\n",
       "      <td>T8 Natural Language Processing</td>\n",
       "      <td>España</td>\n",
       "      <td>My article published about ChatGPT</td>\n",
       "      <td>neutral</td>\n",
       "      <td>{'neg': 0.0, 'neu': 1.0, 'pos': 0.0, 'compound...</td>\n",
       "    </tr>\n",
       "    <tr>\n",
       "      <th>96</th>\n",
       "      <td>T8 Natural Language Processing</td>\n",
       "      <td>United States</td>\n",
       "      <td>The latest OpenAI ChatGPT is insane. It's so m...</td>\n",
       "      <td>neutral</td>\n",
       "      <td>{'neg': 0.262, 'neu': 0.485, 'pos': 0.252, 'co...</td>\n",
       "    </tr>\n",
       "    <tr>\n",
       "      <th>...</th>\n",
       "      <td>...</td>\n",
       "      <td>...</td>\n",
       "      <td>...</td>\n",
       "      <td>...</td>\n",
       "      <td>...</td>\n",
       "    </tr>\n",
       "    <tr>\n",
       "      <th>740456</th>\n",
       "      <td>T8 Natural Language Processing</td>\n",
       "      <td>Unknown</td>\n",
       "      <td>@TashaRobinson this looks very chatgpt generat...</td>\n",
       "      <td>neutral</td>\n",
       "      <td>{'neg': 0.0, 'neu': 1.0, 'pos': 0.0, 'compound...</td>\n",
       "    </tr>\n",
       "    <tr>\n",
       "      <th>740518</th>\n",
       "      <td>T8 Natural Language Processing</td>\n",
       "      <td>United States</td>\n",
       "      <td>We just published an article about Reinforceme...</td>\n",
       "      <td>negative</td>\n",
       "      <td>{'neg': 0.235, 'neu': 0.765, 'pos': 0.0, 'comp...</td>\n",
       "    </tr>\n",
       "    <tr>\n",
       "      <th>740530</th>\n",
       "      <td>T8 Natural Language Processing</td>\n",
       "      <td>Eesti</td>\n",
       "      <td>A great essay from Kaj Sotala on the same topi...</td>\n",
       "      <td>positive</td>\n",
       "      <td>{'neg': 0.0, 'neu': 0.594, 'pos': 0.406, 'comp...</td>\n",
       "    </tr>\n",
       "    <tr>\n",
       "      <th>740536</th>\n",
       "      <td>T8 Natural Language Processing</td>\n",
       "      <td>United States</td>\n",
       "      <td>@sama He also said any sufficiently advanced t...</td>\n",
       "      <td>positive</td>\n",
       "      <td>{'neg': 0.0, 'neu': 0.526, 'pos': 0.474, 'comp...</td>\n",
       "    </tr>\n",
       "    <tr>\n",
       "      <th>740542</th>\n",
       "      <td>T8 Natural Language Processing</td>\n",
       "      <td>Canada</td>\n",
       "      <td>Hey ChatGPT, what are the current estimates fo...</td>\n",
       "      <td>neutral</td>\n",
       "      <td>{'neg': 0.0, 'neu': 1.0, 'pos': 0.0, 'compound...</td>\n",
       "    </tr>\n",
       "  </tbody>\n",
       "</table>\n",
       "<p>58790 rows × 5 columns</p>\n",
       "</div>"
      ],
      "text/plain": [
       "                            Topic_Name        country   \n",
       "5       T8 Natural Language Processing        Sverige  \\\n",
       "8       T8 Natural Language Processing        Ecuador   \n",
       "35      T8 Natural Language Processing  United States   \n",
       "57      T8 Natural Language Processing         España   \n",
       "96      T8 Natural Language Processing  United States   \n",
       "...                                ...            ...   \n",
       "740456  T8 Natural Language Processing        Unknown   \n",
       "740518  T8 Natural Language Processing  United States   \n",
       "740530  T8 Natural Language Processing          Eesti   \n",
       "740536  T8 Natural Language Processing  United States   \n",
       "740542  T8 Natural Language Processing         Canada   \n",
       "\n",
       "                                                    Tweet sentiment   \n",
       "5       ChatGPT is really amazing at taking a bizarre ...  positive  \\\n",
       "8        @sama Thank you #ChatGPT https://t.co/4vPyFxFkSj  positive   \n",
       "35      @andrew9605 @gabe_ragland @OpenAI Saved! Here'...  positive   \n",
       "57                     My article published about ChatGPT   neutral   \n",
       "96      The latest OpenAI ChatGPT is insane. It's so m...   neutral   \n",
       "...                                                   ...       ...   \n",
       "740456  @TashaRobinson this looks very chatgpt generat...   neutral   \n",
       "740518  We just published an article about Reinforceme...  negative   \n",
       "740530  A great essay from Kaj Sotala on the same topi...  positive   \n",
       "740536  @sama He also said any sufficiently advanced t...  positive   \n",
       "740542  Hey ChatGPT, what are the current estimates fo...   neutral   \n",
       "\n",
       "                                         sentiment_scores  \n",
       "5       {'neg': 0.141, 'neu': 0.491, 'pos': 0.368, 'co...  \n",
       "8       {'neg': 0.0, 'neu': 0.0, 'pos': 1.0, 'compound...  \n",
       "35      {'neg': 0.0, 'neu': 0.584, 'pos': 0.416, 'comp...  \n",
       "57      {'neg': 0.0, 'neu': 1.0, 'pos': 0.0, 'compound...  \n",
       "96      {'neg': 0.262, 'neu': 0.485, 'pos': 0.252, 'co...  \n",
       "...                                                   ...  \n",
       "740456  {'neg': 0.0, 'neu': 1.0, 'pos': 0.0, 'compound...  \n",
       "740518  {'neg': 0.235, 'neu': 0.765, 'pos': 0.0, 'comp...  \n",
       "740530  {'neg': 0.0, 'neu': 0.594, 'pos': 0.406, 'comp...  \n",
       "740536  {'neg': 0.0, 'neu': 0.526, 'pos': 0.474, 'comp...  \n",
       "740542  {'neg': 0.0, 'neu': 1.0, 'pos': 0.0, 'compound...  \n",
       "\n",
       "[58790 rows x 5 columns]"
      ]
     },
     "execution_count": 15,
     "metadata": {},
     "output_type": "execute_result"
    }
   ],
   "source": [
    "df"
   ]
  },
  {
   "cell_type": "markdown",
   "id": "4c1a1d63",
   "metadata": {},
   "source": [
    "#### AB Testing"
   ]
  },
  {
   "cell_type": "markdown",
   "id": "e3cc40d0",
   "metadata": {},
   "source": [
    "The below code block is comparing the proportion of negative tweets between data for the United States and non-United States. It splits the data into negative and non-negative groups for each subset, calculates the proportion of negative tweets for each, and performs a two-sample proportion test to determine if the difference in proportions is statistically significant. The result will tell whether the proportion of negative tweets is different between the two subsets of data."
   ]
  },
  {
   "cell_type": "code",
   "execution_count": 16,
   "id": "f10dc9d9",
   "metadata": {},
   "outputs": [
    {
     "name": "stdout",
     "output_type": "stream",
     "text": [
      "Proportion of negative tweets for United States: 0.129\n",
      "Proportion of negative tweets for non-United States: 0.114\n",
      "p-value for the hypothesis test: 0.000\n",
      "The proportion of negative tweets for United States is greater than the non-United States, which is statistically significant.\n"
     ]
    }
   ],
   "source": [
    "import pandas as pd\n",
    "from statsmodels.stats.proportion import proportions_ztest\n",
    "\n",
    "# Select the data for the United States and non-United States\n",
    "us_data = df[df['country'] == 'United States']\n",
    "non_us_data = df[df['country'] != 'United States']\n",
    "\n",
    "# Split the data for the United States and non-United States into negative and non-negative groups\n",
    "us_negative = us_data[us_data['sentiment'] == 'negative']\n",
    "us_non_negative = us_data[us_data['sentiment'] != 'negative']\n",
    "non_us_negative = non_us_data[non_us_data['sentiment'] == 'negative']\n",
    "non_us_non_negative = non_us_data[non_us_data['sentiment'] != 'negative']\n",
    "\n",
    "# Calculate the proportion of negative tweets for United States and non-United States\n",
    "us_neg_ratio = len(us_negative) / len(us_data)\n",
    "non_us_neg_ratio = len(non_us_negative) / len(non_us_data)\n",
    "\n",
    "# Perform a two-sample proportion test\n",
    "count = [len(us_negative), len(non_us_negative)]\n",
    "nobs = [len(us_data), len(non_us_data)]\n",
    "z, p = proportions_ztest(count, nobs)\n",
    "\n",
    "# Print the results\n",
    "print(f'Proportion of negative tweets for United States: {us_neg_ratio:.3f}')\n",
    "print(f'Proportion of negative tweets for non-United States: {non_us_neg_ratio:.3f}')\n",
    "print(f'p-value for the hypothesis test: {p:.3f}')\n",
    "if p < 0.05:\n",
    "    print('The proportion of negative tweets for United States is greater than the non-United States, which is statistically significant.')\n",
    "else:\n",
    "    print('The proportion of negative tweets for United States is greater than the non-United States, which is not statistically significant')\n"
   ]
  },
  {
   "cell_type": "markdown",
   "id": "03123566",
   "metadata": {},
   "source": [
    "The output of the code indicates that the proportion of negative tweets for the United States is 0.182 and the proportion of negative tweets for non-United States is 0.175. The p-value for the hypothesis test is 0.000, which is less than the commonly used significance level of 0.05. This means that we can reject the null hypothesis that the proportions are equal, and conclude that the proportion of negative tweets for United States is greater than the non-United States.\n",
    "\n",
    "In simpler terms, the results suggest that there is a statistically significant difference between the proportion of negative tweets for the United States and non-United States. The United States has a slightly higher proportion of negative tweets compared to non-US tweets."
   ]
  },
  {
   "cell_type": "code",
   "execution_count": 17,
   "id": "aa6db42b",
   "metadata": {
    "scrolled": true
   },
   "outputs": [
    {
     "name": "stdout",
     "output_type": "stream",
     "text": [
      "Topic Name: ['T1 Competition of Search Engines']\n",
      "Proportion of negative tweets for United States: 0.155\n",
      "Proportion of negative tweets for non-United States: 0.146\n",
      "p-value for the hypothesis test: 0.004\n",
      "The proportion of negative tweets for United States is greater than the non-United States, which is statistically significant.\n",
      "---------------------------------------------------------------------------------------------------------------- \n",
      "\n",
      "\n",
      "Topic Name: ['T2 Conversational AI and Bias in Data']\n",
      "Proportion of negative tweets for United States: 0.216\n",
      "Proportion of negative tweets for non-United States: 0.205\n",
      "p-value for the hypothesis test: 0.000\n",
      "The proportion of negative tweets for United States is greater than the non-United States, which is statistically significant.\n",
      "---------------------------------------------------------------------------------------------------------------- \n",
      "\n",
      "\n",
      "Topic Name: ['T3 Future of Technology and Impact on Career']\n",
      "Proportion of negative tweets for United States: 0.198\n",
      "Proportion of negative tweets for non-United States: 0.183\n",
      "p-value for the hypothesis test: 0.000\n",
      "The proportion of negative tweets for United States is greater than the non-United States, which is statistically significant.\n",
      "---------------------------------------------------------------------------------------------------------------- \n",
      "\n",
      "\n",
      "Topic Name: ['T4 Writing Styles and prompts']\n",
      "Proportion of negative tweets for United States: 0.213\n",
      "Proportion of negative tweets for non-United States: 0.215\n",
      "p-value for the hypothesis test: 0.572\n",
      "The proportion of negative tweets for United States is greater than the non-United States, which is not statistically significant.\n",
      "---------------------------------------------------------------------------------------------------------------- \n",
      "\n",
      "\n",
      "Topic Name: ['T5 Content Creation and Ideas Generation']\n",
      "Proportion of negative tweets for United States: 0.072\n",
      "Proportion of negative tweets for non-United States: 0.071\n",
      "p-value for the hypothesis test: 0.661\n",
      "The proportion of negative tweets for United States is greater than the non-United States, which is not statistically significant.\n",
      "---------------------------------------------------------------------------------------------------------------- \n",
      "\n",
      "\n",
      "Topic Name: ['T6 Impacts on Education and Academia']\n",
      "Proportion of negative tweets for United States: 0.236\n",
      "Proportion of negative tweets for non-United States: 0.227\n",
      "p-value for the hypothesis test: 0.000\n",
      "The proportion of negative tweets for United States is greater than the non-United States, which is statistically significant.\n",
      "---------------------------------------------------------------------------------------------------------------- \n",
      "\n",
      "\n",
      "Topic Name: ['T7 Programming and Gaming']\n",
      "Proportion of negative tweets for United States: 0.154\n",
      "Proportion of negative tweets for non-United States: 0.157\n",
      "p-value for the hypothesis test: 0.334\n",
      "The proportion of negative tweets for United States is greater than the non-United States, which is not statistically significant.\n",
      "---------------------------------------------------------------------------------------------------------------- \n",
      "\n",
      "\n",
      "Topic Name: ['T8 Natural Language Processing']\n",
      "Proportion of negative tweets for United States: 0.129\n",
      "Proportion of negative tweets for non-United States: 0.114\n",
      "p-value for the hypothesis test: 0.000\n",
      "The proportion of negative tweets for United States is greater than the non-United States, which is statistically significant.\n",
      "---------------------------------------------------------------------------------------------------------------- \n",
      "\n",
      "\n"
     ]
    }
   ],
   "source": [
    "import pandas as pd\n",
    "from statsmodels.stats.proportion import proportions_ztest\n",
    "\n",
    "# Define a list of the 8 dataframes\n",
    "dfs = [T1_df, T2_df, T3_df, T4_df, T5_df, T6_df, T7_df, T8_df]\n",
    "\n",
    "for i, df in enumerate(dfs):\n",
    "    \n",
    "    # Select the data for the United States and non-United States\n",
    "    us_data = df[df['country'] == 'United States']\n",
    "    non_us_data = df[df['country'] != 'United States']\n",
    "\n",
    "    # Split the data for the United States and non-United States into negative and non-negative groups\n",
    "    us_negative = us_data[us_data['sentiment'] == 'negative']\n",
    "    us_non_negative = us_data[us_data['sentiment'] != 'negative']\n",
    "    non_us_negative = non_us_data[non_us_data['sentiment'] == 'negative']\n",
    "    non_us_non_negative = non_us_data[non_us_data['sentiment'] != 'negative']\n",
    "\n",
    "    # Calculate the proportion of negative tweets for United States and non-United States\n",
    "    us_neg_ratio = len(us_negative) / len(us_data)\n",
    "    non_us_neg_ratio = len(non_us_negative) / len(non_us_data)\n",
    "\n",
    "    # Perform a two-sample proportion test\n",
    "    count = [len(us_negative), len(non_us_negative)]\n",
    "    nobs = [len(us_data), len(non_us_data)]\n",
    "    z, p = proportions_ztest(count, nobs)\n",
    "\n",
    "    # Print the results\n",
    "    print(f'Topic Name: {df[\"Topic_Name\"].unique()}')\n",
    "    print(f'Proportion of negative tweets for United States: {us_neg_ratio:.3f}')\n",
    "    print(f'Proportion of negative tweets for non-United States: {non_us_neg_ratio:.3f}')\n",
    "    print(f'p-value for the hypothesis test: {p:.3f}')\n",
    "    if p < 0.05:\n",
    "        print('The proportion of negative tweets for United States is greater than the non-United States, which is statistically significant.')\n",
    "    else:\n",
    "        print('The proportion of negative tweets for United States is greater than the non-United States, which is not statistically significant.')\n",
    "    print('----------------------------------------------------------------------------------------------------------------','\\n\\n')"
   ]
  },
  {
   "cell_type": "code",
   "execution_count": 18,
   "id": "59183633",
   "metadata": {
    "scrolled": false
   },
   "outputs": [
    {
     "data": {
      "image/png": "[encoded data removed]",
      "text/plain": [
       "<Figure size 1152x576 with 8 Axes>"
      ]
     },
     "metadata": {
      "needs_background": "light"
     },
     "output_type": "display_data"
    }
   ],
   "source": [
    "import pandas as pd\n",
    "import matplotlib.pyplot as plt\n",
    "\n",
    "# List of dataframe names\n",
    "df_names = ['T1_df', 'T2_df', 'T3_df', 'T4_df', 'T5_df', 'T6_df', 'T7_df', 'T8_df']\n",
    "\n",
    "# Create a figure with 8 subplots\n",
    "fig, axes = plt.subplots(nrows=2, ncols=4, figsize=(16, 8))\n",
    "axes = axes.ravel()  # Flatten the axes array\n",
    "\n",
    "# Iterate over each dataframe and create a side by side bar chart\n",
    "for i, df_name in enumerate(df_names):\n",
    "    df = globals()[df_name]  # Get the dataframe by name using globals()\n",
    "    \n",
    "    # Calculate the proportion of positive, negative, and neutral tweets in each group\n",
    "    sentiment_counts = df['sentiment'].value_counts(normalize=True)\n",
    "\n",
    "    # Create a subplot for the current dataframe\n",
    "    ax = axes[i]\n",
    "    \n",
    "    # Create a bar chart of the sentiment scores\n",
    "    x_pos = [0, 1, 2]  # x-axis positions for the two groups\n",
    "    bar_width = 0.35   # width of the bars\n",
    "\n",
    "    ax.bar(x_pos, sentiment_counts.values, width=bar_width)\n",
    "    ax.set_title(f'{df_name} - Sentiment Scores')\n",
    "    ax.set_xlabel('Sentiment')\n",
    "    ax.set_ylabel('Proportion of Tweets')\n",
    "    ax.set_xticks([p + 0.5 * bar_width for p in x_pos])\n",
    "    ax.set_xticklabels(sentiment_counts.index)\n",
    "\n",
    "plt.tight_layout()\n",
    "plt.show()\n"
   ]
  },
  {
   "cell_type": "code",
   "execution_count": 40,
   "id": "620f3d5d",
   "metadata": {},
   "outputs": [
    {
     "name": "stdout",
     "output_type": "stream",
     "text": [
      "The difference in proportions is statistically significant (p-value: nan)\n",
      "Proportion of negative sentiment tweets in control group: 0.0000\n",
      "Proportion of negative sentiment tweets in test group: 0.1189\n"
     ]
    },
    {
     "name": "stderr",
     "output_type": "stream",
     "text": [
      "C:\\ProgramData\\Anaconda3\\lib\\site-packages\\statsmodels\\stats\\proportion.py:840: RuntimeWarning: invalid value encountered in divide\n",
      "  prop = count * 1. / nobs\n",
      "C:\\ProgramData\\Anaconda3\\lib\\site-packages\\statsmodels\\stats\\proportion.py:856: RuntimeWarning: divide by zero encountered in divide\n",
      "  nobs_fact = np.sum(1. / nobs)\n"
     ]
    }
   ],
   "source": [
    "import pandas as pd\n",
    "from statsmodels.stats.proportion import proportions_ztest\n",
    "\n",
    "\n",
    "# create control group and test group\n",
    "control_topics = ['T1 Competition of Search Engines', 'T4 Writing Styles and prompts', 'T5 Content Creation and Ideas Generation', 'T7 Programming and Gaming']\n",
    "test_topics = ['T2 Conversational AI and Bias in Data', 'T3 Future of Technology and Impact on Career', 'T6 Impacts on Education and Academia', 'T8 Natural Language Processing']\n",
    "\n",
    "control_group = df[df['Topic_Name'].isin(control_topics)]\n",
    "test_group = df[df['Topic_Name'].isin(test_topics)]\n",
    "\n",
    "# Calculate the proportion of negative sentiment tweets in each group\n",
    "control_neg_sentiment_prop = control_group['sentiment'].value_counts(normalize=True).get('negative', 0)\n",
    "test_neg_sentiment_prop = test_group['sentiment'].value_counts(normalize=True).get('negative', 0)\n",
    "\n",
    "# perform hypothesis testing\n",
    "count = [control_group['sentiment'].value_counts().get('negative', 0), test_group['sentiment'].value_counts().get('negative', 0)]\n",
    "nobs = [len(control_group), len(test_group)]\n",
    "z_stat, p_val = proportions_ztest(count, nobs)\n",
    "print(f\"The difference in proportions is statistically significant (p-value: {p_val:.4f})\")\n",
    "print(f\"Proportion of negative sentiment tweets in control group: {control_neg_sentiment_prop:.4f}\")\n",
    "print(f\"Proportion of negative sentiment tweets in test group: {test_neg_sentiment_prop:.4f}\")\n"
   ]
  },
  {
   "cell_type": "code",
   "execution_count": null,
   "id": "0a7f8a8c",
   "metadata": {},
   "outputs": [],
   "source": []
  }
 ],
 "metadata": {
  "kernelspec": {
   "display_name": "Python 3 (ipykernel)",
   "language": "python",
   "name": "python3"
  },
  "language_info": {
   "codemirror_mode": {
    "name": "ipython",
    "version": 3
   },
   "file_extension": ".py",
   "mimetype": "text/x-python",
   "name": "python",
   "nbconvert_exporter": "python",
   "pygments_lexer": "ipython3",
   "version": "3.8.8"
  }
 },
 "nbformat": 4,
 "nbformat_minor": 5
}
