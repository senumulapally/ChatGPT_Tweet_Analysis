{
 "cells": [
  {
   "cell_type": "markdown",
   "id": "b4588544",
   "metadata": {},
   "source": [
    "## Importing Libraries"
   ]
  },
  {
   "cell_type": "code",
   "execution_count": 1,
   "id": "65d14327",
   "metadata": {},
   "outputs": [
    {
     "name": "stderr",
     "output_type": "stream",
     "text": [
      "[nltk_data] Downloading package vader_lexicon to\n",
      "[nltk_data]     /Users/snigdhaenumulapally/nltk_data...\n",
      "[nltk_data]   Package vader_lexicon is already up-to-date!\n"
     ]
    },
    {
     "data": {
      "text/plain": [
       "True"
      ]
     },
     "execution_count": 1,
     "metadata": {},
     "output_type": "execute_result"
    }
   ],
   "source": [
    "import re\n",
    "import matplotlib.pyplot as plt\n",
    "import pandas as pd\n",
    "import nltk\n",
    "from nltk.sentiment import SentimentIntensityAnalyzer\n",
    "import plotly.express as px\n",
    "import plotly.graph_objects as go\n",
    "\n",
    "# Download VADER lexicon if you haven't already\n",
    "nltk.download('vader_lexicon')"
   ]
  },
  {
   "cell_type": "code",
   "execution_count": null,
   "id": "4a5345c7",
   "metadata": {},
   "outputs": [],
   "source": [
    "df_Preprocessed = pd.read_excel(\"Preprocessed_data.xlsx\")"
   ]
  },
  {
   "cell_type": "code",
   "execution_count": null,
   "id": "94ab23ac",
   "metadata": {},
   "outputs": [],
   "source": [
    "topics =  pd.read_excel(\"Twitter_topics.xlsx\")"
   ]
  },
  {
   "cell_type": "code",
   "execution_count": null,
   "id": "5779d5e1",
   "metadata": {},
   "outputs": [],
   "source": [
    "topics.head()"
   ]
  },
  {
   "cell_type": "code",
   "execution_count": null,
   "id": "21496a50",
   "metadata": {},
   "outputs": [],
   "source": [
    "df = pd.merge(df_Preprocessed, topics[['Tweet', 'Date', 'Dominant_Topic', 'Contribution%', 'Topic_Name']], \n",
    "                     on=['Tweet', 'Date'])"
   ]
  },
  {
   "cell_type": "code",
   "execution_count": null,
   "id": "f9da3f76",
   "metadata": {},
   "outputs": [],
   "source": [
    "df.head()"
   ]
  },
  {
   "cell_type": "markdown",
   "id": "bb01874f",
   "metadata": {},
   "source": [
    "### Sentiment Anlaysis on Pre Processed Dataset"
   ]
  },
  {
   "cell_type": "markdown",
   "id": "c795a81f",
   "metadata": {},
   "source": [
    "- As we are calculating sentiment of short social media informal texts, SentimentIntensityAnalyzer is a good choice."
   ]
  },
  {
   "cell_type": "code",
   "execution_count": null,
   "id": "1dd0d30f",
   "metadata": {},
   "outputs": [],
   "source": [
    "# Initialize the sentiment analyzer\n",
    "sia = SentimentIntensityAnalyzer()\n",
    "\n",
    "# Get the sentiment scores for each tweet\n",
    "df['sentiment_scores'] = df['clean_tweet'].apply(lambda tweet: sia.polarity_scores(tweet))\n",
    "\n",
    "# Classify sentiment as positive, negative, or neutral\n",
    "df['sentiment'] = df['sentiment_scores'].apply(lambda score: 'positive' if score['compound'] > 0.05 else ('negative' if score['compound'] < -0.05 else 'neutral'))\n"
   ]
  },
  {
   "cell_type": "markdown",
   "id": "8288f173",
   "metadata": {},
   "source": [
    "### 1. Overall sentiment of the dataset"
   ]
  },
  {
   "cell_type": "code",
   "execution_count": null,
   "id": "f2aa0f1a",
   "metadata": {},
   "outputs": [],
   "source": [
    "print(\"Overall sentiment of the dataset:\")\n",
    "print(df['sentiment'].value_counts())"
   ]
  },
  {
   "cell_type": "code",
   "execution_count": null,
   "id": "80e03010",
   "metadata": {},
   "outputs": [],
   "source": [
    "df['sentiment'].value_counts().plot(kind='bar')"
   ]
  },
  {
   "cell_type": "markdown",
   "id": "a38f9723",
   "metadata": {},
   "source": [
    "### 2. Top 4 countries with positive and negative sentiments"
   ]
  },
  {
   "cell_type": "code",
   "execution_count": null,
   "id": "ff5f5fce",
   "metadata": {},
   "outputs": [],
   "source": [
    "df_country = pd.DataFrame(df[df['country']!='Unknown'])\n",
    "\n",
    "print(\"\\nTop 4 countries with positive and negative sentiments:\")\n",
    "positive_countries = df_country[df_country['sentiment'] == 'positive']['country'].value_counts().head(4)\n",
    "negative_countries = df_country[df_country['sentiment'] == 'negative']['country'].value_counts().head(4)\n",
    "print(\"Positive:\")\n",
    "print(positive_countries)\n",
    "print(\"\")\n",
    "print(\"Negative:\")\n",
    "print(negative_countries)"
   ]
  },
  {
   "cell_type": "code",
   "execution_count": null,
   "id": "010f13c8",
   "metadata": {},
   "outputs": [],
   "source": [
    "# Create stacked bar chart\n",
    "countries = positive_countries.index.tolist()\n",
    "fig, ax = plt.subplots(figsize=(8, 4))\n",
    "\n",
    "# Create a color palette for the positive and negative sentiments\n",
    "palette = {'positive': '#A9CCE5', 'negative': '#F5B7B5'}\n",
    "\n",
    "ax.barh(countries, positive_countries, label='Positive', color=palette['positive'])\n",
    "ax.barh(countries, negative_countries, label='Negative', color=palette['negative'])\n",
    "ax.set_xlabel('Number of Tweets')\n",
    "ax.set_ylabel('Country')\n",
    "ax.legend(loc='upper right')\n",
    "ax.set_title('Top 4 Countries with Positive and Negative Sentiments')\n",
    "\n",
    "plt.show()"
   ]
  },
  {
   "cell_type": "code",
   "execution_count": null,
   "id": "c6abd51c",
   "metadata": {},
   "outputs": [],
   "source": [
    "# plot pie charts for positive sentiments\n",
    "fig, axs = plt.subplots(nrows=2, ncols=2, figsize=(10,10))\n",
    "fig.suptitle('Top 4 Countries Sentiments proportions', fontsize=16)\n",
    "for i, country in enumerate(positive_countries.index):\n",
    "    ax = axs[i//2, i%2] # select the right subplot\n",
    "    df_country[df_country['country']==country]['sentiment'].value_counts().plot(kind='pie', ax=ax, autopct='%1.1f%%')\n",
    "    ax.set_title(country)\n",
    "\n",
    "plt.show()"
   ]
  },
  {
   "cell_type": "markdown",
   "id": "b6131e54",
   "metadata": {},
   "source": [
    "### 3. Sentiments of users according to verification status"
   ]
  },
  {
   "cell_type": "code",
   "execution_count": null,
   "id": "d01adfd1",
   "metadata": {},
   "outputs": [],
   "source": [
    "print(\"\\nSentiments of users according to verification status:\")\n",
    "print(df.groupby('IsVerified_True')['sentiment'].value_counts())"
   ]
  },
  {
   "cell_type": "code",
   "execution_count": null,
   "id": "27df79ef",
   "metadata": {},
   "outputs": [],
   "source": [
    "import matplotlib.pyplot as plt\n",
    "\n",
    "sentiment_counts = df.groupby('IsVerified_True')['sentiment'].value_counts()\n",
    "sentiment_counts.unstack(0).plot(kind='bar', rot=0)\n",
    "\n",
    "plt.title('Sentiments of Users by Verification Status')\n",
    "plt.xlabel('Sentiment')\n",
    "plt.ylabel('Count')\n",
    "plt.legend(title='Verification Status', loc='best')\n",
    "plt.show()"
   ]
  },
  {
   "cell_type": "markdown",
   "id": "1e543618",
   "metadata": {},
   "source": [
    "### 3. Sentiments with time"
   ]
  },
  {
   "cell_type": "markdown",
   "id": "49c7984d",
   "metadata": {},
   "source": [
    "#### 1. Sentiment Counts each month"
   ]
  },
  {
   "cell_type": "code",
   "execution_count": null,
   "id": "2223f284",
   "metadata": {},
   "outputs": [],
   "source": [
    "import matplotlib.pyplot as plt\n",
    "eda = df.copy()\n",
    "eda['Date'] = pd.to_datetime(eda['Date'])\n",
    "# create a new column with the month and year of each tweet\n",
    "eda['month_year'] = eda['Date'].dt.to_period('M')\n",
    "\n",
    "# group the tweets by month and year and sentiment\n",
    "sentiment_counts = eda.groupby(['month_year', 'sentiment']).size().unstack(fill_value=0)\n",
    "\n",
    "# plot the sentiment counts over time\n",
    "fig, ax = plt.subplots(figsize=(10,6))\n",
    "sentiment_counts.plot(ax=ax)\n",
    "ax.set_xlabel('Month and Year')\n",
    "ax.set_ylabel('Count')\n",
    "ax.set_title('Sentiment Counts each month')\n",
    "plt.show()"
   ]
  },
  {
   "cell_type": "markdown",
   "id": "2ab1232a",
   "metadata": {},
   "source": [
    "#### 2. Change of Sentiment over Time"
   ]
  },
  {
   "cell_type": "code",
   "execution_count": null,
   "id": "c3e8c3b2",
   "metadata": {},
   "outputs": [],
   "source": [
    "# Group data by date and sentiment\n",
    "grouped = eda.groupby(['Date', 'sentiment'])['sentiment'].count().unstack()\n",
    "\n",
    "# Create line plot\n",
    "fig, ax = plt.subplots(figsize=(10, 6))\n",
    "grouped.plot(ax=ax)\n",
    "ax.set_title('Change of Sentiment over Time')\n",
    "ax.set_xlabel('Date')\n",
    "ax.set_ylabel('Number of Tweets')\n",
    "plt.show()"
   ]
  },
  {
   "cell_type": "code",
   "execution_count": null,
   "id": "ead9b611",
   "metadata": {},
   "outputs": [],
   "source": [
    "# Group data by date and sentiment for United States\n",
    "eda_us = eda[eda['country'] == 'United States']\n",
    "grouped = eda_us.groupby(['Date', 'sentiment'])['sentiment'].count().unstack()\n",
    "\n",
    "# Create line plot\n",
    "fig, ax = plt.subplots(figsize=(10, 6))\n",
    "grouped.plot(ax=ax)\n",
    "ax.set_title('Change of Sentiment over Time')\n",
    "ax.set_xlabel('Date')\n",
    "ax.set_ylabel('Number of Tweets')\n",
    "plt.show()"
   ]
  },
  {
   "cell_type": "code",
   "execution_count": null,
   "id": "a9d173b1",
   "metadata": {},
   "outputs": [],
   "source": [
    "start_date = '2023-01-24'\n",
    "end_date = '2023-02-06'\n",
    "mask = ((eda['Date'] >= start_date) & (eda['Date'] <= end_date))\n",
    "df_range = eda.loc[mask]"
   ]
  },
  {
   "cell_type": "code",
   "execution_count": null,
   "id": "afafc6d3",
   "metadata": {},
   "outputs": [],
   "source": [
    "df_range.head()"
   ]
  },
  {
   "cell_type": "code",
   "execution_count": null,
   "id": "fb55c78f",
   "metadata": {},
   "outputs": [],
   "source": [
    "# Group data by date and sentiment for United States\n",
    "grouped = df_range.groupby(['Date', 'sentiment'])['sentiment'].count().unstack()\n",
    "\n",
    "# Create line plot\n",
    "fig, ax = plt.subplots(figsize=(10, 6))\n",
    "grouped.plot(ax=ax)\n",
    "ax.set_title('Change of Sentiment over Time')\n",
    "ax.set_xlabel('Date')\n",
    "ax.set_ylabel('Number of Tweets')\n",
    "plt.show()"
   ]
  },
  {
   "cell_type": "code",
   "execution_count": null,
   "id": "51c3ca2b",
   "metadata": {},
   "outputs": [],
   "source": [
    "dates = ['2023-01-25', '2023-01-26', '2023-01-31']\n",
    "df_dates = df_range[df_range['Date'].isin(dates)]"
   ]
  },
  {
   "cell_type": "code",
   "execution_count": null,
   "id": "c2fc82e1",
   "metadata": {},
   "outputs": [],
   "source": [
    "# group by date and sentiment, and count the number of occurrences\n",
    "grouped = df_dates.groupby(['Date', 'sentiment'])['sentiment'].count().unstack().fillna(0)\n",
    "\n",
    "# plot the results as a bar chart\n",
    "grouped.plot(kind='bar', stacked=True)\n",
    "\n",
    "# set the chart title and axis labels\n",
    "plt.title('Sentiments for specific dates')\n",
    "plt.xlabel('Date')\n",
    "plt.ylabel('Number of occurrences')\n",
    "\n",
    "# show the chart\n",
    "plt.show()"
   ]
  },
  {
   "cell_type": "code",
   "execution_count": null,
   "id": "f6377de6",
   "metadata": {},
   "outputs": [],
   "source": [
    "date = ['2023-02-03']\n",
    "df_date = df_range[df_range['Date'].isin(date)]\n",
    "\n",
    "# group by date and sentiment, and count the number of occurrences\n",
    "group = df_date.groupby(['Date', 'sentiment'])['sentiment'].count().unstack().fillna(0)\n",
    "\n",
    "# plot the results as a bar chart\n",
    "group.plot(kind='bar', stacked=True)\n",
    "\n",
    "# set the chart title and axis labels\n",
    "plt.title('Sentiments for specific dates')\n",
    "plt.xlabel('Date')\n",
    "plt.ylabel('Number of occurrences')\n",
    "\n",
    "# show the chart\n",
    "plt.show()"
   ]
  },
  {
   "cell_type": "code",
   "execution_count": null,
   "id": "17c2265e",
   "metadata": {},
   "outputs": [],
   "source": [
    "topic_counts = df_date.Dominant_Topic.value_counts()\n",
    "plt.bar(topic_counts.index, topic_counts.values)\n",
    "plt.xlabel('Dominant Topic')\n",
    "plt.ylabel('Count')\n",
    "plt.title('Distribution of Dominant Topics on Selected Dates')\n",
    "plt.show()"
   ]
  },
  {
   "cell_type": "markdown",
   "id": "0fcdbecd",
   "metadata": {},
   "source": [
    "- Most discussed topic on this date is Topic 6: Impact on Education and Academics"
   ]
  },
  {
   "cell_type": "markdown",
   "id": "0b42f48d",
   "metadata": {},
   "source": [
    "#### Worldwide Change of Sentiment over Time"
   ]
  },
  {
   "cell_type": "code",
   "execution_count": null,
   "id": "005fa7ee",
   "metadata": {},
   "outputs": [],
   "source": [
    "import plotly.express as px\n",
    "\n",
    "# Group the data by location and date\n",
    "grouped = df.groupby(['country', 'Date'])['sentiment'].value_counts(normalize=True).rename('prop').reset_index()\n",
    "\n",
    "\n",
    "# Get the rows that contain the maximum sentiment proportion for each location and date\n",
    "max_sentiment = grouped.groupby(['country', 'Date'])['prop'].max().reset_index()\n",
    "max_sentiment = max_sentiment.merge(grouped, on=['country', 'Date', 'prop'])\n",
    "\n",
    "# Create a choropleth map\n",
    "fig = px.choropleth(max_sentiment, locations='country', locationmode='country names', color='sentiment', \n",
    "                    animation_frame='Date', animation_group='country', range_color=[0,1], \n",
    "                    color_discrete_map={'positive':'green', 'negative':'red', 'neutral':'gray'},\n",
    "                    labels={'Sentiment':'Sentiment Proportion'})\n",
    "\n",
    "# Set the width and height of the figure\n",
    "fig.update_layout(width=1000, height=600)\n",
    "\n",
    "# Show the map\n",
    "fig.show()"
   ]
  },
  {
   "cell_type": "markdown",
   "id": "3d78573f",
   "metadata": {},
   "source": [
    "#### Regional differences in sentiment: \n",
    "- It's important to note that regional differences in sentiment may be influenced by a variety of factors, including cultural norms, political climate, and economic conditions. \n",
    "- However, based on the analysis we've done, it seems that the United States, Canada, Australia and India have had more negative sentiment expressed in tweets over time compared to other countries. \n",
    "- On the other hand, South American and South African countries have tweeted more positively and neutrally."
   ]
  },
  {
   "cell_type": "markdown",
   "id": "4787bab9",
   "metadata": {},
   "source": [
    "### Topicwise Sentiment Analysis"
   ]
  },
  {
   "cell_type": "code",
   "execution_count": null,
   "id": "76435c42",
   "metadata": {},
   "outputs": [],
   "source": [
    "# group data by topic and sentiment\n",
    "grouped_df = df.groupby(['Dominant_Topic','Topic_Name', 'sentiment']).size().reset_index(name='count')\n",
    "\n",
    "# create subplots\n",
    "fig, axs = plt.subplots(nrows=4, ncols=2, figsize=(16,16))\n",
    "fig.suptitle('Sentiment Analysis for Each Topic')\n",
    "\n",
    "# plot each topic\n",
    "for i, (topic, topic_df) in enumerate(grouped_df.groupby('Dominant_Topic')):\n",
    "    ax = axs[i//2, i%2]  # select the right subplot\n",
    "    topic_name = topic_df.iloc[0]['Topic_Name']\n",
    "    ax.set_title(f'Topic {topic}: {topic_name}')\n",
    "    topic_df.plot(kind='bar', x='sentiment', y='count', ax=ax)\n",
    "    ax.set_xlabel('Sentiment')\n",
    "    ax.set_ylabel('Count')\n",
    "\n",
    "plt.tight_layout()\n",
    "plt.show()"
   ]
  },
  {
   "cell_type": "markdown",
   "id": "17b9408e",
   "metadata": {},
   "source": [
    "- Topic Number: Topic Name: More number of tweets\n",
    "- Topic 1: Competition of Search Engines : Neutral \n",
    "- Topic 2: Conversational AI and Bias in Data: Positive \n",
    "- Topic 3: Future of Technology and Impact on Career: Positive and Neutral\n",
    "- Topic 4: Writing Styles and prompts : Positive\n",
    "- Topic 5: Content Creation and Ideas Generation: Positive\n",
    "- Topic 6: Impact on Education and Academia: Positive\n",
    "- Topic 7: Programming and Gaming: Positive and Neutral\n",
    "- Topic 8: Natural Language Processing: Positive"
   ]
  },
  {
   "cell_type": "markdown",
   "id": "bf701dca",
   "metadata": {},
   "source": [
    "Comparitively More number of negative tweets related to Chat GPT are on \n",
    "1. Impact on Education and Academia\n",
    "2. Conversational AI and Bias in Data\n",
    "3. Future of Technology and Impact on Career"
   ]
  },
  {
   "cell_type": "code",
   "execution_count": null,
   "id": "f6e6d33c",
   "metadata": {},
   "outputs": [],
   "source": [
    "# create subplots\n",
    "fig, axs = plt.subplots(nrows=4, ncols=2, figsize=(16,16))\n",
    "fig.suptitle('Sentiment Analysis of verified status for Each Topic')\n",
    "\n",
    "# plot each topic\n",
    "for i, (topic, topic_df) in enumerate(grouped_df.groupby('Dominant_Topic')):\n",
    "    ax = axs[i//2, i%2]  # select the right subplot\n",
    "    topic_name = topic_df.iloc[0]['Topic_Name']\n",
    "    ax.set_title(f'Topic {topic}: {topic_name}')\n",
    "    topic_count = topic_df['count'].sum()\n",
    "    topic_df['proportion'] = topic_df['count'] / topic_count\n",
    "    topic_df.plot(kind='pie', y='proportion', labels=topic_df['sentiment'], autopct='%1.1f%%', ax=ax)\n",
    "    ax.set_xlabel('Sentiment Proportion')\n",
    "    ax.set_ylabel('')\n",
    "\n",
    "plt.tight_layout()\n",
    "plt.show()"
   ]
  },
  {
   "cell_type": "markdown",
   "id": "5125dc99",
   "metadata": {},
   "source": [
    "## Topics mostly discussed by verified status"
   ]
  },
  {
   "cell_type": "code",
   "execution_count": null,
   "id": "15092c1f",
   "metadata": {},
   "outputs": [],
   "source": [
    "import seaborn as sns\n",
    "\n",
    "verified_df  = df[df['IsVerified_True'] == 1]\n",
    "topic_df = verified_df.groupby(['Dominant_Topic', 'Topic_Name']).size().reset_index(name='count')\n",
    "\n",
    "# Sort the data by count in descending order\n",
    "topic_df = topic_df.sort_values('count', ascending=False)\n",
    "\n",
    "# Create a bar plot of the topic counts\n",
    "plt.bar(x=topic_df['Topic_Name'], height=topic_df['count'])\n",
    "plt.xticks(rotation=90)\n",
    "plt.xlabel('Topic Name')\n",
    "plt.ylabel('Topic Count')\n",
    "plt.title('Topic Counts')\n",
    "plt.show()"
   ]
  },
  {
   "cell_type": "code",
   "execution_count": null,
   "id": "7a7a666f",
   "metadata": {},
   "outputs": [],
   "source": [
    "# group data by topic and sentiment\n",
    "sentiment_df = verified_df.groupby(['Dominant_Topic','Topic_Name', 'sentiment']).size().reset_index(name='count')\n",
    "\n",
    "# create subplots\n",
    "fig, axs = plt.subplots(nrows=4, ncols=2, figsize=(16,16))\n",
    "fig.suptitle('Sentiment Analysis of verified status for Each Topic')\n",
    "\n",
    "# plot each topic\n",
    "for i, (topic, topic_df) in enumerate(sentiment_df.groupby('Dominant_Topic')):\n",
    "    ax = axs[i//2, i%2]  # select the right subplot\n",
    "    topic_name = topic_df.iloc[0]['Topic_Name']\n",
    "    ax.set_title(f'Topic {topic}: {topic_name}')\n",
    "    topic_df.plot(kind='bar', x='sentiment', y='count', ax=ax)\n",
    "    ax.set_xlabel('Sentiment')\n",
    "    ax.set_ylabel('Count')\n",
    "\n",
    "plt.tight_layout()\n",
    "plt.show()"
   ]
  },
  {
   "cell_type": "code",
   "execution_count": null,
   "id": "45f5d8c9",
   "metadata": {},
   "outputs": [],
   "source": [
    "# create subplots\n",
    "fig, axs = plt.subplots(nrows=4, ncols=2, figsize=(16,16))\n",
    "fig.suptitle('Sentiment Analysis of verified status for Each Topic')\n",
    "\n",
    "# plot each topic\n",
    "for i, (topic, topic_df) in enumerate(sentiment_df.groupby('Dominant_Topic')):\n",
    "    ax = axs[i//2, i%2]  # select the right subplot\n",
    "    topic_name = topic_df.iloc[0]['Topic_Name']\n",
    "    ax.set_title(f'Topic {topic}: {topic_name}')\n",
    "    topic_count = topic_df['count'].sum()\n",
    "    topic_df['proportion'] = topic_df['count'] / topic_count\n",
    "    topic_df.plot(kind='pie', y='proportion', labels=topic_df['sentiment'], autopct='%1.1f%%', ax=ax)\n",
    "    ax.set_xlabel('Sentiment Proportion')\n",
    "    ax.set_ylabel('')\n",
    "\n",
    "plt.tight_layout()\n",
    "plt.show()"
   ]
  },
  {
   "cell_type": "markdown",
   "id": "35dd4a0f",
   "metadata": {},
   "source": [
    "### Location wise topics mostly discussed"
   ]
  },
  {
   "cell_type": "code",
   "execution_count": null,
   "id": "09cca0b6",
   "metadata": {},
   "outputs": [],
   "source": [
    "import seaborn as sns\n",
    "\n",
    "# Define the top 6 locations\n",
    "top_locations = df['country'].value_counts().nlargest(6).index.tolist()\n",
    "df_top = df[df['country'].isin(top_locations)]\n",
    "# Group the data by location and dominant topic\n",
    "grouped = df_top.groupby(['country', 'Dominant_Topic', 'Topic_Name']).size().reset_index(name='Count')\n",
    "\n",
    "# Create the grid of plots\n",
    "g = sns.catplot(x='Dominant_Topic', y='Count', hue='Dominant_Topic', col='country', \n",
    "                data=grouped, kind='bar', height=4, aspect=1.2, \n",
    "                col_wrap=3, palette='bright')\n",
    "\n",
    "# Set the title for each subplot\n",
    "for ax in g.axes.flat:\n",
    "    ax.set_title(f\"Topics discussed in {ax.get_title()}\")\n",
    "    ax.set_xlabel('Topics')\n",
    "    ax.set_ylabel('Count')\n",
    "\n",
    "# Adjust the layout and display the plot\n",
    "#plt.tight_layout()\n",
    "plt.show()"
   ]
  },
  {
   "cell_type": "code",
   "execution_count": null,
   "id": "f4b7b91b",
   "metadata": {},
   "outputs": [],
   "source": []
  }
 ],
 "metadata": {
  "kernelspec": {
   "display_name": "Python 3 (ipykernel)",
   "language": "python",
   "name": "python3"
  },
  "language_info": {
   "codemirror_mode": {
    "name": "ipython",
    "version": 3
   },
   "file_extension": ".py",
   "mimetype": "text/x-python",
   "name": "python",
   "nbconvert_exporter": "python",
   "pygments_lexer": "ipython3",
   "version": "3.8.8"
  }
 },
 "nbformat": 4,
 "nbformat_minor": 5
}
